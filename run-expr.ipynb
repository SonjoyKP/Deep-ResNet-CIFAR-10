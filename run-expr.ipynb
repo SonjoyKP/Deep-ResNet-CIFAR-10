{
 "cells": [
  {
   "cell_type": "code",
   "execution_count": 1,
   "metadata": {},
   "outputs": [],
   "source": [
    "import os\n",
    "import torch\n",
    "from DataReader import load_data, train_vaild_split\n",
    "from Model import Cifar\n",
    "\n",
    "def run_experiment(batch_size, save_interval, weight_decay, learning_rate, modeldir, use_residual, use_bn, device):\n",
    "    # Set up config\n",
    "    class Config:\n",
    "        def __init__(self):\n",
    "            self.batch_size = batch_size\n",
    "            self.save_interval = save_interval\n",
    "            self.weight_decay = weight_decay\n",
    "            self.lr = learning_rate\n",
    "            self.modeldir = modeldir\n",
    "            self.use_residual = use_residual\n",
    "            self.use_bn = use_bn\n",
    "            self.device = device\n",
    "    \n",
    "    config = Config()\n",
    "    \n",
    "    # Load and split data\n",
    "    data_dir = \"/home/grads/s/skpaul/Deep-ResNet-CIFAR-10/dataset/cifar-10-batches-py\"\n",
    "    x_train, y_train, x_test, y_test = load_data(data_dir)\n",
    "    x_train_new, y_train_new, x_valid, y_valid = train_vaild_split(x_train, y_train)\n",
    "\n",
    "    # Initialize and train the model\n",
    "    model = Cifar(config).to(device)\n",
    "    print(f\"\\n--- Training with learning rate {learning_rate}, Residual: {use_residual}, BatchNorm: {use_bn} ---\")\n",
    "    model.train(x_train_new, y_train_new, 100)\n",
    "\n",
    "    # Validate and test\n",
    "    print(\"\\n--- Validation ---\")\n",
    "    model.test_or_validate(x_valid, y_valid, [80, 90, 100])\n",
    "    print(\"\\n--- Test ---\")\n",
    "    model.test_or_validate(x_test, y_test, [100])"
   ]
  },
  {
   "cell_type": "code",
   "execution_count": 2,
   "metadata": {},
   "outputs": [
    {
     "name": "stdout",
     "output_type": "stream",
     "text": [
      "\n",
      "--- Training with learning rate 0.003, Residual: True, BatchNorm: False ---\n",
      "### Training... ###\n",
      "Epoch 1 Loss 1.457725 Duration 10.380 seconds.\n",
      "Epoch 2 Loss 1.202465 Duration 10.323 seconds.\n",
      "Epoch 3 Loss 1.155952 Duration 10.270 seconds.\n",
      "Epoch 4 Loss 1.040071 Duration 10.329 seconds.\n",
      "Epoch 5 Loss 0.771423 Duration 10.488 seconds.\n",
      "Epoch 6 Loss 0.841797 Duration 9.964 seconds.\n",
      "Epoch 7 Loss 0.911194 Duration 10.571 seconds.\n",
      "Epoch 8 Loss 0.749325 Duration 10.378 seconds.\n",
      "Epoch 9 Loss 0.760153 Duration 10.140 seconds.\n",
      "Epoch 10 Loss 0.688881 Duration 10.375 seconds.\n",
      "Checkpoint has been created.\n",
      "Epoch 11 Loss 0.844737 Duration 10.032 seconds.\n",
      "Epoch 12 Loss 0.638624 Duration 9.769 seconds.\n",
      "Epoch 13 Loss 0.569806 Duration 9.830 seconds.\n",
      "Epoch 14 Loss 0.720936 Duration 9.866 seconds.\n",
      "Epoch 15 Loss 0.486347 Duration 10.206 seconds.\n",
      "Epoch 16 Loss 0.517122 Duration 10.361 seconds.\n",
      "Epoch 17 Loss 0.583052 Duration 10.224 seconds.\n",
      "Epoch 18 Loss 0.544592 Duration 10.191 seconds.\n",
      "Epoch 19 Loss 0.497010 Duration 10.148 seconds.\n",
      "Epoch 20 Loss 0.463158 Duration 9.838 seconds.\n",
      "Checkpoint has been created.\n",
      "Epoch 21 Loss 0.592308 Duration 10.266 seconds.\n",
      "Epoch 22 Loss 0.605576 Duration 10.093 seconds.\n",
      "Epoch 23 Loss 0.498744 Duration 10.420 seconds.\n",
      "Epoch 24 Loss 0.437962 Duration 10.381 seconds.\n",
      "Epoch 25 Loss 0.575177 Duration 10.515 seconds.\n",
      "Epoch 26 Loss 0.528328 Duration 10.389 seconds.\n",
      "Epoch 27 Loss 0.366438 Duration 10.469 seconds.\n",
      "Epoch 28 Loss 0.544236 Duration 10.291 seconds.\n",
      "Epoch 29 Loss 0.448771 Duration 10.307 seconds.\n",
      "Epoch 30 Loss 0.485819 Duration 10.468 seconds.\n",
      "Checkpoint has been created.\n",
      "Epoch 31 Loss 0.358095 Duration 10.539 seconds.\n",
      "Epoch 32 Loss 0.373280 Duration 10.953 seconds.\n",
      "Epoch 33 Loss 0.414968 Duration 10.690 seconds.\n",
      "Epoch 34 Loss 0.529615 Duration 10.432 seconds.\n",
      "Epoch 35 Loss 0.288583 Duration 10.096 seconds.\n",
      "Epoch 36 Loss 0.338813 Duration 10.382 seconds.\n",
      "Epoch 37 Loss 0.387471 Duration 10.339 seconds.\n",
      "Epoch 38 Loss 0.368581 Duration 10.275 seconds.\n",
      "Epoch 39 Loss 0.400025 Duration 10.320 seconds.\n",
      "Epoch 40 Loss 0.258191 Duration 10.388 seconds.\n",
      "Checkpoint has been created.\n",
      "Epoch 41 Loss 0.299250 Duration 10.456 seconds.\n",
      "Epoch 42 Loss 0.304746 Duration 10.409 seconds.\n",
      "Epoch 43 Loss 0.241938 Duration 9.817 seconds.\n",
      "Epoch 44 Loss 0.345823 Duration 10.281 seconds.\n",
      "Epoch 45 Loss 0.276440 Duration 10.268 seconds.\n",
      "Epoch 46 Loss 0.291765 Duration 10.259 seconds.\n",
      "Epoch 47 Loss 0.227016 Duration 10.612 seconds.\n",
      "Epoch 48 Loss 0.438222 Duration 9.855 seconds.\n",
      "Epoch 49 Loss 0.304480 Duration 9.893 seconds.\n",
      "Epoch 50 Loss 0.321619 Duration 9.867 seconds.\n",
      "Checkpoint has been created.\n",
      "Epoch 51 Loss 0.234592 Duration 10.252 seconds.\n",
      "Epoch 52 Loss 0.198666 Duration 9.725 seconds.\n",
      "Epoch 53 Loss 0.210251 Duration 10.346 seconds.\n",
      "Epoch 54 Loss 0.165868 Duration 10.129 seconds.\n",
      "Epoch 55 Loss 0.241662 Duration 9.904 seconds.\n",
      "Epoch 56 Loss 0.387176 Duration 9.919 seconds.\n",
      "Epoch 57 Loss 0.187782 Duration 10.304 seconds.\n",
      "Epoch 58 Loss 0.252219 Duration 10.030 seconds.\n",
      "Epoch 59 Loss 0.255189 Duration 10.094 seconds.\n",
      "Epoch 60 Loss 0.227931 Duration 9.870 seconds.\n",
      "Checkpoint has been created.\n",
      "Epoch 61 Loss 0.229810 Duration 10.256 seconds.\n",
      "Epoch 62 Loss 0.174374 Duration 9.978 seconds.\n",
      "Epoch 63 Loss 0.258121 Duration 9.993 seconds.\n",
      "Epoch 64 Loss 0.294476 Duration 10.320 seconds.\n",
      "Epoch 65 Loss 0.162066 Duration 10.307 seconds.\n",
      "Epoch 66 Loss 0.333626 Duration 10.409 seconds.\n",
      "Epoch 67 Loss 0.144301 Duration 10.531 seconds.\n",
      "Epoch 68 Loss 0.213158 Duration 10.179 seconds.\n",
      "Epoch 69 Loss 0.179229 Duration 10.449 seconds.\n",
      "Epoch 70 Loss 0.179924 Duration 10.677 seconds.\n",
      "Checkpoint has been created.\n",
      "Epoch 71 Loss 0.183109 Duration 10.478 seconds.\n",
      "Epoch 72 Loss 0.132347 Duration 10.258 seconds.\n",
      "Epoch 73 Loss 0.155464 Duration 10.149 seconds.\n",
      "Epoch 74 Loss 0.165421 Duration 10.386 seconds.\n",
      "Epoch 75 Loss 0.158484 Duration 10.242 seconds.\n",
      "Epoch 76 Loss 0.232039 Duration 10.095 seconds.\n",
      "Epoch 77 Loss 0.144344 Duration 10.066 seconds.\n",
      "Epoch 78 Loss 0.155742 Duration 10.147 seconds.\n",
      "Epoch 79 Loss 0.135263 Duration 10.123 seconds.\n",
      "Epoch 80 Loss 0.167798 Duration 9.936 seconds.\n",
      "Checkpoint has been created.\n",
      "Epoch 81 Loss 0.133776 Duration 10.137 seconds.\n",
      "Epoch 82 Loss 0.182186 Duration 9.824 seconds.\n",
      "Epoch 83 Loss 0.148675 Duration 10.385 seconds.\n",
      "Epoch 84 Loss 0.102407 Duration 10.237 seconds.\n",
      "Epoch 85 Loss 0.101139 Duration 9.967 seconds.\n",
      "Epoch 86 Loss 0.176579 Duration 10.013 seconds.\n",
      "Epoch 87 Loss 0.090089 Duration 10.056 seconds.\n",
      "Epoch 88 Loss 0.099295 Duration 10.169 seconds.\n",
      "Epoch 89 Loss 0.142930 Duration 10.290 seconds.\n",
      "Epoch 90 Loss 0.074346 Duration 10.075 seconds.\n",
      "Checkpoint has been created.\n",
      "Epoch 91 Loss 0.106530 Duration 9.828 seconds.\n",
      "Epoch 92 Loss 0.093461 Duration 10.374 seconds.\n",
      "Epoch 93 Loss 0.139621 Duration 10.246 seconds.\n",
      "Epoch 94 Loss 0.125517 Duration 9.954 seconds.\n",
      "Epoch 95 Loss 0.072569 Duration 10.070 seconds.\n",
      "Epoch 96 Loss 0.089626 Duration 10.190 seconds.\n",
      "Epoch 97 Loss 0.225691 Duration 9.733 seconds.\n",
      "Epoch 98 Loss 0.068016 Duration 9.559 seconds.\n",
      "Epoch 99 Loss 0.054315 Duration 9.924 seconds.\n",
      "Epoch 100 Loss 0.070814 Duration 10.075 seconds.\n",
      "Checkpoint has been created.\n"
     ]
    },
    {
     "data": {
      "image/png": "[encoded data removed]",
      "text/plain": [
       "<Figure size 640x480 with 1 Axes>"
      ]
     },
     "metadata": {},
     "output_type": "display_data"
    },
    {
     "name": "stderr",
     "output_type": "stream",
     "text": [
      "/home/grads/s/skpaul/Deep-ResNet-CIFAR-10/ResNet/Model.py:128: FutureWarning: You are using `torch.load` with `weights_only=False` (the current default value), which uses the default pickle module implicitly. It is possible to construct malicious pickle data which will execute arbitrary code during unpickling (See https://github.com/pytorch/pytorch/blob/main/SECURITY.md#untrusted-models for more details). In a future release, the default value for `weights_only` will be flipped to `True`. This limits the functions that could be executed during unpickling. Arbitrary objects will no longer be allowed to be loaded via this mode unless they are explicitly allowlisted by the user via `torch.serialization.add_safe_globals`. We recommend you start setting `weights_only=True` for any use case where you don't have full control of the loaded file. Please open an issue on GitHub for any issues related to this experimental feature.\n",
      "  ckpt = torch.load(checkpoint_name, map_location=self.config.device)\n"
     ]
    },
    {
     "name": "stdout",
     "output_type": "stream",
     "text": [
      "\n",
      "--- Validation ---\n",
      "### Test or Validation ###\n",
      "Restored model parameters from models/resnet18_no_bn/0.003/model-80.ckpt\n"
     ]
    },
    {
     "name": "stderr",
     "output_type": "stream",
     "text": [
      "100%|██████████| 5000/5000 [00:05<00:00, 923.60it/s]\n"
     ]
    },
    {
     "name": "stdout",
     "output_type": "stream",
     "text": [
      "Checkpoint 80 Test accuracy: 0.8330\n",
      "Restored model parameters from models/resnet18_no_bn/0.003/model-90.ckpt\n"
     ]
    },
    {
     "name": "stderr",
     "output_type": "stream",
     "text": [
      "100%|██████████| 5000/5000 [00:05<00:00, 883.63it/s]\n"
     ]
    },
    {
     "name": "stdout",
     "output_type": "stream",
     "text": [
      "Checkpoint 90 Test accuracy: 0.8380\n",
      "Restored model parameters from models/resnet18_no_bn/0.003/model-100.ckpt\n"
     ]
    },
    {
     "name": "stderr",
     "output_type": "stream",
     "text": [
      "100%|██████████| 5000/5000 [00:05<00:00, 900.96it/s]\n"
     ]
    },
    {
     "name": "stdout",
     "output_type": "stream",
     "text": [
      "Checkpoint 100 Test accuracy: 0.8454\n",
      "\n",
      "--- Test ---\n",
      "### Test or Validation ###\n",
      "Restored model parameters from models/resnet18_no_bn/0.003/model-100.ckpt\n"
     ]
    },
    {
     "name": "stderr",
     "output_type": "stream",
     "text": [
      "100%|██████████| 10000/10000 [00:11<00:00, 895.19it/s]\n"
     ]
    },
    {
     "name": "stdout",
     "output_type": "stream",
     "text": [
      "Checkpoint 100 Test accuracy: 0.8368\n",
      "\n",
      "--- Training with learning rate 0.01, Residual: True, BatchNorm: False ---\n",
      "### Training... ###\n",
      "Epoch 1 Loss 1.662710 Duration 10.333 seconds.\n",
      "Epoch 2 Loss 1.495275 Duration 10.171 seconds.\n",
      "Epoch 3 Loss 1.195609 Duration 10.192 seconds.\n",
      "Epoch 4 Loss 1.273158 Duration 10.254 seconds.\n",
      "Epoch 5 Loss 1.069239 Duration 10.267 seconds.\n",
      "Epoch 6 Loss 1.203536 Duration 10.215 seconds.\n",
      "Epoch 7 Loss 0.996467 Duration 9.880 seconds.\n",
      "Epoch 8 Loss 0.972214 Duration 10.095 seconds.\n",
      "Epoch 9 Loss 1.042226 Duration 10.007 seconds.\n",
      "Epoch 10 Loss 1.046651 Duration 9.867 seconds.\n",
      "Checkpoint has been created.\n",
      "Epoch 11 Loss 0.896986 Duration 10.069 seconds.\n",
      "Epoch 12 Loss 0.770283 Duration 10.037 seconds.\n",
      "Epoch 13 Loss 1.013260 Duration 9.797 seconds.\n",
      "Epoch 14 Loss 0.821909 Duration 9.968 seconds.\n",
      "Epoch 15 Loss 0.914058 Duration 9.829 seconds.\n",
      "Epoch 16 Loss 0.990866 Duration 10.226 seconds.\n",
      "Epoch 17 Loss 0.772777 Duration 9.849 seconds.\n",
      "Epoch 18 Loss 0.765801 Duration 10.104 seconds.\n",
      "Epoch 19 Loss 0.785826 Duration 10.065 seconds.\n",
      "Epoch 20 Loss 0.768588 Duration 9.711 seconds.\n",
      "Checkpoint has been created.\n",
      "Epoch 21 Loss 0.800226 Duration 10.088 seconds.\n",
      "Epoch 22 Loss 0.854381 Duration 9.869 seconds.\n",
      "Epoch 23 Loss 0.728740 Duration 9.943 seconds.\n",
      "Epoch 24 Loss 0.658825 Duration 10.005 seconds.\n",
      "Epoch 25 Loss 0.868402 Duration 10.027 seconds.\n",
      "Epoch 26 Loss 0.901274 Duration 9.933 seconds.\n",
      "Epoch 27 Loss 0.800714 Duration 9.869 seconds.\n",
      "Epoch 28 Loss 0.787766 Duration 9.729 seconds.\n",
      "Epoch 29 Loss 0.686572 Duration 10.204 seconds.\n",
      "Epoch 30 Loss 0.624225 Duration 10.097 seconds.\n",
      "Checkpoint has been created.\n",
      "Epoch 31 Loss 0.721336 Duration 9.998 seconds.\n",
      "Epoch 32 Loss 0.598129 Duration 10.320 seconds.\n",
      "Epoch 33 Loss 0.649931 Duration 10.362 seconds.\n",
      "Epoch 34 Loss 0.521924 Duration 10.494 seconds.\n",
      "Epoch 35 Loss 0.599142 Duration 10.076 seconds.\n",
      "Epoch 36 Loss 0.582184 Duration 10.121 seconds.\n",
      "Epoch 37 Loss 0.505042 Duration 9.826 seconds.\n",
      "Epoch 38 Loss 0.730869 Duration 10.393 seconds.\n",
      "Epoch 39 Loss 0.551232 Duration 10.174 seconds.\n",
      "Epoch 40 Loss 0.512722 Duration 10.439 seconds.\n",
      "Checkpoint has been created.\n",
      "Epoch 41 Loss 0.570985 Duration 10.352 seconds.\n",
      "Epoch 42 Loss 0.699859 Duration 10.177 seconds.\n",
      "Epoch 43 Loss 0.489874 Duration 9.999 seconds.\n",
      "Epoch 44 Loss 0.382089 Duration 9.764 seconds.\n",
      "Epoch 45 Loss 0.541603 Duration 10.406 seconds.\n",
      "Epoch 46 Loss 0.529335 Duration 9.962 seconds.\n",
      "Epoch 47 Loss 0.514802 Duration 10.047 seconds.\n",
      "Epoch 48 Loss 0.576433 Duration 10.202 seconds.\n",
      "Epoch 49 Loss 0.536744 Duration 10.175 seconds.\n",
      "Epoch 50 Loss 0.581408 Duration 9.772 seconds.\n",
      "Checkpoint has been created.\n",
      "Epoch 51 Loss 0.605668 Duration 9.767 seconds.\n",
      "Epoch 52 Loss 0.431562 Duration 10.254 seconds.\n",
      "Epoch 53 Loss 0.347550 Duration 10.482 seconds.\n",
      "Epoch 54 Loss 0.484447 Duration 10.477 seconds.\n",
      "Epoch 55 Loss 0.536433 Duration 10.695 seconds.\n",
      "Epoch 56 Loss 0.350746 Duration 10.105 seconds.\n",
      "Epoch 57 Loss 0.504196 Duration 10.269 seconds.\n",
      "Epoch 58 Loss 0.415759 Duration 10.183 seconds.\n",
      "Epoch 59 Loss 0.445397 Duration 10.003 seconds.\n",
      "Epoch 60 Loss 0.376088 Duration 9.992 seconds.\n",
      "Checkpoint has been created.\n",
      "Epoch 61 Loss 0.607249 Duration 10.298 seconds.\n",
      "Epoch 62 Loss 0.459241 Duration 9.789 seconds.\n",
      "Epoch 63 Loss 0.341581 Duration 10.033 seconds.\n",
      "Epoch 64 Loss 0.294521 Duration 10.393 seconds.\n",
      "Epoch 65 Loss 0.567962 Duration 10.231 seconds.\n",
      "Epoch 66 Loss 0.457466 Duration 10.446 seconds.\n",
      "Epoch 67 Loss 0.497337 Duration 10.109 seconds.\n",
      "Epoch 68 Loss 0.455961 Duration 9.772 seconds.\n",
      "Epoch 69 Loss 0.543691 Duration 10.136 seconds.\n",
      "Epoch 70 Loss 0.569204 Duration 10.141 seconds.\n",
      "Checkpoint has been created.\n",
      "Epoch 71 Loss 0.422308 Duration 10.184 seconds.\n",
      "Epoch 72 Loss 0.362644 Duration 10.232 seconds.\n",
      "Epoch 73 Loss 0.442669 Duration 10.125 seconds.\n",
      "Epoch 74 Loss 0.521709 Duration 9.852 seconds.\n",
      "Epoch 75 Loss 0.361355 Duration 9.778 seconds.\n",
      "Epoch 76 Loss 0.433375 Duration 10.182 seconds.\n",
      "Epoch 77 Loss 0.499074 Duration 10.213 seconds.\n",
      "Epoch 78 Loss 0.436984 Duration 10.300 seconds.\n",
      "Epoch 79 Loss 0.460864 Duration 10.155 seconds.\n",
      "Epoch 80 Loss 0.403431 Duration 10.611 seconds.\n",
      "Checkpoint has been created.\n",
      "Epoch 81 Loss 0.537988 Duration 10.455 seconds.\n",
      "Epoch 82 Loss 0.444283 Duration 10.184 seconds.\n",
      "Epoch 83 Loss 0.326529 Duration 10.429 seconds.\n",
      "Epoch 84 Loss 0.437835 Duration 10.210 seconds.\n",
      "Epoch 85 Loss 0.285790 Duration 10.542 seconds.\n",
      "Epoch 86 Loss 0.421830 Duration 9.939 seconds.\n",
      "Epoch 87 Loss 0.365457 Duration 9.903 seconds.\n",
      "Epoch 88 Loss 0.376184 Duration 10.000 seconds.\n",
      "Epoch 89 Loss 0.368836 Duration 10.209 seconds.\n",
      "Epoch 90 Loss 0.426106 Duration 9.990 seconds.\n",
      "Checkpoint has been created.\n",
      "Epoch 91 Loss 0.370733 Duration 10.155 seconds.\n",
      "Epoch 92 Loss 0.471758 Duration 10.059 seconds.\n",
      "Epoch 93 Loss 0.343593 Duration 9.956 seconds.\n",
      "Epoch 94 Loss 0.338172 Duration 9.872 seconds.\n",
      "Epoch 95 Loss 0.307554 Duration 9.990 seconds.\n",
      "Epoch 96 Loss 0.261396 Duration 9.955 seconds.\n",
      "Epoch 97 Loss 0.403763 Duration 10.072 seconds.\n",
      "Epoch 98 Loss 0.430515 Duration 9.872 seconds.\n",
      "Epoch 99 Loss 0.242373 Duration 10.072 seconds.\n",
      "Epoch 100 Loss 0.285470 Duration 10.042 seconds.\n",
      "Checkpoint has been created.\n"
     ]
    },
    {
     "data": {
      "image/png": "[encoded data removed]",
      "text/plain": [
       "<Figure size 640x480 with 1 Axes>"
      ]
     },
     "metadata": {},
     "output_type": "display_data"
    },
    {
     "name": "stdout",
     "output_type": "stream",
     "text": [
      "\n",
      "--- Validation ---\n",
      "### Test or Validation ###\n",
      "Restored model parameters from models/resnet18_no_bn/0.01/model-80.ckpt\n"
     ]
    },
    {
     "name": "stderr",
     "output_type": "stream",
     "text": [
      "100%|██████████| 5000/5000 [00:05<00:00, 891.52it/s]\n"
     ]
    },
    {
     "name": "stdout",
     "output_type": "stream",
     "text": [
      "Checkpoint 80 Test accuracy: 0.8016\n",
      "Restored model parameters from models/resnet18_no_bn/0.01/model-90.ckpt\n"
     ]
    },
    {
     "name": "stderr",
     "output_type": "stream",
     "text": [
      "100%|██████████| 5000/5000 [00:05<00:00, 883.30it/s]\n"
     ]
    },
    {
     "name": "stdout",
     "output_type": "stream",
     "text": [
      "Checkpoint 90 Test accuracy: 0.8060\n",
      "Restored model parameters from models/resnet18_no_bn/0.01/model-100.ckpt\n"
     ]
    },
    {
     "name": "stderr",
     "output_type": "stream",
     "text": [
      "100%|██████████| 5000/5000 [00:05<00:00, 883.46it/s]\n"
     ]
    },
    {
     "name": "stdout",
     "output_type": "stream",
     "text": [
      "Checkpoint 100 Test accuracy: 0.8134\n",
      "\n",
      "--- Test ---\n",
      "### Test or Validation ###\n",
      "Restored model parameters from models/resnet18_no_bn/0.01/model-100.ckpt\n"
     ]
    },
    {
     "name": "stderr",
     "output_type": "stream",
     "text": [
      "100%|██████████| 10000/10000 [00:11<00:00, 886.90it/s]\n"
     ]
    },
    {
     "name": "stdout",
     "output_type": "stream",
     "text": [
      "Checkpoint 100 Test accuracy: 0.8105\n",
      "\n",
      "--- Training with learning rate 0.03, Residual: True, BatchNorm: False ---\n",
      "### Training... ###\n",
      "Epoch 1 Loss 1.944402 Duration 10.311 seconds.\n",
      "Epoch 2 Loss 1.711124 Duration 10.265 seconds.\n",
      "Epoch 3 Loss 1.339812 Duration 10.484 seconds.\n",
      "Epoch 4 Loss 1.492732 Duration 10.300 seconds.\n",
      "Epoch 5 Loss 1.330876 Duration 9.940 seconds.\n",
      "Epoch 6 Loss 1.460463 Duration 10.350 seconds.\n",
      "Epoch 7 Loss 1.392485 Duration 9.963 seconds.\n",
      "Epoch 8 Loss 1.545137 Duration 10.182 seconds.\n",
      "Epoch 9 Loss 1.245905 Duration 10.443 seconds.\n",
      "Epoch 10 Loss 1.160064 Duration 10.191 seconds.\n",
      "Checkpoint has been created.\n",
      "Epoch 11 Loss 1.171553 Duration 10.308 seconds.\n",
      "Epoch 12 Loss 1.166213 Duration 10.478 seconds.\n",
      "Epoch 13 Loss 1.087600 Duration 10.375 seconds.\n",
      "Epoch 14 Loss 1.197936 Duration 10.285 seconds.\n",
      "Epoch 15 Loss 1.183339 Duration 10.124 seconds.\n",
      "Epoch 16 Loss 1.158698 Duration 10.184 seconds.\n",
      "Epoch 17 Loss 1.190701 Duration 10.199 seconds.\n",
      "Epoch 18 Loss 1.440003 Duration 10.016 seconds.\n",
      "Epoch 19 Loss 1.042656 Duration 10.345 seconds.\n",
      "Epoch 20 Loss 1.128883 Duration 10.189 seconds.\n",
      "Checkpoint has been created.\n",
      "Epoch 21 Loss 0.981459 Duration 10.429 seconds.\n",
      "Epoch 22 Loss 1.314161 Duration 9.964 seconds.\n",
      "Epoch 23 Loss 1.034747 Duration 10.206 seconds.\n",
      "Epoch 24 Loss 0.987957 Duration 10.162 seconds.\n",
      "Epoch 25 Loss 1.127638 Duration 9.739 seconds.\n",
      "Epoch 26 Loss 1.145246 Duration 10.669 seconds.\n",
      "Epoch 27 Loss 1.050810 Duration 10.551 seconds.\n",
      "Epoch 28 Loss 1.312288 Duration 10.878 seconds.\n",
      "Epoch 29 Loss 1.117314 Duration 10.402 seconds.\n",
      "Epoch 30 Loss 1.011334 Duration 9.929 seconds.\n",
      "Checkpoint has been created.\n",
      "Epoch 31 Loss 0.929120 Duration 10.134 seconds.\n",
      "Epoch 32 Loss 1.052804 Duration 10.267 seconds.\n",
      "Epoch 33 Loss 0.993831 Duration 10.341 seconds.\n",
      "Epoch 34 Loss 1.087232 Duration 10.305 seconds.\n",
      "Epoch 35 Loss 0.907544 Duration 10.227 seconds.\n",
      "Epoch 36 Loss 0.982333 Duration 9.992 seconds.\n",
      "Epoch 37 Loss 1.142268 Duration 10.243 seconds.\n",
      "Epoch 38 Loss 0.983781 Duration 10.443 seconds.\n",
      "Epoch 39 Loss 0.964640 Duration 10.334 seconds.\n",
      "Epoch 40 Loss 1.063358 Duration 10.548 seconds.\n",
      "Checkpoint has been created.\n",
      "Epoch 41 Loss 1.037744 Duration 10.159 seconds.\n",
      "Epoch 42 Loss 0.882316 Duration 10.177 seconds.\n",
      "Epoch 43 Loss 0.922713 Duration 10.241 seconds.\n",
      "Epoch 44 Loss 1.081281 Duration 9.839 seconds.\n",
      "Epoch 45 Loss 0.969096 Duration 10.140 seconds.\n",
      "Epoch 46 Loss 0.903656 Duration 9.976 seconds.\n",
      "Epoch 47 Loss 0.867976 Duration 10.155 seconds.\n",
      "Epoch 48 Loss 1.112926 Duration 10.195 seconds.\n",
      "Epoch 49 Loss 0.823903 Duration 9.887 seconds.\n",
      "Epoch 50 Loss 0.858639 Duration 10.486 seconds.\n",
      "Checkpoint has been created.\n",
      "Epoch 51 Loss 0.882398 Duration 9.950 seconds.\n",
      "Epoch 52 Loss 1.038523 Duration 10.076 seconds.\n",
      "Epoch 53 Loss 0.850187 Duration 10.102 seconds.\n",
      "Epoch 54 Loss 0.841807 Duration 9.909 seconds.\n",
      "Epoch 55 Loss 0.827796 Duration 10.010 seconds.\n",
      "Epoch 56 Loss 0.834827 Duration 10.490 seconds.\n",
      "Epoch 57 Loss 1.058711 Duration 10.331 seconds.\n",
      "Epoch 58 Loss 0.984815 Duration 10.384 seconds.\n",
      "Epoch 59 Loss 0.876526 Duration 9.854 seconds.\n",
      "Epoch 60 Loss 0.691960 Duration 9.854 seconds.\n",
      "Checkpoint has been created.\n",
      "Epoch 61 Loss 0.806009 Duration 10.139 seconds.\n",
      "Epoch 62 Loss 0.826463 Duration 10.283 seconds.\n",
      "Epoch 63 Loss 0.811161 Duration 10.444 seconds.\n",
      "Epoch 64 Loss 0.777082 Duration 10.662 seconds.\n",
      "Epoch 65 Loss 0.629429 Duration 10.462 seconds.\n",
      "Epoch 66 Loss 0.820118 Duration 10.436 seconds.\n",
      "Epoch 67 Loss 0.881319 Duration 10.153 seconds.\n",
      "Epoch 68 Loss 0.856361 Duration 10.380 seconds.\n",
      "Epoch 69 Loss 0.746051 Duration 9.721 seconds.\n",
      "Epoch 70 Loss 0.810292 Duration 9.976 seconds.\n",
      "Checkpoint has been created.\n",
      "Epoch 71 Loss 0.599413 Duration 10.176 seconds.\n",
      "Epoch 72 Loss 1.011346 Duration 10.052 seconds.\n",
      "Epoch 73 Loss 0.743665 Duration 10.176 seconds.\n",
      "Epoch 74 Loss 0.821309 Duration 9.746 seconds.\n",
      "Epoch 75 Loss 0.855505 Duration 9.800 seconds.\n",
      "Epoch 76 Loss 0.599298 Duration 9.645 seconds.\n",
      "Epoch 77 Loss 0.673136 Duration 10.075 seconds.\n",
      "Epoch 78 Loss 0.757117 Duration 10.408 seconds.\n",
      "Epoch 79 Loss 0.705765 Duration 9.588 seconds.\n",
      "Epoch 80 Loss 0.762290 Duration 10.447 seconds.\n",
      "Checkpoint has been created.\n",
      "Epoch 81 Loss 0.640879 Duration 9.886 seconds.\n",
      "Epoch 82 Loss 0.562351 Duration 9.946 seconds.\n",
      "Epoch 83 Loss 0.633697 Duration 9.987 seconds.\n",
      "Epoch 84 Loss 0.871221 Duration 9.953 seconds.\n",
      "Epoch 85 Loss 0.732849 Duration 10.268 seconds.\n",
      "Epoch 86 Loss 0.856677 Duration 10.560 seconds.\n",
      "Epoch 87 Loss 0.662307 Duration 9.842 seconds.\n",
      "Epoch 88 Loss 0.714647 Duration 10.374 seconds.\n",
      "Epoch 89 Loss 0.733395 Duration 10.079 seconds.\n",
      "Epoch 90 Loss 0.669208 Duration 9.932 seconds.\n",
      "Checkpoint has been created.\n",
      "Epoch 91 Loss 0.691948 Duration 10.012 seconds.\n",
      "Epoch 92 Loss 0.757095 Duration 9.785 seconds.\n",
      "Epoch 93 Loss 0.690662 Duration 10.232 seconds.\n",
      "Epoch 94 Loss 0.620676 Duration 9.977 seconds.\n",
      "Epoch 95 Loss 0.981000 Duration 10.293 seconds.\n",
      "Epoch 96 Loss 0.763656 Duration 10.517 seconds.\n",
      "Epoch 97 Loss 0.764386 Duration 9.862 seconds.\n",
      "Epoch 98 Loss 0.698237 Duration 9.927 seconds.\n",
      "Epoch 99 Loss 0.501052 Duration 9.922 seconds.\n",
      "Epoch 100 Loss 0.704583 Duration 10.402 seconds.\n",
      "Checkpoint has been created.\n"
     ]
    },
    {
     "data": {
      "image/png": "[encoded data removed]",
      "text/plain": [
       "<Figure size 640x480 with 1 Axes>"
      ]
     },
     "metadata": {},
     "output_type": "display_data"
    },
    {
     "name": "stdout",
     "output_type": "stream",
     "text": [
      "\n",
      "--- Validation ---\n",
      "### Test or Validation ###\n",
      "Restored model parameters from models/resnet18_no_bn/0.03/model-80.ckpt\n"
     ]
    },
    {
     "name": "stderr",
     "output_type": "stream",
     "text": [
      "100%|██████████| 5000/5000 [00:05<00:00, 843.56it/s]\n"
     ]
    },
    {
     "name": "stdout",
     "output_type": "stream",
     "text": [
      "Checkpoint 80 Test accuracy: 0.7108\n",
      "Restored model parameters from models/resnet18_no_bn/0.03/model-90.ckpt\n"
     ]
    },
    {
     "name": "stderr",
     "output_type": "stream",
     "text": [
      "100%|██████████| 5000/5000 [00:05<00:00, 889.01it/s]\n"
     ]
    },
    {
     "name": "stdout",
     "output_type": "stream",
     "text": [
      "Checkpoint 90 Test accuracy: 0.7258\n",
      "Restored model parameters from models/resnet18_no_bn/0.03/model-100.ckpt\n"
     ]
    },
    {
     "name": "stderr",
     "output_type": "stream",
     "text": [
      "100%|██████████| 5000/5000 [00:05<00:00, 882.48it/s]\n"
     ]
    },
    {
     "name": "stdout",
     "output_type": "stream",
     "text": [
      "Checkpoint 100 Test accuracy: 0.7318\n",
      "\n",
      "--- Test ---\n",
      "### Test or Validation ###\n",
      "Restored model parameters from models/resnet18_no_bn/0.03/model-100.ckpt\n"
     ]
    },
    {
     "name": "stderr",
     "output_type": "stream",
     "text": [
      "100%|██████████| 10000/10000 [00:11<00:00, 882.44it/s]\n"
     ]
    },
    {
     "name": "stdout",
     "output_type": "stream",
     "text": [
      "Checkpoint 100 Test accuracy: 0.7159\n",
      "\n",
      "--- Training with learning rate 0.003, Residual: False, BatchNorm: True ---\n",
      "### Training... ###\n",
      "Epoch 1 Loss 1.263025 Duration 9.940 seconds.\n",
      "Epoch 2 Loss 1.092176 Duration 10.729 seconds.\n",
      "Epoch 3 Loss 1.333144 Duration 10.337 seconds.\n",
      "Epoch 4 Loss 0.919361 Duration 10.341 seconds.\n",
      "Epoch 5 Loss 0.990788 Duration 9.939 seconds.\n",
      "Epoch 6 Loss 0.989026 Duration 9.830 seconds.\n",
      "Epoch 7 Loss 0.830233 Duration 10.082 seconds.\n",
      "Epoch 8 Loss 0.873594 Duration 10.000 seconds.\n",
      "Epoch 9 Loss 0.797874 Duration 10.126 seconds.\n",
      "Epoch 10 Loss 0.725255 Duration 10.286 seconds.\n",
      "Checkpoint has been created.\n",
      "Epoch 11 Loss 0.804928 Duration 9.919 seconds.\n",
      "Epoch 12 Loss 0.554461 Duration 10.134 seconds.\n",
      "Epoch 13 Loss 0.768791 Duration 10.154 seconds.\n",
      "Epoch 14 Loss 0.746103 Duration 10.208 seconds.\n",
      "Epoch 15 Loss 0.712914 Duration 10.461 seconds.\n",
      "Epoch 16 Loss 0.627964 Duration 10.072 seconds.\n",
      "Epoch 17 Loss 0.707806 Duration 10.542 seconds.\n",
      "Epoch 18 Loss 0.456524 Duration 9.682 seconds.\n",
      "Epoch 19 Loss 0.545664 Duration 9.984 seconds.\n",
      "Epoch 20 Loss 0.479107 Duration 10.034 seconds.\n",
      "Checkpoint has been created.\n",
      "Epoch 21 Loss 0.406797 Duration 10.150 seconds.\n",
      "Epoch 22 Loss 0.620538 Duration 10.099 seconds.\n",
      "Epoch 23 Loss 0.514387 Duration 9.983 seconds.\n",
      "Epoch 24 Loss 0.453680 Duration 10.269 seconds.\n",
      "Epoch 25 Loss 0.578019 Duration 10.385 seconds.\n",
      "Epoch 26 Loss 0.491839 Duration 10.107 seconds.\n",
      "Epoch 27 Loss 0.503625 Duration 9.833 seconds.\n",
      "Epoch 28 Loss 0.520630 Duration 10.015 seconds.\n",
      "Epoch 29 Loss 0.406477 Duration 10.472 seconds.\n",
      "Epoch 30 Loss 0.507056 Duration 10.415 seconds.\n",
      "Checkpoint has been created.\n",
      "Epoch 31 Loss 0.581317 Duration 10.330 seconds.\n",
      "Epoch 32 Loss 0.318899 Duration 10.132 seconds.\n",
      "Epoch 33 Loss 0.286837 Duration 10.387 seconds.\n",
      "Epoch 34 Loss 0.411774 Duration 9.970 seconds.\n",
      "Epoch 35 Loss 0.453259 Duration 10.054 seconds.\n",
      "Epoch 36 Loss 0.297986 Duration 10.383 seconds.\n",
      "Epoch 37 Loss 0.302891 Duration 10.019 seconds.\n",
      "Epoch 38 Loss 0.400927 Duration 10.085 seconds.\n",
      "Epoch 39 Loss 0.435979 Duration 10.370 seconds.\n",
      "Epoch 40 Loss 0.378315 Duration 10.399 seconds.\n",
      "Checkpoint has been created.\n",
      "Epoch 41 Loss 0.400362 Duration 10.028 seconds.\n",
      "Epoch 42 Loss 0.258915 Duration 10.345 seconds.\n",
      "Epoch 43 Loss 0.363024 Duration 10.005 seconds.\n",
      "Epoch 44 Loss 0.310541 Duration 9.945 seconds.\n",
      "Epoch 45 Loss 0.316374 Duration 10.322 seconds.\n",
      "Epoch 46 Loss 0.251258 Duration 10.582 seconds.\n",
      "Epoch 47 Loss 0.349927 Duration 10.396 seconds.\n",
      "Epoch 48 Loss 0.252789 Duration 10.403 seconds.\n",
      "Epoch 49 Loss 0.362496 Duration 10.407 seconds.\n",
      "Epoch 50 Loss 0.270917 Duration 10.174 seconds.\n",
      "Checkpoint has been created.\n",
      "Epoch 51 Loss 0.139233 Duration 10.154 seconds.\n",
      "Epoch 52 Loss 0.193209 Duration 9.893 seconds.\n",
      "Epoch 53 Loss 0.188140 Duration 10.328 seconds.\n",
      "Epoch 54 Loss 0.287823 Duration 10.256 seconds.\n",
      "Epoch 55 Loss 0.213068 Duration 9.926 seconds.\n",
      "Epoch 56 Loss 0.217984 Duration 10.290 seconds.\n",
      "Epoch 57 Loss 0.163630 Duration 10.162 seconds.\n",
      "Epoch 58 Loss 0.215114 Duration 9.997 seconds.\n",
      "Epoch 59 Loss 0.164897 Duration 10.226 seconds.\n",
      "Epoch 60 Loss 0.197775 Duration 9.771 seconds.\n",
      "Checkpoint has been created.\n",
      "Epoch 61 Loss 0.344502 Duration 10.003 seconds.\n",
      "Epoch 62 Loss 0.146259 Duration 9.919 seconds.\n",
      "Epoch 63 Loss 0.248401 Duration 9.989 seconds.\n",
      "Epoch 64 Loss 0.209262 Duration 10.320 seconds.\n",
      "Epoch 65 Loss 0.298205 Duration 10.291 seconds.\n",
      "Epoch 66 Loss 0.147742 Duration 10.015 seconds.\n",
      "Epoch 67 Loss 0.204713 Duration 10.359 seconds.\n",
      "Epoch 68 Loss 0.168203 Duration 9.920 seconds.\n",
      "Epoch 69 Loss 0.173408 Duration 10.154 seconds.\n",
      "Epoch 70 Loss 0.133010 Duration 10.356 seconds.\n",
      "Checkpoint has been created.\n",
      "Epoch 71 Loss 0.213689 Duration 10.287 seconds.\n",
      "Epoch 72 Loss 0.213597 Duration 9.971 seconds.\n",
      "Epoch 73 Loss 0.205295 Duration 10.281 seconds.\n",
      "Epoch 74 Loss 0.296747 Duration 10.546 seconds.\n",
      "Epoch 75 Loss 0.152227 Duration 10.375 seconds.\n",
      "Epoch 76 Loss 0.214475 Duration 9.876 seconds.\n",
      "Epoch 77 Loss 0.095903 Duration 10.401 seconds.\n",
      "Epoch 78 Loss 0.190981 Duration 9.857 seconds.\n",
      "Epoch 79 Loss 0.239778 Duration 10.330 seconds.\n",
      "Epoch 80 Loss 0.186018 Duration 10.151 seconds.\n",
      "Checkpoint has been created.\n",
      "Epoch 81 Loss 0.155145 Duration 10.311 seconds.\n",
      "Epoch 82 Loss 0.174522 Duration 9.844 seconds.\n",
      "Epoch 83 Loss 0.190360 Duration 10.287 seconds.\n",
      "Epoch 84 Loss 0.107741 Duration 10.023 seconds.\n",
      "Epoch 85 Loss 0.144191 Duration 10.283 seconds.\n",
      "Epoch 86 Loss 0.186526 Duration 10.133 seconds.\n",
      "Epoch 87 Loss 0.081168 Duration 10.086 seconds.\n",
      "Epoch 88 Loss 0.116564 Duration 10.563 seconds.\n",
      "Epoch 89 Loss 0.123770 Duration 10.455 seconds.\n",
      "Epoch 90 Loss 0.131097 Duration 10.181 seconds.\n",
      "Checkpoint has been created.\n",
      "Epoch 91 Loss 0.086954 Duration 10.559 seconds.\n",
      "Epoch 92 Loss 0.129054 Duration 10.696 seconds.\n",
      "Epoch 93 Loss 0.110448 Duration 10.423 seconds.\n",
      "Epoch 94 Loss 0.100886 Duration 9.886 seconds.\n",
      "Epoch 95 Loss 0.068369 Duration 9.820 seconds.\n",
      "Epoch 96 Loss 0.161463 Duration 9.843 seconds.\n",
      "Epoch 97 Loss 0.175841 Duration 10.114 seconds.\n",
      "Epoch 98 Loss 0.071284 Duration 10.433 seconds.\n",
      "Epoch 99 Loss 0.134091 Duration 10.524 seconds.\n",
      "Epoch 100 Loss 0.093316 Duration 10.150 seconds.\n",
      "Checkpoint has been created.\n"
     ]
    },
    {
     "data": {
      "image/png": "[encoded data removed]",
      "text/plain": [
       "<Figure size 640x480 with 1 Axes>"
      ]
     },
     "metadata": {},
     "output_type": "display_data"
    },
    {
     "name": "stdout",
     "output_type": "stream",
     "text": [
      "\n",
      "--- Validation ---\n",
      "### Test or Validation ###\n",
      "Restored model parameters from models/resnet18_no_residual/0.003/model-80.ckpt\n"
     ]
    },
    {
     "name": "stderr",
     "output_type": "stream",
     "text": [
      "100%|██████████| 5000/5000 [00:05<00:00, 866.23it/s]\n"
     ]
    },
    {
     "name": "stdout",
     "output_type": "stream",
     "text": [
      "Checkpoint 80 Test accuracy: 0.8402\n",
      "Restored model parameters from models/resnet18_no_residual/0.003/model-90.ckpt\n"
     ]
    },
    {
     "name": "stderr",
     "output_type": "stream",
     "text": [
      "100%|██████████| 5000/5000 [00:05<00:00, 885.52it/s]\n"
     ]
    },
    {
     "name": "stdout",
     "output_type": "stream",
     "text": [
      "Checkpoint 90 Test accuracy: 0.8410\n",
      "Restored model parameters from models/resnet18_no_residual/0.003/model-100.ckpt\n"
     ]
    },
    {
     "name": "stderr",
     "output_type": "stream",
     "text": [
      "100%|██████████| 5000/5000 [00:05<00:00, 885.46it/s]\n"
     ]
    },
    {
     "name": "stdout",
     "output_type": "stream",
     "text": [
      "Checkpoint 100 Test accuracy: 0.8382\n",
      "\n",
      "--- Test ---\n",
      "### Test or Validation ###\n",
      "Restored model parameters from models/resnet18_no_residual/0.003/model-100.ckpt\n"
     ]
    },
    {
     "name": "stderr",
     "output_type": "stream",
     "text": [
      "100%|██████████| 10000/10000 [00:11<00:00, 885.19it/s]\n"
     ]
    },
    {
     "name": "stdout",
     "output_type": "stream",
     "text": [
      "Checkpoint 100 Test accuracy: 0.8333\n",
      "\n",
      "--- Training with learning rate 0.01, Residual: False, BatchNorm: True ---\n",
      "### Training... ###\n",
      "Epoch 1 Loss 1.523310 Duration 10.007 seconds.\n",
      "Epoch 2 Loss 1.340042 Duration 10.246 seconds.\n",
      "Epoch 3 Loss 1.095615 Duration 10.460 seconds.\n",
      "Epoch 4 Loss 1.110809 Duration 10.244 seconds.\n",
      "Epoch 5 Loss 0.917761 Duration 10.406 seconds.\n",
      "Epoch 6 Loss 1.205133 Duration 10.189 seconds.\n",
      "Epoch 7 Loss 0.999702 Duration 10.372 seconds.\n",
      "Epoch 8 Loss 1.036946 Duration 10.242 seconds.\n",
      "Epoch 9 Loss 1.141690 Duration 9.895 seconds.\n",
      "Epoch 10 Loss 0.685707 Duration 10.389 seconds.\n",
      "Checkpoint has been created.\n",
      "Epoch 11 Loss 1.118273 Duration 10.051 seconds.\n",
      "Epoch 12 Loss 0.893365 Duration 10.103 seconds.\n",
      "Epoch 13 Loss 0.846906 Duration 10.237 seconds.\n",
      "Epoch 14 Loss 0.969068 Duration 10.291 seconds.\n",
      "Epoch 15 Loss 0.822240 Duration 10.246 seconds.\n",
      "Epoch 16 Loss 0.892608 Duration 10.093 seconds.\n",
      "Epoch 17 Loss 0.835708 Duration 10.106 seconds.\n",
      "Epoch 18 Loss 0.777927 Duration 10.191 seconds.\n",
      "Epoch 19 Loss 0.855572 Duration 10.436 seconds.\n",
      "Epoch 20 Loss 0.946725 Duration 10.297 seconds.\n",
      "Checkpoint has been created.\n",
      "Epoch 21 Loss 0.712187 Duration 10.117 seconds.\n",
      "Epoch 22 Loss 0.627999 Duration 10.615 seconds.\n",
      "Epoch 23 Loss 0.737016 Duration 10.620 seconds.\n",
      "Epoch 24 Loss 0.838495 Duration 10.630 seconds.\n",
      "Epoch 25 Loss 0.691708 Duration 10.338 seconds.\n",
      "Epoch 26 Loss 0.672131 Duration 10.196 seconds.\n",
      "Epoch 27 Loss 0.763175 Duration 10.488 seconds.\n",
      "Epoch 28 Loss 0.510615 Duration 10.839 seconds.\n",
      "Epoch 29 Loss 0.605760 Duration 10.937 seconds.\n",
      "Epoch 30 Loss 0.844698 Duration 10.668 seconds.\n",
      "Checkpoint has been created.\n",
      "Epoch 31 Loss 0.558232 Duration 10.140 seconds.\n",
      "Epoch 32 Loss 0.590186 Duration 10.328 seconds.\n",
      "Epoch 33 Loss 0.609451 Duration 10.226 seconds.\n",
      "Epoch 34 Loss 0.854339 Duration 10.127 seconds.\n",
      "Epoch 35 Loss 0.671200 Duration 9.920 seconds.\n",
      "Epoch 36 Loss 0.479742 Duration 9.976 seconds.\n",
      "Epoch 37 Loss 0.610318 Duration 10.242 seconds.\n",
      "Epoch 38 Loss 0.699961 Duration 10.302 seconds.\n",
      "Epoch 39 Loss 0.561136 Duration 9.872 seconds.\n",
      "Epoch 40 Loss 0.665909 Duration 9.708 seconds.\n",
      "Checkpoint has been created.\n",
      "Epoch 41 Loss 0.624049 Duration 9.998 seconds.\n",
      "Epoch 42 Loss 0.552735 Duration 9.977 seconds.\n",
      "Epoch 43 Loss 0.484340 Duration 10.406 seconds.\n",
      "Epoch 44 Loss 0.567571 Duration 9.880 seconds.\n",
      "Epoch 45 Loss 0.471789 Duration 10.640 seconds.\n",
      "Epoch 46 Loss 0.551823 Duration 10.181 seconds.\n",
      "Epoch 47 Loss 0.652426 Duration 10.156 seconds.\n",
      "Epoch 48 Loss 0.657285 Duration 10.403 seconds.\n",
      "Epoch 49 Loss 0.509515 Duration 9.986 seconds.\n",
      "Epoch 50 Loss 0.487483 Duration 9.852 seconds.\n",
      "Checkpoint has been created.\n",
      "Epoch 51 Loss 0.456694 Duration 10.343 seconds.\n",
      "Epoch 52 Loss 0.652727 Duration 10.143 seconds.\n",
      "Epoch 53 Loss 0.500524 Duration 10.358 seconds.\n",
      "Epoch 54 Loss 0.625757 Duration 10.445 seconds.\n",
      "Epoch 55 Loss 0.643524 Duration 10.010 seconds.\n",
      "Epoch 56 Loss 0.674514 Duration 10.000 seconds.\n",
      "Epoch 57 Loss 0.456657 Duration 10.486 seconds.\n",
      "Epoch 58 Loss 0.575131 Duration 10.430 seconds.\n",
      "Epoch 59 Loss 0.595068 Duration 10.404 seconds.\n",
      "Epoch 60 Loss 0.598838 Duration 10.222 seconds.\n",
      "Checkpoint has been created.\n",
      "Epoch 61 Loss 0.427925 Duration 10.380 seconds.\n",
      "Epoch 62 Loss 0.528484 Duration 10.409 seconds.\n",
      "Epoch 63 Loss 0.502633 Duration 10.590 seconds.\n",
      "Epoch 64 Loss 0.487209 Duration 10.625 seconds.\n",
      "Epoch 65 Loss 0.495502 Duration 9.905 seconds.\n",
      "Epoch 66 Loss 0.358484 Duration 10.045 seconds.\n",
      "Epoch 67 Loss 0.454764 Duration 9.804 seconds.\n",
      "Epoch 68 Loss 0.373246 Duration 10.187 seconds.\n",
      "Epoch 69 Loss 0.418932 Duration 10.065 seconds.\n",
      "Epoch 70 Loss 0.327288 Duration 10.277 seconds.\n",
      "Checkpoint has been created.\n",
      "Epoch 71 Loss 0.448361 Duration 10.452 seconds.\n",
      "Epoch 72 Loss 0.386694 Duration 10.303 seconds.\n",
      "Epoch 73 Loss 0.348481 Duration 10.351 seconds.\n",
      "Epoch 74 Loss 0.538234 Duration 10.183 seconds.\n",
      "Epoch 75 Loss 0.353244 Duration 10.200 seconds.\n",
      "Epoch 76 Loss 0.466900 Duration 9.872 seconds.\n",
      "Epoch 77 Loss 0.333104 Duration 10.137 seconds.\n",
      "Epoch 78 Loss 0.297625 Duration 9.944 seconds.\n",
      "Epoch 79 Loss 0.344671 Duration 10.239 seconds.\n",
      "Epoch 80 Loss 0.393111 Duration 10.273 seconds.\n",
      "Checkpoint has been created.\n",
      "Epoch 81 Loss 0.426884 Duration 10.105 seconds.\n",
      "Epoch 82 Loss 0.359972 Duration 10.036 seconds.\n",
      "Epoch 83 Loss 0.441910 Duration 10.267 seconds.\n",
      "Epoch 84 Loss 0.298816 Duration 10.084 seconds.\n",
      "Epoch 85 Loss 0.488066 Duration 9.832 seconds.\n",
      "Epoch 86 Loss 0.311844 Duration 9.947 seconds.\n",
      "Epoch 87 Loss 0.320140 Duration 9.912 seconds.\n",
      "Epoch 88 Loss 0.531491 Duration 9.837 seconds.\n",
      "Epoch 89 Loss 0.313613 Duration 10.259 seconds.\n",
      "Epoch 90 Loss 0.326659 Duration 10.023 seconds.\n",
      "Checkpoint has been created.\n",
      "Epoch 91 Loss 0.477569 Duration 10.017 seconds.\n",
      "Epoch 92 Loss 0.272458 Duration 10.197 seconds.\n",
      "Epoch 93 Loss 0.364638 Duration 9.849 seconds.\n",
      "Epoch 94 Loss 0.369486 Duration 9.793 seconds.\n",
      "Epoch 95 Loss 0.417092 Duration 9.895 seconds.\n",
      "Epoch 96 Loss 0.322916 Duration 9.798 seconds.\n",
      "Epoch 97 Loss 0.284662 Duration 9.888 seconds.\n",
      "Epoch 98 Loss 0.398688 Duration 9.951 seconds.\n",
      "Epoch 99 Loss 0.501001 Duration 9.870 seconds.\n",
      "Epoch 100 Loss 0.419445 Duration 9.850 seconds.\n",
      "Checkpoint has been created.\n"
     ]
    },
    {
     "data": {
      "image/png": "[encoded data removed]",
      "text/plain": [
       "<Figure size 640x480 with 1 Axes>"
      ]
     },
     "metadata": {},
     "output_type": "display_data"
    },
    {
     "name": "stdout",
     "output_type": "stream",
     "text": [
      "\n",
      "--- Validation ---\n",
      "### Test or Validation ###\n",
      "Restored model parameters from models/resnet18_no_residual/0.01/model-80.ckpt\n"
     ]
    },
    {
     "name": "stderr",
     "output_type": "stream",
     "text": [
      "100%|██████████| 5000/5000 [00:05<00:00, 872.29it/s]\n"
     ]
    },
    {
     "name": "stdout",
     "output_type": "stream",
     "text": [
      "Checkpoint 80 Test accuracy: 0.8076\n",
      "Restored model parameters from models/resnet18_no_residual/0.01/model-90.ckpt\n"
     ]
    },
    {
     "name": "stderr",
     "output_type": "stream",
     "text": [
      "100%|██████████| 5000/5000 [00:05<00:00, 872.29it/s]\n"
     ]
    },
    {
     "name": "stdout",
     "output_type": "stream",
     "text": [
      "Checkpoint 90 Test accuracy: 0.8176\n",
      "Restored model parameters from models/resnet18_no_residual/0.01/model-100.ckpt\n"
     ]
    },
    {
     "name": "stderr",
     "output_type": "stream",
     "text": [
      "100%|██████████| 5000/5000 [00:05<00:00, 879.54it/s]\n"
     ]
    },
    {
     "name": "stdout",
     "output_type": "stream",
     "text": [
      "Checkpoint 100 Test accuracy: 0.8132\n",
      "\n",
      "--- Test ---\n",
      "### Test or Validation ###\n",
      "Restored model parameters from models/resnet18_no_residual/0.01/model-100.ckpt\n"
     ]
    },
    {
     "name": "stderr",
     "output_type": "stream",
     "text": [
      "100%|██████████| 10000/10000 [00:11<00:00, 867.48it/s]\n"
     ]
    },
    {
     "name": "stdout",
     "output_type": "stream",
     "text": [
      "Checkpoint 100 Test accuracy: 0.8041\n",
      "\n",
      "--- Training with learning rate 0.03, Residual: False, BatchNorm: True ---\n",
      "### Training... ###\n",
      "Epoch 1 Loss 1.783512 Duration 10.326 seconds.\n",
      "Epoch 2 Loss 1.590569 Duration 9.966 seconds.\n",
      "Epoch 3 Loss 1.485899 Duration 10.099 seconds.\n",
      "Epoch 4 Loss 1.475483 Duration 9.748 seconds.\n",
      "Epoch 5 Loss 1.522832 Duration 9.984 seconds.\n",
      "Epoch 6 Loss 1.248134 Duration 10.205 seconds.\n",
      "Epoch 7 Loss 1.536191 Duration 10.128 seconds.\n",
      "Epoch 8 Loss 1.217274 Duration 10.340 seconds.\n",
      "Epoch 9 Loss 1.321041 Duration 9.924 seconds.\n",
      "Epoch 10 Loss 1.311321 Duration 10.017 seconds.\n",
      "Checkpoint has been created.\n",
      "Epoch 11 Loss 1.234997 Duration 10.027 seconds.\n",
      "Epoch 12 Loss 1.350428 Duration 9.851 seconds.\n",
      "Epoch 13 Loss 1.166497 Duration 10.150 seconds.\n",
      "Epoch 14 Loss 1.374326 Duration 10.148 seconds.\n",
      "Epoch 15 Loss 1.095643 Duration 9.881 seconds.\n",
      "Epoch 16 Loss 1.258880 Duration 10.459 seconds.\n",
      "Epoch 17 Loss 1.204662 Duration 10.315 seconds.\n",
      "Epoch 18 Loss 1.065779 Duration 10.386 seconds.\n",
      "Epoch 19 Loss 1.273438 Duration 9.963 seconds.\n",
      "Epoch 20 Loss 1.262208 Duration 10.334 seconds.\n",
      "Checkpoint has been created.\n",
      "Epoch 21 Loss 1.092358 Duration 10.444 seconds.\n",
      "Epoch 22 Loss 1.144999 Duration 10.247 seconds.\n",
      "Epoch 23 Loss 1.067782 Duration 10.056 seconds.\n",
      "Epoch 24 Loss 1.101587 Duration 10.460 seconds.\n",
      "Epoch 25 Loss 1.085884 Duration 10.148 seconds.\n",
      "Epoch 26 Loss 1.124804 Duration 10.285 seconds.\n",
      "Epoch 27 Loss 1.083831 Duration 10.476 seconds.\n",
      "Epoch 28 Loss 1.066681 Duration 10.519 seconds.\n",
      "Epoch 29 Loss 1.144396 Duration 9.986 seconds.\n",
      "Epoch 30 Loss 1.033608 Duration 10.198 seconds.\n",
      "Checkpoint has been created.\n",
      "Epoch 31 Loss 1.009280 Duration 10.037 seconds.\n",
      "Epoch 32 Loss 0.789362 Duration 10.266 seconds.\n",
      "Epoch 33 Loss 0.870484 Duration 10.031 seconds.\n",
      "Epoch 34 Loss 1.017672 Duration 10.238 seconds.\n",
      "Epoch 35 Loss 1.067274 Duration 10.402 seconds.\n",
      "Epoch 36 Loss 0.887772 Duration 9.996 seconds.\n",
      "Epoch 37 Loss 1.033124 Duration 10.199 seconds.\n",
      "Epoch 38 Loss 0.940688 Duration 10.214 seconds.\n",
      "Epoch 39 Loss 1.226861 Duration 10.197 seconds.\n",
      "Epoch 40 Loss 0.966842 Duration 9.789 seconds.\n",
      "Checkpoint has been created.\n",
      "Epoch 41 Loss 0.842932 Duration 10.315 seconds.\n",
      "Epoch 42 Loss 0.860947 Duration 10.224 seconds.\n",
      "Epoch 43 Loss 1.049926 Duration 10.362 seconds.\n",
      "Epoch 44 Loss 0.805245 Duration 10.367 seconds.\n",
      "Epoch 45 Loss 0.805531 Duration 9.939 seconds.\n",
      "Epoch 46 Loss 0.900763 Duration 9.814 seconds.\n",
      "Epoch 47 Loss 0.887981 Duration 10.628 seconds.\n",
      "Epoch 48 Loss 1.010236 Duration 10.626 seconds.\n",
      "Epoch 49 Loss 1.095681 Duration 10.279 seconds.\n",
      "Epoch 50 Loss 0.790416 Duration 10.117 seconds.\n",
      "Checkpoint has been created.\n",
      "Epoch 51 Loss 0.960985 Duration 10.091 seconds.\n",
      "Epoch 52 Loss 0.970148 Duration 10.416 seconds.\n",
      "Epoch 53 Loss 0.895458 Duration 9.936 seconds.\n",
      "Epoch 54 Loss 0.853597 Duration 10.143 seconds.\n",
      "Epoch 55 Loss 0.873376 Duration 10.044 seconds.\n",
      "Epoch 56 Loss 0.983505 Duration 9.890 seconds.\n",
      "Epoch 57 Loss 0.899445 Duration 9.991 seconds.\n",
      "Epoch 58 Loss 0.883958 Duration 9.812 seconds.\n",
      "Epoch 59 Loss 0.894834 Duration 9.828 seconds.\n",
      "Epoch 60 Loss 0.877996 Duration 9.981 seconds.\n",
      "Checkpoint has been created.\n",
      "Epoch 61 Loss 0.786059 Duration 10.056 seconds.\n",
      "Epoch 62 Loss 1.127585 Duration 10.116 seconds.\n",
      "Epoch 63 Loss 0.705077 Duration 10.522 seconds.\n",
      "Epoch 64 Loss 0.918589 Duration 10.290 seconds.\n",
      "Epoch 65 Loss 0.809297 Duration 10.053 seconds.\n",
      "Epoch 66 Loss 0.738472 Duration 10.317 seconds.\n",
      "Epoch 67 Loss 0.747212 Duration 10.655 seconds.\n",
      "Epoch 68 Loss 0.672681 Duration 10.517 seconds.\n",
      "Epoch 69 Loss 0.910202 Duration 10.109 seconds.\n",
      "Epoch 70 Loss 0.735305 Duration 10.251 seconds.\n",
      "Checkpoint has been created.\n",
      "Epoch 71 Loss 0.782658 Duration 10.008 seconds.\n",
      "Epoch 72 Loss 0.843374 Duration 10.407 seconds.\n",
      "Epoch 73 Loss 0.932149 Duration 10.276 seconds.\n",
      "Epoch 74 Loss 0.765805 Duration 10.392 seconds.\n",
      "Epoch 75 Loss 0.755985 Duration 10.027 seconds.\n",
      "Epoch 76 Loss 1.069865 Duration 10.363 seconds.\n",
      "Epoch 77 Loss 0.812971 Duration 9.840 seconds.\n",
      "Epoch 78 Loss 0.880924 Duration 9.955 seconds.\n",
      "Epoch 79 Loss 0.821889 Duration 9.994 seconds.\n",
      "Epoch 80 Loss 0.783081 Duration 10.298 seconds.\n",
      "Checkpoint has been created.\n",
      "Epoch 81 Loss 0.850608 Duration 10.361 seconds.\n",
      "Epoch 82 Loss 0.933537 Duration 10.412 seconds.\n",
      "Epoch 83 Loss 0.672312 Duration 9.948 seconds.\n",
      "Epoch 84 Loss 0.690288 Duration 9.900 seconds.\n",
      "Epoch 85 Loss 0.804752 Duration 9.970 seconds.\n",
      "Epoch 86 Loss 0.727709 Duration 10.121 seconds.\n",
      "Epoch 87 Loss 0.714828 Duration 10.515 seconds.\n",
      "Epoch 88 Loss 0.755802 Duration 10.628 seconds.\n",
      "Epoch 89 Loss 0.894217 Duration 10.555 seconds.\n",
      "Epoch 90 Loss 0.723912 Duration 10.346 seconds.\n",
      "Checkpoint has been created.\n",
      "Epoch 91 Loss 0.841200 Duration 10.384 seconds.\n",
      "Epoch 92 Loss 0.674348 Duration 9.987 seconds.\n",
      "Epoch 93 Loss 0.709403 Duration 10.152 seconds.\n",
      "Epoch 94 Loss 0.841993 Duration 9.966 seconds.\n",
      "Epoch 95 Loss 0.695898 Duration 10.147 seconds.\n",
      "Epoch 96 Loss 0.746038 Duration 9.990 seconds.\n",
      "Epoch 97 Loss 0.738637 Duration 10.165 seconds.\n",
      "Epoch 98 Loss 0.848122 Duration 10.145 seconds.\n",
      "Epoch 99 Loss 0.649599 Duration 10.024 seconds.\n",
      "Epoch 100 Loss 0.783723 Duration 9.962 seconds.\n",
      "Checkpoint has been created.\n"
     ]
    },
    {
     "data": {
      "image/png": "[encoded data removed]",
      "text/plain": [
       "<Figure size 640x480 with 1 Axes>"
      ]
     },
     "metadata": {},
     "output_type": "display_data"
    },
    {
     "name": "stdout",
     "output_type": "stream",
     "text": [
      "\n",
      "--- Validation ---\n",
      "### Test or Validation ###\n",
      "Restored model parameters from models/resnet18_no_residual/0.03/model-80.ckpt\n"
     ]
    },
    {
     "name": "stderr",
     "output_type": "stream",
     "text": [
      "100%|██████████| 5000/5000 [00:05<00:00, 868.95it/s]\n"
     ]
    },
    {
     "name": "stdout",
     "output_type": "stream",
     "text": [
      "Checkpoint 80 Test accuracy: 0.6938\n",
      "Restored model parameters from models/resnet18_no_residual/0.03/model-90.ckpt\n"
     ]
    },
    {
     "name": "stderr",
     "output_type": "stream",
     "text": [
      "100%|██████████| 5000/5000 [00:05<00:00, 872.28it/s]\n"
     ]
    },
    {
     "name": "stdout",
     "output_type": "stream",
     "text": [
      "Checkpoint 90 Test accuracy: 0.7042\n",
      "Restored model parameters from models/resnet18_no_residual/0.03/model-100.ckpt\n"
     ]
    },
    {
     "name": "stderr",
     "output_type": "stream",
     "text": [
      "100%|██████████| 5000/5000 [00:05<00:00, 870.70it/s]\n"
     ]
    },
    {
     "name": "stdout",
     "output_type": "stream",
     "text": [
      "Checkpoint 100 Test accuracy: 0.7232\n",
      "\n",
      "--- Test ---\n",
      "### Test or Validation ###\n",
      "Restored model parameters from models/resnet18_no_residual/0.03/model-100.ckpt\n"
     ]
    },
    {
     "name": "stderr",
     "output_type": "stream",
     "text": [
      "100%|██████████| 10000/10000 [00:11<00:00, 870.86it/s]\n"
     ]
    },
    {
     "name": "stdout",
     "output_type": "stream",
     "text": [
      "Checkpoint 100 Test accuracy: 0.7123\n",
      "\n",
      "--- Training with learning rate 0.003, Residual: True, BatchNorm: True ---\n",
      "### Training... ###\n",
      "Epoch 1 Loss 1.500610 Duration 10.192 seconds.\n",
      "Epoch 2 Loss 1.163246 Duration 10.351 seconds.\n",
      "Epoch 3 Loss 1.043125 Duration 10.278 seconds.\n",
      "Epoch 4 Loss 0.868036 Duration 10.119 seconds.\n",
      "Epoch 5 Loss 0.896828 Duration 10.291 seconds.\n",
      "Epoch 6 Loss 0.821193 Duration 10.096 seconds.\n",
      "Epoch 7 Loss 0.788602 Duration 10.544 seconds.\n",
      "Epoch 8 Loss 0.831245 Duration 10.576 seconds.\n",
      "Epoch 9 Loss 0.759124 Duration 10.314 seconds.\n",
      "Epoch 10 Loss 0.786293 Duration 10.339 seconds.\n",
      "Checkpoint has been created.\n",
      "Epoch 11 Loss 0.701109 Duration 9.799 seconds.\n",
      "Epoch 12 Loss 0.719460 Duration 10.281 seconds.\n",
      "Epoch 13 Loss 0.644605 Duration 10.342 seconds.\n",
      "Epoch 14 Loss 0.643829 Duration 10.527 seconds.\n",
      "Epoch 15 Loss 0.683544 Duration 10.670 seconds.\n",
      "Epoch 16 Loss 0.634724 Duration 10.927 seconds.\n",
      "Epoch 17 Loss 0.746671 Duration 10.752 seconds.\n",
      "Epoch 18 Loss 0.583692 Duration 10.392 seconds.\n",
      "Epoch 19 Loss 0.540776 Duration 10.192 seconds.\n",
      "Epoch 20 Loss 0.507342 Duration 10.122 seconds.\n",
      "Checkpoint has been created.\n",
      "Epoch 21 Loss 0.511610 Duration 10.412 seconds.\n",
      "Epoch 22 Loss 0.570402 Duration 9.958 seconds.\n",
      "Epoch 23 Loss 0.539834 Duration 10.022 seconds.\n",
      "Epoch 24 Loss 0.598295 Duration 10.307 seconds.\n",
      "Epoch 25 Loss 0.453708 Duration 10.146 seconds.\n",
      "Epoch 26 Loss 0.353685 Duration 9.887 seconds.\n",
      "Epoch 27 Loss 0.532540 Duration 9.984 seconds.\n",
      "Epoch 28 Loss 0.649784 Duration 10.058 seconds.\n",
      "Epoch 29 Loss 0.507907 Duration 9.914 seconds.\n",
      "Epoch 30 Loss 0.440326 Duration 9.913 seconds.\n",
      "Checkpoint has been created.\n",
      "Epoch 31 Loss 0.435118 Duration 10.013 seconds.\n",
      "Epoch 32 Loss 0.405032 Duration 9.751 seconds.\n",
      "Epoch 33 Loss 0.287957 Duration 9.765 seconds.\n",
      "Epoch 34 Loss 0.408163 Duration 9.888 seconds.\n",
      "Epoch 35 Loss 0.360254 Duration 10.142 seconds.\n",
      "Epoch 36 Loss 0.528843 Duration 10.483 seconds.\n",
      "Epoch 37 Loss 0.464251 Duration 10.267 seconds.\n",
      "Epoch 38 Loss 0.448113 Duration 10.379 seconds.\n",
      "Epoch 39 Loss 0.344783 Duration 10.172 seconds.\n",
      "Epoch 40 Loss 0.369089 Duration 10.121 seconds.\n",
      "Checkpoint has been created.\n",
      "Epoch 41 Loss 0.279789 Duration 10.071 seconds.\n",
      "Epoch 42 Loss 0.311941 Duration 10.257 seconds.\n",
      "Epoch 43 Loss 0.319206 Duration 10.422 seconds.\n",
      "Epoch 44 Loss 0.537029 Duration 10.020 seconds.\n",
      "Epoch 45 Loss 0.318152 Duration 10.205 seconds.\n",
      "Epoch 46 Loss 0.401262 Duration 10.398 seconds.\n",
      "Epoch 47 Loss 0.231513 Duration 10.057 seconds.\n",
      "Epoch 48 Loss 0.261997 Duration 10.485 seconds.\n",
      "Epoch 49 Loss 0.216953 Duration 10.440 seconds.\n",
      "Epoch 50 Loss 0.183788 Duration 10.189 seconds.\n",
      "Checkpoint has been created.\n",
      "Epoch 51 Loss 0.363280 Duration 10.460 seconds.\n",
      "Epoch 52 Loss 0.237927 Duration 10.232 seconds.\n",
      "Epoch 53 Loss 0.222372 Duration 10.266 seconds.\n",
      "Epoch 54 Loss 0.255577 Duration 10.021 seconds.\n",
      "Epoch 55 Loss 0.245191 Duration 10.000 seconds.\n",
      "Epoch 56 Loss 0.128542 Duration 10.241 seconds.\n",
      "Epoch 57 Loss 0.470939 Duration 10.056 seconds.\n",
      "Epoch 58 Loss 0.201578 Duration 10.152 seconds.\n",
      "Epoch 59 Loss 0.308563 Duration 10.110 seconds.\n",
      "Epoch 60 Loss 0.297687 Duration 10.308 seconds.\n",
      "Checkpoint has been created.\n",
      "Epoch 61 Loss 0.252757 Duration 10.039 seconds.\n",
      "Epoch 62 Loss 0.214517 Duration 10.174 seconds.\n",
      "Epoch 63 Loss 0.270226 Duration 10.487 seconds.\n",
      "Epoch 64 Loss 0.164094 Duration 10.399 seconds.\n",
      "Epoch 65 Loss 0.227407 Duration 10.344 seconds.\n",
      "Epoch 66 Loss 0.198058 Duration 10.507 seconds.\n",
      "Epoch 67 Loss 0.116051 Duration 10.535 seconds.\n",
      "Epoch 68 Loss 0.129957 Duration 10.098 seconds.\n",
      "Epoch 69 Loss 0.327940 Duration 10.103 seconds.\n",
      "Epoch 70 Loss 0.123837 Duration 10.554 seconds.\n",
      "Checkpoint has been created.\n",
      "Epoch 71 Loss 0.198966 Duration 10.492 seconds.\n",
      "Epoch 72 Loss 0.116597 Duration 9.924 seconds.\n",
      "Epoch 73 Loss 0.269395 Duration 9.915 seconds.\n",
      "Epoch 74 Loss 0.133333 Duration 10.115 seconds.\n",
      "Epoch 75 Loss 0.131456 Duration 9.827 seconds.\n",
      "Epoch 76 Loss 0.160457 Duration 10.459 seconds.\n",
      "Epoch 77 Loss 0.149417 Duration 10.517 seconds.\n",
      "Epoch 78 Loss 0.187574 Duration 9.893 seconds.\n",
      "Epoch 79 Loss 0.150031 Duration 10.024 seconds.\n",
      "Epoch 80 Loss 0.276105 Duration 10.592 seconds.\n",
      "Checkpoint has been created.\n",
      "Epoch 81 Loss 0.112130 Duration 10.464 seconds.\n",
      "Epoch 82 Loss 0.217384 Duration 10.456 seconds.\n",
      "Epoch 83 Loss 0.137353 Duration 10.393 seconds.\n",
      "Epoch 84 Loss 0.103411 Duration 9.925 seconds.\n",
      "Epoch 85 Loss 0.132895 Duration 10.629 seconds.\n",
      "Epoch 86 Loss 0.130740 Duration 10.339 seconds.\n",
      "Epoch 87 Loss 0.178445 Duration 10.549 seconds.\n",
      "Epoch 88 Loss 0.098929 Duration 10.193 seconds.\n",
      "Epoch 89 Loss 0.096995 Duration 9.875 seconds.\n",
      "Epoch 90 Loss 0.244444 Duration 9.989 seconds.\n",
      "Checkpoint has been created.\n",
      "Epoch 91 Loss 0.115039 Duration 10.571 seconds.\n",
      "Epoch 92 Loss 0.104866 Duration 10.152 seconds.\n",
      "Epoch 93 Loss 0.132316 Duration 9.923 seconds.\n",
      "Epoch 94 Loss 0.191463 Duration 10.513 seconds.\n",
      "Epoch 95 Loss 0.186695 Duration 10.384 seconds.\n",
      "Epoch 96 Loss 0.114132 Duration 10.247 seconds.\n",
      "Epoch 97 Loss 0.131773 Duration 10.151 seconds.\n",
      "Epoch 98 Loss 0.203940 Duration 9.893 seconds.\n",
      "Epoch 99 Loss 0.101093 Duration 10.575 seconds.\n",
      "Epoch 100 Loss 0.111811 Duration 10.311 seconds.\n",
      "Checkpoint has been created.\n"
     ]
    },
    {
     "data": {
      "image/png": "[encoded data removed]",
      "text/plain": [
       "<Figure size 640x480 with 1 Axes>"
      ]
     },
     "metadata": {},
     "output_type": "display_data"
    },
    {
     "name": "stdout",
     "output_type": "stream",
     "text": [
      "\n",
      "--- Validation ---\n",
      "### Test or Validation ###\n",
      "Restored model parameters from models/resnet18/0.003/model-80.ckpt\n"
     ]
    },
    {
     "name": "stderr",
     "output_type": "stream",
     "text": [
      "100%|██████████| 5000/5000 [00:05<00:00, 860.14it/s]\n"
     ]
    },
    {
     "name": "stdout",
     "output_type": "stream",
     "text": [
      "Checkpoint 80 Test accuracy: 0.8364\n",
      "Restored model parameters from models/resnet18/0.003/model-90.ckpt\n"
     ]
    },
    {
     "name": "stderr",
     "output_type": "stream",
     "text": [
      "100%|██████████| 5000/5000 [00:05<00:00, 868.09it/s]\n"
     ]
    },
    {
     "name": "stdout",
     "output_type": "stream",
     "text": [
      "Checkpoint 90 Test accuracy: 0.8440\n",
      "Restored model parameters from models/resnet18/0.003/model-100.ckpt\n"
     ]
    },
    {
     "name": "stderr",
     "output_type": "stream",
     "text": [
      "100%|██████████| 5000/5000 [00:05<00:00, 881.14it/s]\n"
     ]
    },
    {
     "name": "stdout",
     "output_type": "stream",
     "text": [
      "Checkpoint 100 Test accuracy: 0.8428\n",
      "\n",
      "--- Test ---\n",
      "### Test or Validation ###\n",
      "Restored model parameters from models/resnet18/0.003/model-100.ckpt\n"
     ]
    },
    {
     "name": "stderr",
     "output_type": "stream",
     "text": [
      "100%|██████████| 10000/10000 [00:11<00:00, 895.38it/s]\n"
     ]
    },
    {
     "name": "stdout",
     "output_type": "stream",
     "text": [
      "Checkpoint 100 Test accuracy: 0.8360\n",
      "\n",
      "--- Training with learning rate 0.01, Residual: True, BatchNorm: True ---\n",
      "### Training... ###\n",
      "Epoch 1 Loss 1.686869 Duration 9.813 seconds.\n",
      "Epoch 2 Loss 1.268084 Duration 10.212 seconds.\n",
      "Epoch 3 Loss 1.210758 Duration 9.748 seconds.\n",
      "Epoch 4 Loss 1.130830 Duration 9.926 seconds.\n",
      "Epoch 5 Loss 1.023112 Duration 10.584 seconds.\n",
      "Epoch 6 Loss 1.088472 Duration 10.084 seconds.\n",
      "Epoch 7 Loss 1.131561 Duration 10.262 seconds.\n",
      "Epoch 8 Loss 0.992606 Duration 10.424 seconds.\n",
      "Epoch 9 Loss 0.958923 Duration 10.011 seconds.\n",
      "Epoch 10 Loss 0.888164 Duration 10.313 seconds.\n",
      "Checkpoint has been created.\n",
      "Epoch 11 Loss 0.949131 Duration 10.662 seconds.\n",
      "Epoch 12 Loss 0.889735 Duration 10.620 seconds.\n",
      "Epoch 13 Loss 0.810158 Duration 10.153 seconds.\n",
      "Epoch 14 Loss 0.890933 Duration 10.179 seconds.\n",
      "Epoch 15 Loss 0.855328 Duration 10.016 seconds.\n",
      "Epoch 16 Loss 0.780549 Duration 10.119 seconds.\n",
      "Epoch 17 Loss 0.919180 Duration 10.323 seconds.\n",
      "Epoch 18 Loss 0.825957 Duration 9.727 seconds.\n",
      "Epoch 19 Loss 0.774546 Duration 9.968 seconds.\n",
      "Epoch 20 Loss 0.627939 Duration 10.380 seconds.\n",
      "Checkpoint has been created.\n",
      "Epoch 21 Loss 0.710931 Duration 10.388 seconds.\n",
      "Epoch 22 Loss 0.859601 Duration 10.555 seconds.\n",
      "Epoch 23 Loss 0.711075 Duration 10.246 seconds.\n",
      "Epoch 24 Loss 0.795331 Duration 10.374 seconds.\n",
      "Epoch 25 Loss 0.813091 Duration 10.413 seconds.\n",
      "Epoch 26 Loss 0.666341 Duration 10.405 seconds.\n",
      "Epoch 27 Loss 0.720005 Duration 10.190 seconds.\n",
      "Epoch 28 Loss 0.691492 Duration 10.260 seconds.\n",
      "Epoch 29 Loss 0.729939 Duration 9.935 seconds.\n",
      "Epoch 30 Loss 0.584560 Duration 9.683 seconds.\n",
      "Checkpoint has been created.\n",
      "Epoch 31 Loss 0.669325 Duration 9.902 seconds.\n",
      "Epoch 32 Loss 0.594714 Duration 10.281 seconds.\n",
      "Epoch 33 Loss 0.693292 Duration 9.882 seconds.\n",
      "Epoch 34 Loss 0.704726 Duration 10.057 seconds.\n",
      "Epoch 35 Loss 0.524944 Duration 9.918 seconds.\n",
      "Epoch 36 Loss 0.479181 Duration 10.095 seconds.\n",
      "Epoch 37 Loss 0.660359 Duration 10.134 seconds.\n",
      "Epoch 38 Loss 0.570693 Duration 10.049 seconds.\n",
      "Epoch 39 Loss 0.689519 Duration 10.131 seconds.\n",
      "Epoch 40 Loss 0.617766 Duration 10.207 seconds.\n",
      "Checkpoint has been created.\n",
      "Epoch 41 Loss 0.731256 Duration 9.977 seconds.\n",
      "Epoch 42 Loss 0.551950 Duration 10.011 seconds.\n",
      "Epoch 43 Loss 0.516060 Duration 9.801 seconds.\n",
      "Epoch 44 Loss 0.501322 Duration 9.633 seconds.\n",
      "Epoch 45 Loss 0.444824 Duration 10.018 seconds.\n",
      "Epoch 46 Loss 0.591025 Duration 9.876 seconds.\n",
      "Epoch 47 Loss 0.610980 Duration 10.480 seconds.\n",
      "Epoch 48 Loss 0.610109 Duration 10.099 seconds.\n",
      "Epoch 49 Loss 0.650229 Duration 10.614 seconds.\n",
      "Epoch 50 Loss 0.535933 Duration 9.977 seconds.\n",
      "Checkpoint has been created.\n",
      "Epoch 51 Loss 0.560752 Duration 10.052 seconds.\n",
      "Epoch 52 Loss 0.570153 Duration 10.144 seconds.\n",
      "Epoch 53 Loss 0.471487 Duration 10.446 seconds.\n",
      "Epoch 54 Loss 0.372952 Duration 10.209 seconds.\n",
      "Epoch 55 Loss 0.372486 Duration 10.258 seconds.\n",
      "Epoch 56 Loss 0.414028 Duration 10.473 seconds.\n",
      "Epoch 57 Loss 0.626315 Duration 10.583 seconds.\n",
      "Epoch 58 Loss 0.518438 Duration 10.405 seconds.\n",
      "Epoch 59 Loss 0.552417 Duration 9.774 seconds.\n",
      "Epoch 60 Loss 0.419238 Duration 9.826 seconds.\n",
      "Checkpoint has been created.\n",
      "Epoch 61 Loss 0.431351 Duration 10.160 seconds.\n",
      "Epoch 62 Loss 0.526554 Duration 10.082 seconds.\n",
      "Epoch 63 Loss 0.520466 Duration 10.121 seconds.\n",
      "Epoch 64 Loss 0.556971 Duration 10.229 seconds.\n",
      "Epoch 65 Loss 0.429620 Duration 10.344 seconds.\n",
      "Epoch 66 Loss 0.438501 Duration 10.048 seconds.\n",
      "Epoch 67 Loss 0.508884 Duration 10.385 seconds.\n",
      "Epoch 68 Loss 0.256593 Duration 10.126 seconds.\n",
      "Epoch 69 Loss 0.483038 Duration 10.361 seconds.\n",
      "Epoch 70 Loss 0.522264 Duration 10.072 seconds.\n",
      "Checkpoint has been created.\n",
      "Epoch 71 Loss 0.452056 Duration 10.363 seconds.\n",
      "Epoch 72 Loss 0.484153 Duration 10.433 seconds.\n",
      "Epoch 73 Loss 0.275782 Duration 10.219 seconds.\n",
      "Epoch 74 Loss 0.457073 Duration 10.066 seconds.\n",
      "Epoch 75 Loss 0.280946 Duration 10.283 seconds.\n",
      "Epoch 76 Loss 0.308216 Duration 10.301 seconds.\n",
      "Epoch 77 Loss 0.400617 Duration 10.519 seconds.\n",
      "Epoch 78 Loss 0.408735 Duration 10.252 seconds.\n",
      "Epoch 79 Loss 0.407638 Duration 10.361 seconds.\n",
      "Epoch 80 Loss 0.453129 Duration 9.941 seconds.\n",
      "Checkpoint has been created.\n",
      "Epoch 81 Loss 0.316169 Duration 9.807 seconds.\n",
      "Epoch 82 Loss 0.437047 Duration 10.220 seconds.\n",
      "Epoch 83 Loss 0.487819 Duration 10.114 seconds.\n",
      "Epoch 84 Loss 0.335367 Duration 9.969 seconds.\n",
      "Epoch 85 Loss 0.313968 Duration 10.368 seconds.\n",
      "Epoch 86 Loss 0.470168 Duration 10.157 seconds.\n",
      "Epoch 87 Loss 0.513349 Duration 10.130 seconds.\n",
      "Epoch 88 Loss 0.295864 Duration 10.169 seconds.\n",
      "Epoch 89 Loss 0.376661 Duration 10.205 seconds.\n",
      "Epoch 90 Loss 0.390325 Duration 10.368 seconds.\n",
      "Checkpoint has been created.\n",
      "Epoch 91 Loss 0.322854 Duration 10.276 seconds.\n",
      "Epoch 92 Loss 0.423312 Duration 10.127 seconds.\n",
      "Epoch 93 Loss 0.410278 Duration 10.133 seconds.\n",
      "Epoch 94 Loss 0.389519 Duration 10.163 seconds.\n",
      "Epoch 95 Loss 0.336372 Duration 10.319 seconds.\n",
      "Epoch 96 Loss 0.330484 Duration 9.801 seconds.\n",
      "Epoch 97 Loss 0.341314 Duration 9.937 seconds.\n",
      "Epoch 98 Loss 0.308848 Duration 9.794 seconds.\n",
      "Epoch 99 Loss 0.438279 Duration 10.183 seconds.\n",
      "Epoch 100 Loss 0.349386 Duration 10.427 seconds.\n",
      "Checkpoint has been created.\n"
     ]
    },
    {
     "data": {
      "image/png": "[encoded data removed]",
      "text/plain": [
       "<Figure size 640x480 with 1 Axes>"
      ]
     },
     "metadata": {},
     "output_type": "display_data"
    },
    {
     "name": "stdout",
     "output_type": "stream",
     "text": [
      "\n",
      "--- Validation ---\n",
      "### Test or Validation ###\n",
      "Restored model parameters from models/resnet18/0.01/model-80.ckpt\n"
     ]
    },
    {
     "name": "stderr",
     "output_type": "stream",
     "text": [
      "100%|██████████| 5000/5000 [00:05<00:00, 861.29it/s]\n"
     ]
    },
    {
     "name": "stdout",
     "output_type": "stream",
     "text": [
      "Checkpoint 80 Test accuracy: 0.7896\n",
      "Restored model parameters from models/resnet18/0.01/model-90.ckpt\n"
     ]
    },
    {
     "name": "stderr",
     "output_type": "stream",
     "text": [
      "100%|██████████| 5000/5000 [00:06<00:00, 806.82it/s]\n"
     ]
    },
    {
     "name": "stdout",
     "output_type": "stream",
     "text": [
      "Checkpoint 90 Test accuracy: 0.8104\n",
      "Restored model parameters from models/resnet18/0.01/model-100.ckpt\n"
     ]
    },
    {
     "name": "stderr",
     "output_type": "stream",
     "text": [
      "100%|██████████| 5000/5000 [00:06<00:00, 794.64it/s]\n"
     ]
    },
    {
     "name": "stdout",
     "output_type": "stream",
     "text": [
      "Checkpoint 100 Test accuracy: 0.8154\n",
      "\n",
      "--- Test ---\n",
      "### Test or Validation ###\n",
      "Restored model parameters from models/resnet18/0.01/model-100.ckpt\n"
     ]
    },
    {
     "name": "stderr",
     "output_type": "stream",
     "text": [
      "100%|██████████| 10000/10000 [00:12<00:00, 796.97it/s]\n"
     ]
    },
    {
     "name": "stdout",
     "output_type": "stream",
     "text": [
      "Checkpoint 100 Test accuracy: 0.8016\n",
      "\n",
      "--- Training with learning rate 0.03, Residual: True, BatchNorm: True ---\n",
      "### Training... ###\n",
      "Epoch 1 Loss 1.740338 Duration 10.804 seconds.\n",
      "Epoch 2 Loss 1.684335 Duration 10.193 seconds.\n",
      "Epoch 3 Loss 1.373292 Duration 10.032 seconds.\n",
      "Epoch 4 Loss 1.430901 Duration 9.996 seconds.\n",
      "Epoch 5 Loss 1.426983 Duration 10.200 seconds.\n",
      "Epoch 6 Loss 1.278743 Duration 10.308 seconds.\n",
      "Epoch 7 Loss 1.518681 Duration 9.893 seconds.\n",
      "Epoch 8 Loss 1.327973 Duration 10.118 seconds.\n",
      "Epoch 9 Loss 1.206445 Duration 10.421 seconds.\n",
      "Epoch 10 Loss 1.453645 Duration 10.572 seconds.\n",
      "Checkpoint has been created.\n",
      "Epoch 11 Loss 1.289356 Duration 10.318 seconds.\n",
      "Epoch 12 Loss 1.227545 Duration 10.519 seconds.\n",
      "Epoch 13 Loss 1.177400 Duration 10.581 seconds.\n",
      "Epoch 14 Loss 1.231234 Duration 10.389 seconds.\n",
      "Epoch 15 Loss 1.204378 Duration 10.123 seconds.\n",
      "Epoch 16 Loss 1.061995 Duration 9.939 seconds.\n",
      "Epoch 17 Loss 1.034298 Duration 9.826 seconds.\n",
      "Epoch 18 Loss 1.081295 Duration 10.036 seconds.\n",
      "Epoch 19 Loss 1.052195 Duration 10.296 seconds.\n",
      "Epoch 20 Loss 1.154342 Duration 10.323 seconds.\n",
      "Checkpoint has been created.\n",
      "Epoch 21 Loss 1.125723 Duration 10.419 seconds.\n",
      "Epoch 22 Loss 1.136008 Duration 10.158 seconds.\n",
      "Epoch 23 Loss 1.030923 Duration 10.680 seconds.\n",
      "Epoch 24 Loss 1.033103 Duration 10.184 seconds.\n",
      "Epoch 25 Loss 1.226115 Duration 10.688 seconds.\n",
      "Epoch 26 Loss 1.164297 Duration 9.823 seconds.\n",
      "Epoch 27 Loss 0.973699 Duration 9.958 seconds.\n",
      "Epoch 28 Loss 1.063298 Duration 10.125 seconds.\n",
      "Epoch 29 Loss 1.045081 Duration 10.022 seconds.\n",
      "Epoch 30 Loss 1.128132 Duration 9.967 seconds.\n",
      "Checkpoint has been created.\n",
      "Epoch 31 Loss 1.101417 Duration 10.366 seconds.\n",
      "Epoch 32 Loss 1.061151 Duration 10.483 seconds.\n",
      "Epoch 33 Loss 1.117661 Duration 10.755 seconds.\n",
      "Epoch 34 Loss 1.170957 Duration 10.513 seconds.\n",
      "Epoch 35 Loss 1.055889 Duration 9.850 seconds.\n",
      "Epoch 36 Loss 1.142363 Duration 10.075 seconds.\n",
      "Epoch 37 Loss 1.183343 Duration 10.183 seconds.\n",
      "Epoch 38 Loss 1.071190 Duration 10.092 seconds.\n",
      "Epoch 39 Loss 0.781619 Duration 9.951 seconds.\n",
      "Epoch 40 Loss 0.896401 Duration 10.267 seconds.\n",
      "Checkpoint has been created.\n",
      "Epoch 41 Loss 1.045043 Duration 9.817 seconds.\n",
      "Epoch 42 Loss 0.990012 Duration 10.387 seconds.\n",
      "Epoch 43 Loss 1.039320 Duration 10.476 seconds.\n",
      "Epoch 44 Loss 0.767947 Duration 9.898 seconds.\n",
      "Epoch 45 Loss 0.899181 Duration 9.890 seconds.\n",
      "Epoch 46 Loss 0.829116 Duration 10.432 seconds.\n",
      "Epoch 47 Loss 0.855566 Duration 10.275 seconds.\n",
      "Epoch 48 Loss 0.782713 Duration 9.971 seconds.\n",
      "Epoch 49 Loss 0.827343 Duration 9.921 seconds.\n",
      "Epoch 50 Loss 0.827892 Duration 10.209 seconds.\n",
      "Checkpoint has been created.\n",
      "Epoch 51 Loss 1.024370 Duration 9.985 seconds.\n",
      "Epoch 52 Loss 0.799104 Duration 9.610 seconds.\n",
      "Epoch 53 Loss 0.820053 Duration 10.306 seconds.\n",
      "Epoch 54 Loss 0.725390 Duration 10.509 seconds.\n",
      "Epoch 55 Loss 1.089373 Duration 10.524 seconds.\n",
      "Epoch 56 Loss 0.912067 Duration 10.397 seconds.\n",
      "Epoch 57 Loss 0.785648 Duration 10.422 seconds.\n",
      "Epoch 58 Loss 0.909867 Duration 9.915 seconds.\n",
      "Epoch 59 Loss 0.827409 Duration 10.471 seconds.\n",
      "Epoch 60 Loss 0.926789 Duration 10.010 seconds.\n",
      "Checkpoint has been created.\n",
      "Epoch 61 Loss 0.702416 Duration 10.269 seconds.\n",
      "Epoch 62 Loss 0.717389 Duration 10.476 seconds.\n",
      "Epoch 63 Loss 0.888387 Duration 10.240 seconds.\n",
      "Epoch 64 Loss 0.821537 Duration 9.769 seconds.\n",
      "Epoch 65 Loss 0.816528 Duration 10.026 seconds.\n",
      "Epoch 66 Loss 0.852688 Duration 10.104 seconds.\n",
      "Epoch 67 Loss 0.704122 Duration 10.163 seconds.\n",
      "Epoch 68 Loss 0.959693 Duration 10.272 seconds.\n",
      "Epoch 69 Loss 0.785361 Duration 10.322 seconds.\n",
      "Epoch 70 Loss 0.787375 Duration 10.366 seconds.\n",
      "Checkpoint has been created.\n",
      "Epoch 71 Loss 0.781927 Duration 9.862 seconds.\n",
      "Epoch 72 Loss 0.934789 Duration 10.331 seconds.\n",
      "Epoch 73 Loss 0.689219 Duration 10.203 seconds.\n",
      "Epoch 74 Loss 0.814030 Duration 10.217 seconds.\n",
      "Epoch 75 Loss 0.705496 Duration 10.359 seconds.\n",
      "Epoch 76 Loss 0.815712 Duration 10.194 seconds.\n",
      "Epoch 77 Loss 0.743411 Duration 10.317 seconds.\n",
      "Epoch 78 Loss 0.763130 Duration 9.943 seconds.\n",
      "Epoch 79 Loss 0.836355 Duration 9.699 seconds.\n",
      "Epoch 80 Loss 0.749374 Duration 9.967 seconds.\n",
      "Checkpoint has been created.\n",
      "Epoch 81 Loss 0.820110 Duration 10.257 seconds.\n",
      "Epoch 82 Loss 0.837783 Duration 10.039 seconds.\n",
      "Epoch 83 Loss 0.593761 Duration 10.237 seconds.\n",
      "Epoch 84 Loss 0.820477 Duration 10.410 seconds.\n",
      "Epoch 85 Loss 0.938940 Duration 10.047 seconds.\n",
      "Epoch 86 Loss 0.753774 Duration 10.144 seconds.\n",
      "Epoch 87 Loss 0.761359 Duration 10.344 seconds.\n",
      "Epoch 88 Loss 0.692171 Duration 10.196 seconds.\n",
      "Epoch 89 Loss 0.678192 Duration 10.441 seconds.\n",
      "Epoch 90 Loss 0.713892 Duration 10.249 seconds.\n",
      "Checkpoint has been created.\n",
      "Epoch 91 Loss 0.638214 Duration 10.319 seconds.\n",
      "Epoch 92 Loss 0.642582 Duration 9.769 seconds.\n",
      "Epoch 93 Loss 0.818350 Duration 9.982 seconds.\n",
      "Epoch 94 Loss 0.822082 Duration 10.112 seconds.\n",
      "Epoch 95 Loss 0.590616 Duration 10.180 seconds.\n",
      "Epoch 96 Loss 0.813322 Duration 10.259 seconds.\n",
      "Epoch 97 Loss 0.695045 Duration 10.099 seconds.\n",
      "Epoch 98 Loss 0.705974 Duration 9.990 seconds.\n",
      "Epoch 99 Loss 0.581958 Duration 10.250 seconds.\n",
      "Epoch 100 Loss 0.648319 Duration 10.450 seconds.\n",
      "Checkpoint has been created.\n"
     ]
    },
    {
     "data": {
      "image/png": "[encoded data removed]",
      "text/plain": [
       "<Figure size 640x480 with 1 Axes>"
      ]
     },
     "metadata": {},
     "output_type": "display_data"
    },
    {
     "name": "stdout",
     "output_type": "stream",
     "text": [
      "\n",
      "--- Validation ---\n",
      "### Test or Validation ###\n",
      "Restored model parameters from models/resnet18/0.03/model-80.ckpt\n"
     ]
    },
    {
     "name": "stderr",
     "output_type": "stream",
     "text": [
      "100%|██████████| 5000/5000 [00:05<00:00, 868.89it/s]\n"
     ]
    },
    {
     "name": "stdout",
     "output_type": "stream",
     "text": [
      "Checkpoint 80 Test accuracy: 0.7130\n",
      "Restored model parameters from models/resnet18/0.03/model-90.ckpt\n"
     ]
    },
    {
     "name": "stderr",
     "output_type": "stream",
     "text": [
      "100%|██████████| 5000/5000 [00:05<00:00, 889.54it/s]\n"
     ]
    },
    {
     "name": "stdout",
     "output_type": "stream",
     "text": [
      "Checkpoint 90 Test accuracy: 0.7200\n",
      "Restored model parameters from models/resnet18/0.03/model-100.ckpt\n"
     ]
    },
    {
     "name": "stderr",
     "output_type": "stream",
     "text": [
      "100%|██████████| 5000/5000 [00:05<00:00, 883.59it/s]\n"
     ]
    },
    {
     "name": "stdout",
     "output_type": "stream",
     "text": [
      "Checkpoint 100 Test accuracy: 0.7304\n",
      "\n",
      "--- Test ---\n",
      "### Test or Validation ###\n",
      "Restored model parameters from models/resnet18/0.03/model-100.ckpt\n"
     ]
    },
    {
     "name": "stderr",
     "output_type": "stream",
     "text": [
      "100%|██████████| 10000/10000 [00:11<00:00, 879.79it/s]"
     ]
    },
    {
     "name": "stdout",
     "output_type": "stream",
     "text": [
      "Checkpoint 100 Test accuracy: 0.7226\n"
     ]
    },
    {
     "name": "stderr",
     "output_type": "stream",
     "text": [
      "\n"
     ]
    }
   ],
   "source": [
    "# Device setup (use GPU if available)\n",
    "device = torch.device(\"cuda\" if torch.cuda.is_available() else \"cpu\")\n",
    "\n",
    "# Directory for saving models\n",
    "MODEL_DIR = \"models\"\n",
    "os.makedirs(MODEL_DIR, exist_ok=True)\n",
    "\n",
    "# Define configurations for ResNet variations\n",
    "configs = [\n",
    "    {\"use_residual\": True, \"use_bn\": False, \"modeldir\": os.path.join(MODEL_DIR, \"resnet18_no_bn\")},\n",
    "    {\"use_residual\": False, \"use_bn\": True, \"modeldir\": os.path.join(MODEL_DIR, \"resnet18_no_residual\")},\n",
    "    {\"use_residual\": True, \"use_bn\": True, \"modeldir\": os.path.join(MODEL_DIR, \"resnet18\")},\n",
    "]\n",
    "\n",
    "# Define learning rates to test\n",
    "learning_rates = [0.003, 0.01, 0.03]\n",
    "\n",
    "# Run experiments for each configuration and learning rate\n",
    "for config in configs:\n",
    "    for lr in learning_rates:\n",
    "        lr_modeldir = os.path.join(config[\"modeldir\"], str(lr))\n",
    "        os.makedirs(lr_modeldir, exist_ok=True)\n",
    "        run_experiment(\n",
    "            batch_size=128,\n",
    "            save_interval=10,\n",
    "            weight_decay=2e-4,\n",
    "            learning_rate=lr,\n",
    "            modeldir=lr_modeldir,\n",
    "            use_residual=config[\"use_residual\"],\n",
    "            use_bn=config[\"use_bn\"],\n",
    "            device=device\n",
    "        )\n"
   ]
  }
 ],
 "metadata": {
  "kernelspec": {
   "display_name": "Python 3",
   "language": "python",
   "name": "python3"
  },
  "language_info": {
   "codemirror_mode": {
    "name": "ipython",
    "version": 3
   },
   "file_extension": ".py",
   "mimetype": "text/x-python",
   "name": "python",
   "nbconvert_exporter": "python",
   "pygments_lexer": "ipython3",
   "version": "3.10.12"
  }
 },
 "nbformat": 4,
 "nbformat_minor": 2
}
