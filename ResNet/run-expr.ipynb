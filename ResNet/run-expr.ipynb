{
 "cells": [
  {
   "cell_type": "code",
   "execution_count": 1,
   "metadata": {},
   "outputs": [],
   "source": [
    "import os\n",
    "import torch\n",
    "from DataReader import load_data, train_vaild_split\n",
    "from Model import Cifar\n",
    "\n",
    "def run_experiment(batch_size, save_interval, weight_decay, learning_rate, modeldir, use_residual, use_bn, device):\n",
    "    # Set up config\n",
    "    class Config:\n",
    "        def __init__(self):\n",
    "            self.batch_size = batch_size\n",
    "            self.save_interval = save_interval\n",
    "            self.weight_decay = weight_decay\n",
    "            self.lr = learning_rate\n",
    "            self.modeldir = modeldir\n",
    "            self.use_residual = use_residual\n",
    "            self.use_bn = use_bn\n",
    "            self.device = device\n",
    "    \n",
    "    config = Config()\n",
    "    \n",
    "    # Load and split data\n",
    "    data_dir = \"/home/grads/s/skpaul/Deep-ResNet-CIFAR-10/dataset/cifar-10-batches-py\"\n",
    "    x_train, y_train, x_test, y_test = load_data(data_dir)\n",
    "    x_train_new, y_train_new, x_valid, y_valid = train_vaild_split(x_train, y_train)\n",
    "\n",
    "    # Initialize and train the model\n",
    "    model = Cifar(config).to(device)\n",
    "    print(f\"\\n--- Training with learning rate {learning_rate}, Residual: {use_residual}, BatchNorm: {use_bn} ---\")\n",
    "    model.train(x_train_new, y_train_new, 100)\n",
    "\n",
    "    # Validate and test\n",
    "    print(\"\\n--- Validation ---\")\n",
    "    model.test_or_validate(x_valid, y_valid, [80, 90, 100])\n",
    "    print(\"\\n--- Test ---\")\n",
    "    model.test_or_validate(x_test, y_test, [100])"
   ]
  },
  {
   "cell_type": "code",
   "execution_count": null,
   "metadata": {},
   "outputs": [
    {
     "name": "stdout",
     "output_type": "stream",
     "text": [
      "\n",
      "--- Training with learning rate 0.003, Residual: True, BatchNorm: True ---\n",
      "### Training... ###\n",
      "Epoch 1 Loss 1.417692 Duration 10.041 seconds.\n",
      "Epoch 2 Loss 1.369893 Duration 10.322 seconds.\n",
      "Epoch 3 Loss 1.098679 Duration 10.115 seconds.\n",
      "Epoch 4 Loss 1.155886 Duration 9.931 seconds.\n",
      "Epoch 5 Loss 0.986760 Duration 9.855 seconds.\n",
      "Epoch 6 Loss 0.991567 Duration 10.328 seconds.\n",
      "Epoch 7 Loss 0.898010 Duration 10.403 seconds.\n",
      "Epoch 8 Loss 0.763625 Duration 10.117 seconds.\n",
      "Epoch 9 Loss 0.809437 Duration 9.956 seconds.\n",
      "Epoch 10 Loss 0.696193 Duration 10.307 seconds.\n",
      "Checkpoint has been created.\n",
      "Epoch 11 Loss 0.684763 Duration 9.981 seconds.\n",
      "Epoch 12 Loss 0.979112 Duration 10.150 seconds.\n",
      "Epoch 13 Loss 0.604897 Duration 9.844 seconds.\n",
      "Epoch 14 Loss 0.724227 Duration 10.054 seconds.\n",
      "Epoch 15 Loss 0.603436 Duration 10.387 seconds.\n",
      "Epoch 16 Loss 0.733145 Duration 9.999 seconds.\n",
      "Epoch 17 Loss 0.556992 Duration 10.286 seconds.\n",
      "Epoch 18 Loss 0.684277 Duration 9.751 seconds.\n",
      "Epoch 19 Loss 0.593572 Duration 9.953 seconds.\n",
      "Epoch 20 Loss 0.547299 Duration 10.388 seconds.\n",
      "Checkpoint has been created.\n",
      "Epoch 21 Loss 0.472766 Duration 10.334 seconds.\n",
      "Epoch 22 Loss 0.404026 Duration 10.269 seconds.\n",
      "Epoch 23 Loss 0.538779 Duration 10.023 seconds.\n",
      "Epoch 24 Loss 0.467655 Duration 10.400 seconds.\n",
      "Epoch 25 Loss 0.468938 Duration 10.207 seconds.\n",
      "Epoch 26 Loss 0.468592 Duration 10.275 seconds.\n",
      "Epoch 27 Loss 0.470480 Duration 10.138 seconds.\n",
      "Epoch 28 Loss 0.554735 Duration 10.245 seconds.\n",
      "Epoch 29 Loss 0.378349 Duration 10.313 seconds.\n",
      "Epoch 30 Loss 0.412671 Duration 10.010 seconds.\n",
      "Checkpoint has been created.\n",
      "Epoch 31 Loss 0.536158 Duration 10.421 seconds.\n",
      "Epoch 32 Loss 0.429469 Duration 10.237 seconds.\n",
      "Epoch 33 Loss 0.271399 Duration 9.804 seconds.\n",
      "Epoch 34 Loss 0.429520 Duration 10.001 seconds.\n",
      "Epoch 35 Loss 0.455444 Duration 10.219 seconds.\n",
      "Epoch 36 Loss 0.497918 Duration 10.097 seconds.\n",
      "Epoch 37 Loss 0.340830 Duration 9.879 seconds.\n",
      "Epoch 38 Loss 0.244625 Duration 10.105 seconds.\n",
      "Epoch 39 Loss 0.436089 Duration 10.353 seconds.\n",
      "Epoch 40 Loss 0.451253 Duration 10.057 seconds.\n",
      "Checkpoint has been created.\n",
      "Epoch 41 Loss 0.267927 Duration 10.004 seconds.\n",
      "Epoch 42 Loss 0.305576 Duration 10.209 seconds.\n",
      "Epoch 43 Loss 0.240414 Duration 9.787 seconds.\n",
      "Epoch 44 Loss 0.346887 Duration 9.878 seconds.\n",
      "Epoch 45 Loss 0.224978 Duration 10.344 seconds.\n",
      "Epoch 46 Loss 0.296347 Duration 10.215 seconds.\n",
      "Epoch 47 Loss 0.302740 Duration 9.962 seconds.\n",
      "Epoch 48 Loss 0.361204 Duration 9.814 seconds.\n",
      "Epoch 49 Loss 0.213795 Duration 9.897 seconds.\n",
      "Epoch 50 Loss 0.296370 Duration 10.450 seconds.\n",
      "Checkpoint has been created.\n",
      "Epoch 51 Loss 0.300388 Duration 10.378 seconds.\n",
      "Epoch 52 Loss 0.248238 Duration 10.489 seconds.\n",
      "Epoch 53 Loss 0.249922 Duration 10.342 seconds.\n",
      "Epoch 54 Loss 0.339129 Duration 10.411 seconds.\n",
      "Epoch 55 Loss 0.274233 Duration 10.309 seconds.\n",
      "Epoch 56 Loss 0.372427 Duration 9.718 seconds.\n",
      "Epoch 57 Loss 0.273321 Duration 10.251 seconds.\n",
      "Epoch 58 Loss 0.306291 Duration 10.079 seconds.\n",
      "Epoch 59 Loss 0.154236 Duration 10.081 seconds.\n",
      "Epoch 60 Loss 0.240797 Duration 9.929 seconds.\n",
      "Checkpoint has been created.\n",
      "Epoch 61 Loss 0.208484 Duration 10.190 seconds.\n",
      "Epoch 62 Loss 0.205086 Duration 9.764 seconds.\n",
      "Epoch 63 Loss 0.190887 Duration 10.104 seconds.\n",
      "Epoch 64 Loss 0.180915 Duration 9.732 seconds.\n",
      "Epoch 65 Loss 0.143558 Duration 9.808 seconds.\n",
      "Epoch 66 Loss 0.174017 Duration 10.224 seconds.\n",
      "Epoch 67 Loss 0.216748 Duration 9.865 seconds.\n",
      "Epoch 68 Loss 0.326978 Duration 10.015 seconds.\n",
      "Epoch 69 Loss 0.131370 Duration 9.667 seconds.\n",
      "Epoch 70 Loss 0.224750 Duration 9.821 seconds.\n",
      "Checkpoint has been created.\n",
      "Epoch 71 Loss 0.213923 Duration 10.090 seconds.\n",
      "Epoch 72 Loss 0.221281 Duration 10.023 seconds.\n",
      "Epoch 73 Loss 0.155022 Duration 10.264 seconds.\n",
      "Epoch 74 Loss 0.189392 Duration 10.050 seconds.\n",
      "Epoch 75 Loss 0.110308 Duration 10.257 seconds.\n",
      "Epoch 76 Loss 0.176853 Duration 9.995 seconds.\n",
      "Epoch 77 Loss 0.254039 Duration 9.941 seconds.\n",
      "Epoch 78 Loss 0.170215 Duration 9.878 seconds.\n",
      "Epoch 79 Loss 0.195992 Duration 10.116 seconds.\n",
      "Epoch 80 Loss 0.107699 Duration 10.063 seconds.\n",
      "Checkpoint has been created.\n",
      "Epoch 81 Loss 0.129879 Duration 10.331 seconds.\n",
      "Epoch 82 Loss 0.165412 Duration 10.024 seconds.\n",
      "Epoch 83 Loss 0.130713 Duration 9.982 seconds.\n",
      "Epoch 84 Loss 0.141249 Duration 9.992 seconds.\n",
      "Epoch 85 Loss 0.132588 Duration 10.154 seconds.\n",
      "Epoch 86 Loss 0.078232 Duration 9.856 seconds.\n",
      "Epoch 87 Loss 0.099457 Duration 10.105 seconds.\n",
      "Epoch 88 Loss 0.208085 Duration 10.041 seconds.\n",
      "Epoch 89 Loss 0.100047 Duration 10.462 seconds.\n",
      "Epoch 90 Loss 0.259939 Duration 10.426 seconds.\n",
      "Checkpoint has been created.\n",
      "Epoch 91 Loss 0.068718 Duration 10.448 seconds.\n",
      "Epoch 92 Loss 0.091574 Duration 10.109 seconds.\n",
      "Epoch 93 Loss 0.188798 Duration 9.757 seconds.\n",
      "Epoch 94 Loss 0.086163 Duration 10.011 seconds.\n",
      "Epoch 95 Loss 0.133928 Duration 10.532 seconds.\n",
      "Epoch 96 Loss 0.170524 Duration 10.550 seconds.\n",
      "Epoch 97 Loss 0.091488 Duration 10.569 seconds.\n",
      "Epoch 98 Loss 0.070338 Duration 10.439 seconds.\n",
      "Epoch 99 Loss 0.146003 Duration 10.501 seconds.\n",
      "Epoch 100 Loss 0.071866 Duration 10.577 seconds.\n",
      "Checkpoint has been created.\n"
     ]
    },
    {
     "data": {
      "image/png": "[encoded data removed]",
      "text/plain": [
       "<Figure size 640x480 with 1 Axes>"
      ]
     },
     "metadata": {},
     "output_type": "display_data"
    },
    {
     "name": "stdout",
     "output_type": "stream",
     "text": [
      "\n",
      "--- Validation ---\n",
      "### Test or Validation ###\n"
     ]
    },
    {
     "name": "stderr",
     "output_type": "stream",
     "text": [
      "/home/grads/s/skpaul/Deep-ResNet-CIFAR-10/ResNet/Model.py:129: FutureWarning: You are using `torch.load` with `weights_only=False` (the current default value), which uses the default pickle module implicitly. It is possible to construct malicious pickle data which will execute arbitrary code during unpickling (See https://github.com/pytorch/pytorch/blob/main/SECURITY.md#untrusted-models for more details). In a future release, the default value for `weights_only` will be flipped to `True`. This limits the functions that could be executed during unpickling. Arbitrary objects will no longer be allowed to be loaded via this mode unless they are explicitly allowlisted by the user via `torch.serialization.add_safe_globals`. We recommend you start setting `weights_only=True` for any use case where you don't have full control of the loaded file. Please open an issue on GitHub for any issues related to this experimental feature.\n",
      "  ckpt = torch.load(checkpoint_name, map_location=self.config.device)\n"
     ]
    },
    {
     "name": "stdout",
     "output_type": "stream",
     "text": [
      "Restored model parameters from models/resnet18/0.003/model-80.ckpt\n"
     ]
    },
    {
     "name": "stderr",
     "output_type": "stream",
     "text": [
      "100%|██████████| 5000/5000 [00:05<00:00, 874.17it/s]\n"
     ]
    },
    {
     "name": "stdout",
     "output_type": "stream",
     "text": [
      "Checkpoint 80 Test accuracy: 0.8402\n",
      "Restored model parameters from models/resnet18/0.003/model-90.ckpt\n"
     ]
    },
    {
     "name": "stderr",
     "output_type": "stream",
     "text": [
      "100%|██████████| 5000/5000 [00:05<00:00, 857.85it/s]\n"
     ]
    },
    {
     "name": "stdout",
     "output_type": "stream",
     "text": [
      "Checkpoint 90 Test accuracy: 0.8412\n",
      "Restored model parameters from models/resnet18/0.003/model-100.ckpt\n"
     ]
    },
    {
     "name": "stderr",
     "output_type": "stream",
     "text": [
      "100%|██████████| 5000/5000 [00:05<00:00, 875.10it/s]\n"
     ]
    },
    {
     "name": "stdout",
     "output_type": "stream",
     "text": [
      "Checkpoint 100 Test accuracy: 0.8444\n",
      "\n",
      "--- Test ---\n",
      "### Test or Validation ###\n",
      "Restored model parameters from models/resnet18/0.003/model-100.ckpt\n"
     ]
    },
    {
     "name": "stderr",
     "output_type": "stream",
     "text": [
      "100%|██████████| 10000/10000 [00:11<00:00, 884.31it/s]\n"
     ]
    },
    {
     "name": "stdout",
     "output_type": "stream",
     "text": [
      "Checkpoint 100 Test accuracy: 0.8397\n",
      "\n",
      "--- Training with learning rate 0.01, Residual: True, BatchNorm: True ---\n",
      "### Training... ###\n",
      "Epoch 1 Loss 1.527227 Duration 10.036 seconds.\n",
      "Epoch 2 Loss 1.473264 Duration 10.117 seconds.\n",
      "Epoch 3 Loss 1.257573 Duration 10.398 seconds.\n",
      "Epoch 4 Loss 1.178150 Duration 10.119 seconds.\n",
      "Epoch 5 Loss 1.138995 Duration 10.224 seconds.\n",
      "Epoch 6 Loss 1.025898 Duration 9.942 seconds.\n",
      "Epoch 7 Loss 0.981949 Duration 10.327 seconds.\n",
      "Epoch 8 Loss 1.067776 Duration 10.705 seconds.\n",
      "Epoch 9 Loss 0.940108 Duration 9.857 seconds.\n",
      "Epoch 10 Loss 0.952236 Duration 9.917 seconds.\n",
      "Checkpoint has been created.\n",
      "Epoch 11 Loss 0.875706 Duration 10.390 seconds.\n",
      "Epoch 12 Loss 0.820511 Duration 10.727 seconds.\n",
      "Epoch 13 Loss 0.757758 Duration 10.644 seconds.\n",
      "Epoch 14 Loss 0.806644 Duration 10.561 seconds.\n",
      "Epoch 15 Loss 0.842994 Duration 10.695 seconds.\n",
      "Epoch 16 Loss 0.726379 Duration 10.743 seconds.\n",
      "Epoch 17 Loss 0.846385 Duration 10.250 seconds.\n",
      "Epoch 18 Loss 0.913894 Duration 10.022 seconds.\n",
      "Epoch 19 Loss 0.841073 Duration 10.092 seconds.\n",
      "Epoch 20 Loss 0.807726 Duration 10.077 seconds.\n",
      "Checkpoint has been created.\n",
      "Epoch 21 Loss 0.650063 Duration 9.716 seconds.\n",
      "Epoch 22 Loss 0.762306 Duration 9.938 seconds.\n",
      "Epoch 23 Loss 0.700596 Duration 10.233 seconds.\n",
      "Epoch 24 Loss 0.743787 Duration 10.199 seconds.\n",
      "Epoch 25 Loss 0.792362 Duration 10.062 seconds.\n",
      "Epoch 26 Loss 0.749577 Duration 9.989 seconds.\n",
      "Epoch 27 Loss 0.743621 Duration 10.140 seconds.\n",
      "Epoch 28 Loss 0.704672 Duration 10.017 seconds.\n",
      "Epoch 29 Loss 0.702408 Duration 9.843 seconds.\n",
      "Epoch 30 Loss 0.656504 Duration 9.710 seconds.\n",
      "Checkpoint has been created.\n",
      "Epoch 31 Loss 0.824139 Duration 9.906 seconds.\n",
      "Epoch 32 Loss 0.714320 Duration 9.872 seconds.\n",
      "Epoch 33 Loss 0.755478 Duration 9.922 seconds.\n",
      "Epoch 34 Loss 0.669149 Duration 9.676 seconds.\n",
      "Epoch 35 Loss 0.602024 Duration 9.884 seconds.\n",
      "Epoch 36 Loss 0.606504 Duration 10.373 seconds.\n",
      "Epoch 37 Loss 0.565140 Duration 10.065 seconds.\n",
      "Epoch 38 Loss 0.622003 Duration 9.895 seconds.\n",
      "Epoch 39 Loss 0.532611 Duration 10.321 seconds.\n",
      "Epoch 40 Loss 0.659326 Duration 10.330 seconds.\n",
      "Checkpoint has been created.\n",
      "Epoch 41 Loss 0.579051 Duration 10.443 seconds.\n",
      "Epoch 42 Loss 0.579650 Duration 10.501 seconds.\n",
      "Epoch 43 Loss 0.621500 Duration 10.463 seconds.\n",
      "Epoch 44 Loss 0.597503 Duration 9.971 seconds.\n",
      "Epoch 45 Loss 0.604743 Duration 10.294 seconds.\n",
      "Epoch 46 Loss 0.654204 Duration 9.889 seconds.\n",
      "Epoch 47 Loss 0.485685 Duration 10.198 seconds.\n",
      "Epoch 48 Loss 0.549301 Duration 9.974 seconds.\n",
      "Epoch 49 Loss 0.532765 Duration 10.094 seconds.\n",
      "Epoch 50 Loss 0.604206 Duration 9.799 seconds.\n",
      "Checkpoint has been created.\n",
      "Epoch 51 Loss 0.572478 Duration 9.957 seconds.\n",
      "Epoch 52 Loss 0.429223 Duration 9.869 seconds.\n",
      "Epoch 53 Loss 0.581105 Duration 10.012 seconds.\n",
      "Epoch 54 Loss 0.565850 Duration 10.076 seconds.\n",
      "Epoch 55 Loss 0.572883 Duration 9.977 seconds.\n",
      "Epoch 56 Loss 0.505593 Duration 9.868 seconds.\n",
      "Epoch 57 Loss 0.667293 Duration 10.033 seconds.\n",
      "Epoch 58 Loss 0.481552 Duration 10.380 seconds.\n",
      "Epoch 59 Loss 0.573486 Duration 9.868 seconds.\n",
      "Epoch 60 Loss 0.352032 Duration 9.992 seconds.\n",
      "Checkpoint has been created.\n",
      "Epoch 61 Loss 0.535296 Duration 10.053 seconds.\n",
      "Epoch 62 Loss 0.359292 Duration 10.151 seconds.\n",
      "Epoch 63 Loss 0.528750 Duration 9.690 seconds.\n",
      "Epoch 64 Loss 0.431373 Duration 9.909 seconds.\n",
      "Epoch 65 Loss 0.428183 Duration 9.867 seconds.\n",
      "Epoch 66 Loss 0.484679 Duration 10.194 seconds.\n",
      "Epoch 67 Loss 0.448338 Duration 9.926 seconds.\n",
      "Epoch 68 Loss 0.612022 Duration 10.318 seconds.\n",
      "Epoch 69 Loss 0.506850 Duration 10.157 seconds.\n",
      "Epoch 70 Loss 0.480974 Duration 10.295 seconds.\n",
      "Checkpoint has been created.\n",
      "Epoch 71 Loss 0.496557 Duration 9.885 seconds.\n",
      "Epoch 72 Loss 0.438118 Duration 10.382 seconds.\n",
      "Epoch 73 Loss 0.486339 Duration 10.344 seconds.\n",
      "Epoch 74 Loss 0.390252 Duration 10.137 seconds.\n",
      "Epoch 75 Loss 0.552351 Duration 9.813 seconds.\n",
      "Epoch 76 Loss 0.354772 Duration 9.949 seconds.\n",
      "Epoch 77 Loss 0.446454 Duration 9.957 seconds.\n",
      "Epoch 78 Loss 0.304841 Duration 10.523 seconds.\n",
      "Epoch 79 Loss 0.405660 Duration 10.217 seconds.\n",
      "Epoch 80 Loss 0.400972 Duration 10.130 seconds.\n",
      "Checkpoint has been created.\n",
      "Epoch 81 Loss 0.514536 Duration 10.287 seconds.\n",
      "Epoch 82 Loss 0.368817 Duration 10.224 seconds.\n",
      "Epoch 83 Loss 0.318584 Duration 9.971 seconds.\n",
      "Epoch 84 Loss 0.440321 Duration 10.094 seconds.\n",
      "Epoch 85 Loss 0.429067 Duration 10.077 seconds.\n",
      "Epoch 86 Loss 0.259825 Duration 10.129 seconds.\n",
      "Epoch 87 Loss 0.537641 Duration 9.928 seconds.\n",
      "Epoch 88 Loss 0.573837 Duration 10.180 seconds.\n",
      "Epoch 89 Loss 0.310237 Duration 9.835 seconds.\n",
      "Epoch 90 Loss 0.382289 Duration 9.901 seconds.\n",
      "Checkpoint has been created.\n",
      "Epoch 91 Loss 0.325933 Duration 9.783 seconds.\n",
      "Epoch 92 Loss 0.394465 Duration 10.019 seconds.\n",
      "Epoch 93 Loss 0.275208 Duration 9.965 seconds.\n",
      "Epoch 94 Loss 0.276303 Duration 10.035 seconds.\n",
      "Epoch 95 Loss 0.376805 Duration 10.258 seconds.\n",
      "Epoch 96 Loss 0.353974 Duration 10.050 seconds.\n",
      "Epoch 97 Loss 0.454132 Duration 10.498 seconds.\n",
      "Epoch 98 Loss 0.493295 Duration 10.252 seconds.\n",
      "Epoch 99 Loss 0.310860 Duration 10.152 seconds.\n",
      "Epoch 100 Loss 0.341217 Duration 9.923 seconds.\n",
      "Checkpoint has been created.\n"
     ]
    },
    {
     "data": {
      "image/png": "[encoded data removed]",
      "text/plain": [
       "<Figure size 640x480 with 1 Axes>"
      ]
     },
     "metadata": {},
     "output_type": "display_data"
    },
    {
     "name": "stdout",
     "output_type": "stream",
     "text": [
      "\n",
      "--- Validation ---\n",
      "### Test or Validation ###\n",
      "Restored model parameters from models/resnet18/0.01/model-80.ckpt\n"
     ]
    },
    {
     "name": "stderr",
     "output_type": "stream",
     "text": [
      "100%|██████████| 5000/5000 [00:05<00:00, 866.09it/s]\n"
     ]
    },
    {
     "name": "stdout",
     "output_type": "stream",
     "text": [
      "Checkpoint 80 Test accuracy: 0.8058\n",
      "Restored model parameters from models/resnet18/0.01/model-90.ckpt\n"
     ]
    },
    {
     "name": "stderr",
     "output_type": "stream",
     "text": [
      "100%|██████████| 5000/5000 [00:05<00:00, 890.50it/s]\n"
     ]
    },
    {
     "name": "stdout",
     "output_type": "stream",
     "text": [
      "Checkpoint 90 Test accuracy: 0.8152\n",
      "Restored model parameters from models/resnet18/0.01/model-100.ckpt\n"
     ]
    },
    {
     "name": "stderr",
     "output_type": "stream",
     "text": [
      "100%|██████████| 5000/5000 [00:05<00:00, 886.35it/s]\n"
     ]
    },
    {
     "name": "stdout",
     "output_type": "stream",
     "text": [
      "Checkpoint 100 Test accuracy: 0.8102\n",
      "\n",
      "--- Test ---\n",
      "### Test or Validation ###\n",
      "Restored model parameters from models/resnet18/0.01/model-100.ckpt\n"
     ]
    },
    {
     "name": "stderr",
     "output_type": "stream",
     "text": [
      "100%|██████████| 10000/10000 [00:11<00:00, 859.15it/s]\n"
     ]
    },
    {
     "name": "stdout",
     "output_type": "stream",
     "text": [
      "Checkpoint 100 Test accuracy: 0.8049\n",
      "\n",
      "--- Training with learning rate 0.03, Residual: True, BatchNorm: True ---\n",
      "### Training... ###\n",
      "Epoch 1 Loss 1.838215 Duration 9.824 seconds.\n",
      "Epoch 2 Loss 1.491429 Duration 9.915 seconds.\n",
      "Epoch 3 Loss 1.495115 Duration 9.875 seconds.\n",
      "Epoch 4 Loss 1.579494 Duration 9.965 seconds.\n",
      "Epoch 5 Loss 1.625562 Duration 9.876 seconds.\n",
      "Epoch 6 Loss 1.303910 Duration 9.995 seconds.\n",
      "Epoch 7 Loss 1.410517 Duration 10.283 seconds.\n",
      "Epoch 8 Loss 1.334966 Duration 9.872 seconds.\n",
      "Epoch 9 Loss 1.443235 Duration 9.962 seconds.\n",
      "Epoch 10 Loss 1.271202 Duration 9.789 seconds.\n",
      "Checkpoint has been created.\n",
      "Epoch 11 Loss 1.217691 Duration 9.815 seconds.\n",
      "Epoch 12 Loss 1.158218 Duration 10.457 seconds.\n",
      "Epoch 13 Loss 1.340510 Duration 9.830 seconds.\n",
      "Epoch 14 Loss 1.250292 Duration 10.401 seconds.\n",
      "Epoch 15 Loss 1.324480 Duration 10.007 seconds.\n",
      "Epoch 16 Loss 1.130712 Duration 9.816 seconds.\n",
      "Epoch 17 Loss 1.254811 Duration 10.389 seconds.\n",
      "Epoch 18 Loss 1.296556 Duration 10.337 seconds.\n",
      "Epoch 19 Loss 1.279539 Duration 10.391 seconds.\n",
      "Epoch 20 Loss 1.034639 Duration 10.292 seconds.\n",
      "Checkpoint has been created.\n",
      "Epoch 21 Loss 1.110840 Duration 10.105 seconds.\n",
      "Epoch 22 Loss 0.959592 Duration 10.377 seconds.\n",
      "Epoch 23 Loss 1.095196 Duration 10.616 seconds.\n",
      "Epoch 24 Loss 1.041596 Duration 10.063 seconds.\n",
      "Epoch 25 Loss 1.039565 Duration 10.048 seconds.\n",
      "Epoch 26 Loss 1.038044 Duration 10.248 seconds.\n",
      "Epoch 27 Loss 0.952589 Duration 10.110 seconds.\n",
      "Epoch 28 Loss 1.277789 Duration 9.763 seconds.\n",
      "Epoch 29 Loss 1.161940 Duration 9.939 seconds.\n",
      "Epoch 30 Loss 1.087477 Duration 10.207 seconds.\n",
      "Checkpoint has been created.\n",
      "Epoch 31 Loss 0.994852 Duration 10.026 seconds.\n",
      "Epoch 32 Loss 0.882200 Duration 10.067 seconds.\n",
      "Epoch 33 Loss 1.075134 Duration 10.181 seconds.\n",
      "Epoch 34 Loss 0.993311 Duration 9.948 seconds.\n",
      "Epoch 35 Loss 0.952632 Duration 10.171 seconds.\n",
      "Epoch 36 Loss 0.846978 Duration 9.838 seconds.\n",
      "Epoch 37 Loss 0.971833 Duration 10.170 seconds.\n",
      "Epoch 38 Loss 1.137582 Duration 10.097 seconds.\n",
      "Epoch 39 Loss 1.011938 Duration 9.865 seconds.\n",
      "Epoch 40 Loss 1.029218 Duration 10.043 seconds.\n",
      "Checkpoint has been created.\n",
      "Epoch 41 Loss 1.001979 Duration 9.774 seconds.\n",
      "Epoch 42 Loss 1.075846 Duration 9.724 seconds.\n",
      "Epoch 43 Loss 0.994830 Duration 10.303 seconds.\n",
      "Epoch 44 Loss 0.852960 Duration 9.957 seconds.\n",
      "Epoch 45 Loss 0.949839 Duration 10.049 seconds.\n",
      "Epoch 46 Loss 0.983012 Duration 10.151 seconds.\n",
      "Epoch 47 Loss 0.876032 Duration 10.069 seconds.\n",
      "Epoch 48 Loss 0.779653 Duration 9.998 seconds.\n",
      "Epoch 49 Loss 0.835213 Duration 10.289 seconds.\n",
      "Epoch 50 Loss 0.940284 Duration 9.903 seconds.\n",
      "Checkpoint has been created.\n",
      "Epoch 51 Loss 0.986155 Duration 10.099 seconds.\n",
      "Epoch 52 Loss 0.997414 Duration 10.032 seconds.\n",
      "Epoch 53 Loss 0.872213 Duration 10.424 seconds.\n",
      "Epoch 54 Loss 0.910599 Duration 9.908 seconds.\n",
      "Epoch 55 Loss 0.979492 Duration 9.871 seconds.\n",
      "Epoch 56 Loss 0.787566 Duration 10.025 seconds.\n",
      "Epoch 57 Loss 0.924223 Duration 9.845 seconds.\n",
      "Epoch 58 Loss 0.863037 Duration 9.985 seconds.\n",
      "Epoch 59 Loss 0.884933 Duration 10.464 seconds.\n",
      "Epoch 60 Loss 0.816059 Duration 9.921 seconds.\n",
      "Checkpoint has been created.\n",
      "Epoch 61 Loss 0.818872 Duration 10.208 seconds.\n",
      "Epoch 62 Loss 0.790613 Duration 10.197 seconds.\n",
      "Epoch 63 Loss 0.946278 Duration 10.087 seconds.\n",
      "Epoch 64 Loss 1.029969 Duration 9.791 seconds.\n",
      "Epoch 65 Loss 0.956963 Duration 9.862 seconds.\n",
      "Epoch 66 Loss 0.752094 Duration 9.906 seconds.\n",
      "Epoch 67 Loss 0.863927 Duration 9.993 seconds.\n",
      "Epoch 68 Loss 0.801771 Duration 10.076 seconds.\n",
      "Epoch 69 Loss 0.798552 Duration 10.454 seconds.\n",
      "Epoch 70 Loss 0.923241 Duration 10.477 seconds.\n",
      "Checkpoint has been created.\n",
      "Epoch 71 Loss 1.024738 Duration 9.914 seconds.\n",
      "Epoch 72 Loss 0.759778 Duration 9.700 seconds.\n",
      "Epoch 73 Loss 0.817309 Duration 9.934 seconds.\n",
      "Epoch 74 Loss 0.822939 Duration 10.130 seconds.\n",
      "Epoch 75 Loss 0.733158 Duration 10.168 seconds.\n",
      "Epoch 76 Loss 0.861290 Duration 10.407 seconds.\n",
      "Epoch 77 Loss 0.763875 Duration 10.401 seconds.\n",
      "Epoch 78 Loss 0.947487 Duration 9.899 seconds.\n",
      "Epoch 79 Loss 0.774431 Duration 10.464 seconds.\n",
      "Epoch 80 Loss 0.744689 Duration 9.812 seconds.\n",
      "Checkpoint has been created.\n",
      "Epoch 81 Loss 0.717256 Duration 9.856 seconds.\n",
      "Epoch 82 Loss 0.757876 Duration 10.059 seconds.\n",
      "Epoch 83 Loss 0.750589 Duration 9.990 seconds.\n",
      "Epoch 84 Loss 0.814647 Duration 9.665 seconds.\n",
      "Epoch 85 Loss 0.891387 Duration 9.878 seconds.\n",
      "Epoch 86 Loss 0.783034 Duration 9.870 seconds.\n",
      "Epoch 87 Loss 0.664616 Duration 9.978 seconds.\n",
      "Epoch 88 Loss 0.803986 Duration 9.745 seconds.\n",
      "Epoch 89 Loss 0.588470 Duration 9.681 seconds.\n",
      "Epoch 90 Loss 0.620604 Duration 9.906 seconds.\n",
      "Checkpoint has been created.\n",
      "Epoch 91 Loss 0.538444 Duration 9.898 seconds.\n",
      "Epoch 92 Loss 0.844098 Duration 10.284 seconds.\n",
      "Epoch 93 Loss 0.711054 Duration 9.746 seconds.\n",
      "Epoch 94 Loss 0.712832 Duration 10.478 seconds.\n",
      "Epoch 95 Loss 0.702285 Duration 10.440 seconds.\n",
      "Epoch 96 Loss 0.694893 Duration 10.364 seconds.\n",
      "Epoch 97 Loss 0.859311 Duration 10.362 seconds.\n",
      "Epoch 98 Loss 0.879571 Duration 10.647 seconds.\n",
      "Epoch 99 Loss 0.849371 Duration 10.816 seconds.\n",
      "Epoch 100 Loss 0.861601 Duration 10.736 seconds.\n",
      "Checkpoint has been created.\n"
     ]
    },
    {
     "data": {
      "image/png": "[encoded data removed]",
      "text/plain": [
       "<Figure size 640x480 with 1 Axes>"
      ]
     },
     "metadata": {},
     "output_type": "display_data"
    },
    {
     "name": "stdout",
     "output_type": "stream",
     "text": [
      "\n",
      "--- Validation ---\n",
      "### Test or Validation ###\n",
      "Restored model parameters from models/resnet18/0.03/model-80.ckpt\n"
     ]
    },
    {
     "name": "stderr",
     "output_type": "stream",
     "text": [
      "100%|██████████| 5000/5000 [00:05<00:00, 873.95it/s]\n"
     ]
    },
    {
     "name": "stdout",
     "output_type": "stream",
     "text": [
      "Checkpoint 80 Test accuracy: 0.6998\n",
      "Restored model parameters from models/resnet18/0.03/model-90.ckpt\n"
     ]
    },
    {
     "name": "stderr",
     "output_type": "stream",
     "text": [
      "100%|██████████| 5000/5000 [00:05<00:00, 878.36it/s]\n"
     ]
    },
    {
     "name": "stdout",
     "output_type": "stream",
     "text": [
      "Checkpoint 90 Test accuracy: 0.7078\n",
      "Restored model parameters from models/resnet18/0.03/model-100.ckpt\n"
     ]
    },
    {
     "name": "stderr",
     "output_type": "stream",
     "text": [
      "100%|██████████| 5000/5000 [00:05<00:00, 896.24it/s]\n"
     ]
    },
    {
     "name": "stdout",
     "output_type": "stream",
     "text": [
      "Checkpoint 100 Test accuracy: 0.7144\n",
      "\n",
      "--- Test ---\n",
      "### Test or Validation ###\n",
      "Restored model parameters from models/resnet18/0.03/model-100.ckpt\n"
     ]
    },
    {
     "name": "stderr",
     "output_type": "stream",
     "text": [
      "100%|██████████| 10000/10000 [00:11<00:00, 889.05it/s]\n"
     ]
    },
    {
     "name": "stdout",
     "output_type": "stream",
     "text": [
      "Checkpoint 100 Test accuracy: 0.6985\n",
      "\n",
      "--- Training with learning rate 0.003, Residual: False, BatchNorm: True ---\n",
      "### Training... ###\n",
      "Epoch 1 Loss 1.564250 Duration 10.255 seconds.\n",
      "Epoch 2 Loss 1.264093 Duration 10.342 seconds.\n",
      "Epoch 3 Loss 0.985381 Duration 10.265 seconds.\n",
      "Epoch 4 Loss 1.079854 Duration 10.077 seconds.\n",
      "Epoch 5 Loss 0.816810 Duration 10.182 seconds.\n",
      "Epoch 6 Loss 1.013302 Duration 9.917 seconds.\n",
      "Epoch 7 Loss 0.780779 Duration 10.251 seconds.\n",
      "Epoch 8 Loss 0.757736 Duration 10.433 seconds.\n",
      "Epoch 9 Loss 0.755665 Duration 10.381 seconds.\n",
      "Epoch 10 Loss 0.695185 Duration 10.266 seconds.\n",
      "Checkpoint has been created.\n",
      "Epoch 11 Loss 0.694390 Duration 10.341 seconds.\n",
      "Epoch 12 Loss 0.582752 Duration 10.268 seconds.\n",
      "Epoch 13 Loss 0.700249 Duration 10.179 seconds.\n",
      "Epoch 14 Loss 0.609608 Duration 10.437 seconds.\n",
      "Epoch 15 Loss 0.638535 Duration 10.324 seconds.\n",
      "Epoch 16 Loss 0.647160 Duration 10.334 seconds.\n",
      "Epoch 17 Loss 0.720621 Duration 10.238 seconds.\n",
      "Epoch 18 Loss 0.702962 Duration 10.504 seconds.\n",
      "Epoch 19 Loss 0.742440 Duration 10.420 seconds.\n",
      "Epoch 20 Loss 0.565742 Duration 10.294 seconds.\n",
      "Checkpoint has been created.\n",
      "Epoch 21 Loss 0.512983 Duration 10.179 seconds.\n",
      "Epoch 22 Loss 0.552325 Duration 10.363 seconds.\n",
      "Epoch 23 Loss 0.398579 Duration 10.393 seconds.\n",
      "Epoch 24 Loss 0.520067 Duration 10.562 seconds.\n",
      "Epoch 25 Loss 0.555662 Duration 10.215 seconds.\n",
      "Epoch 26 Loss 0.497204 Duration 10.032 seconds.\n",
      "Epoch 27 Loss 0.523206 Duration 9.595 seconds.\n",
      "Epoch 28 Loss 0.507454 Duration 10.012 seconds.\n",
      "Epoch 29 Loss 0.433995 Duration 10.209 seconds.\n",
      "Epoch 30 Loss 0.520945 Duration 10.010 seconds.\n",
      "Checkpoint has been created.\n",
      "Epoch 31 Loss 0.423383 Duration 9.754 seconds.\n",
      "Epoch 32 Loss 0.471867 Duration 9.993 seconds.\n",
      "Epoch 33 Loss 0.419258 Duration 10.077 seconds.\n",
      "Epoch 34 Loss 0.478997 Duration 9.761 seconds.\n",
      "Epoch 35 Loss 0.484785 Duration 10.104 seconds.\n",
      "Epoch 36 Loss 0.478162 Duration 10.204 seconds.\n",
      "Epoch 37 Loss 0.353440 Duration 9.774 seconds.\n",
      "Epoch 38 Loss 0.379554 Duration 9.800 seconds.\n",
      "Epoch 39 Loss 0.230944 Duration 9.867 seconds.\n",
      "Epoch 40 Loss 0.251114 Duration 10.054 seconds.\n",
      "Checkpoint has been created.\n",
      "Epoch 41 Loss 0.304811 Duration 10.360 seconds.\n",
      "Epoch 42 Loss 0.337223 Duration 10.260 seconds.\n",
      "Epoch 43 Loss 0.330323 Duration 10.441 seconds.\n",
      "Epoch 44 Loss 0.219464 Duration 10.306 seconds.\n",
      "Epoch 45 Loss 0.304775 Duration 10.075 seconds.\n",
      "Epoch 46 Loss 0.240143 Duration 10.146 seconds.\n",
      "Epoch 47 Loss 0.337825 Duration 9.721 seconds.\n",
      "Epoch 48 Loss 0.245403 Duration 10.216 seconds.\n",
      "Epoch 49 Loss 0.336695 Duration 9.762 seconds.\n",
      "Epoch 50 Loss 0.270433 Duration 10.266 seconds.\n",
      "Checkpoint has been created.\n",
      "Epoch 51 Loss 0.266482 Duration 9.803 seconds.\n",
      "Epoch 52 Loss 0.312599 Duration 10.284 seconds.\n",
      "Epoch 53 Loss 0.110531 Duration 9.801 seconds.\n",
      "Epoch 54 Loss 0.250236 Duration 9.668 seconds.\n",
      "Epoch 55 Loss 0.298991 Duration 10.415 seconds.\n",
      "Epoch 56 Loss 0.254074 Duration 10.470 seconds.\n",
      "Epoch 57 Loss 0.164355 Duration 9.955 seconds.\n",
      "Epoch 58 Loss 0.239490 Duration 10.156 seconds.\n",
      "Epoch 59 Loss 0.253063 Duration 9.972 seconds.\n",
      "Epoch 60 Loss 0.181421 Duration 10.067 seconds.\n",
      "Checkpoint has been created.\n",
      "Epoch 61 Loss 0.125336 Duration 10.411 seconds.\n",
      "Epoch 62 Loss 0.120847 Duration 10.263 seconds.\n",
      "Epoch 63 Loss 0.242462 Duration 10.458 seconds.\n",
      "Epoch 64 Loss 0.244557 Duration 10.351 seconds.\n",
      "Epoch 65 Loss 0.113987 Duration 10.112 seconds.\n",
      "Epoch 66 Loss 0.190414 Duration 10.284 seconds.\n",
      "Epoch 67 Loss 0.213257 Duration 10.040 seconds.\n",
      "Epoch 68 Loss 0.236140 Duration 9.941 seconds.\n",
      "Epoch 69 Loss 0.115234 Duration 10.095 seconds.\n",
      "Epoch 70 Loss 0.146062 Duration 10.162 seconds.\n",
      "Checkpoint has been created.\n",
      "Epoch 71 Loss 0.161535 Duration 10.121 seconds.\n",
      "Epoch 72 Loss 0.116925 Duration 10.057 seconds.\n",
      "Epoch 73 Loss 0.146143 Duration 10.533 seconds.\n",
      "Epoch 74 Loss 0.182264 Duration 10.060 seconds.\n",
      "Epoch 75 Loss 0.171902 Duration 10.103 seconds.\n",
      "Epoch 76 Loss 0.071380 Duration 9.984 seconds.\n",
      "Epoch 77 Loss 0.134645 Duration 9.889 seconds.\n",
      "Epoch 78 Loss 0.159747 Duration 10.127 seconds.\n",
      "Epoch 79 Loss 0.133087 Duration 10.221 seconds.\n",
      "Epoch 80 Loss 0.142410 Duration 10.096 seconds.\n",
      "Checkpoint has been created.\n",
      "Epoch 81 Loss 0.117233 Duration 10.092 seconds.\n",
      "Epoch 82 Loss 0.159539 Duration 9.973 seconds.\n",
      "Epoch 83 Loss 0.127263 Duration 10.198 seconds.\n",
      "Epoch 84 Loss 0.177276 Duration 10.128 seconds.\n",
      "Epoch 85 Loss 0.194286 Duration 10.254 seconds.\n",
      "Epoch 86 Loss 0.050039 Duration 9.790 seconds.\n",
      "Epoch 87 Loss 0.058030 Duration 10.058 seconds.\n",
      "Epoch 88 Loss 0.109716 Duration 9.857 seconds.\n",
      "Epoch 89 Loss 0.130643 Duration 10.065 seconds.\n",
      "Epoch 90 Loss 0.139308 Duration 10.365 seconds.\n",
      "Checkpoint has been created.\n",
      "Epoch 91 Loss 0.095444 Duration 10.162 seconds.\n",
      "Epoch 92 Loss 0.118622 Duration 10.219 seconds.\n",
      "Epoch 93 Loss 0.099291 Duration 10.386 seconds.\n",
      "Epoch 94 Loss 0.095032 Duration 10.390 seconds.\n",
      "Epoch 95 Loss 0.092869 Duration 10.344 seconds.\n",
      "Epoch 96 Loss 0.084597 Duration 9.939 seconds.\n",
      "Epoch 97 Loss 0.131850 Duration 10.176 seconds.\n",
      "Epoch 98 Loss 0.080351 Duration 9.712 seconds.\n",
      "Epoch 99 Loss 0.137802 Duration 10.197 seconds.\n",
      "Epoch 100 Loss 0.099634 Duration 10.577 seconds.\n",
      "Checkpoint has been created.\n"
     ]
    },
    {
     "data": {
      "image/png": "[encoded data removed]",
      "text/plain": [
       "<Figure size 640x480 with 1 Axes>"
      ]
     },
     "metadata": {},
     "output_type": "display_data"
    },
    {
     "name": "stdout",
     "output_type": "stream",
     "text": [
      "\n",
      "--- Validation ---\n",
      "### Test or Validation ###\n",
      "Restored model parameters from models/resnet18_no_residual/0.003/model-80.ckpt\n"
     ]
    },
    {
     "name": "stderr",
     "output_type": "stream",
     "text": [
      "100%|██████████| 5000/5000 [00:05<00:00, 871.04it/s]\n"
     ]
    },
    {
     "name": "stdout",
     "output_type": "stream",
     "text": [
      "Checkpoint 80 Test accuracy: 0.8432\n",
      "Restored model parameters from models/resnet18_no_residual/0.003/model-90.ckpt\n"
     ]
    },
    {
     "name": "stderr",
     "output_type": "stream",
     "text": [
      "100%|██████████| 5000/5000 [00:05<00:00, 862.83it/s]\n"
     ]
    },
    {
     "name": "stdout",
     "output_type": "stream",
     "text": [
      "Checkpoint 90 Test accuracy: 0.8476\n",
      "Restored model parameters from models/resnet18_no_residual/0.003/model-100.ckpt\n"
     ]
    },
    {
     "name": "stderr",
     "output_type": "stream",
     "text": [
      "100%|██████████| 5000/5000 [00:05<00:00, 883.30it/s]\n"
     ]
    },
    {
     "name": "stdout",
     "output_type": "stream",
     "text": [
      "Checkpoint 100 Test accuracy: 0.8500\n",
      "\n",
      "--- Test ---\n",
      "### Test or Validation ###\n",
      "Restored model parameters from models/resnet18_no_residual/0.003/model-100.ckpt\n"
     ]
    },
    {
     "name": "stderr",
     "output_type": "stream",
     "text": [
      "100%|██████████| 10000/10000 [00:11<00:00, 879.53it/s]\n"
     ]
    },
    {
     "name": "stdout",
     "output_type": "stream",
     "text": [
      "Checkpoint 100 Test accuracy: 0.8394\n",
      "\n",
      "--- Training with learning rate 0.01, Residual: False, BatchNorm: True ---\n",
      "### Training... ###\n",
      "Epoch 1 Loss 1.681925 Duration 10.194 seconds.\n",
      "Epoch 2 Loss 1.491209 Duration 10.309 seconds.\n",
      "Epoch 3 Loss 1.201162 Duration 10.119 seconds.\n",
      "Epoch 4 Loss 1.173635 Duration 10.573 seconds.\n",
      "Epoch 5 Loss 1.090742 Duration 9.828 seconds.\n",
      "Epoch 6 Loss 1.205479 Duration 10.374 seconds.\n",
      "Epoch 7 Loss 0.979519 Duration 10.369 seconds.\n",
      "Epoch 8 Loss 0.996259 Duration 9.882 seconds.\n",
      "Epoch 9 Loss 1.017154 Duration 9.994 seconds.\n",
      "Epoch 10 Loss 0.988278 Duration 9.853 seconds.\n",
      "Checkpoint has been created.\n",
      "Epoch 11 Loss 0.859188 Duration 10.273 seconds.\n",
      "Epoch 12 Loss 0.984329 Duration 10.279 seconds.\n",
      "Epoch 13 Loss 0.866321 Duration 10.247 seconds.\n",
      "Epoch 14 Loss 0.796823 Duration 10.152 seconds.\n",
      "Epoch 15 Loss 0.907487 Duration 10.221 seconds.\n",
      "Epoch 16 Loss 0.784162 Duration 10.072 seconds.\n",
      "Epoch 17 Loss 0.769138 Duration 9.965 seconds.\n",
      "Epoch 18 Loss 0.811899 Duration 10.267 seconds.\n",
      "Epoch 19 Loss 1.116122 Duration 10.337 seconds.\n",
      "Epoch 20 Loss 0.753547 Duration 10.258 seconds.\n",
      "Checkpoint has been created.\n",
      "Epoch 21 Loss 0.590993 Duration 9.954 seconds.\n",
      "Epoch 22 Loss 0.894816 Duration 10.405 seconds.\n",
      "Epoch 23 Loss 0.795016 Duration 10.216 seconds.\n",
      "Epoch 24 Loss 0.714141 Duration 10.318 seconds.\n",
      "Epoch 25 Loss 0.732471 Duration 10.510 seconds.\n",
      "Epoch 26 Loss 0.803501 Duration 10.319 seconds.\n",
      "Epoch 27 Loss 0.882292 Duration 10.251 seconds.\n",
      "Epoch 28 Loss 0.545488 Duration 10.519 seconds.\n",
      "Epoch 29 Loss 0.830672 Duration 10.053 seconds.\n",
      "Epoch 30 Loss 0.710695 Duration 9.752 seconds.\n",
      "Checkpoint has been created.\n",
      "Epoch 31 Loss 0.552128 Duration 9.995 seconds.\n",
      "Epoch 32 Loss 0.743473 Duration 10.224 seconds.\n",
      "Epoch 33 Loss 0.644481 Duration 10.524 seconds.\n",
      "Epoch 34 Loss 0.714583 Duration 10.668 seconds.\n",
      "Epoch 35 Loss 0.672268 Duration 10.715 seconds.\n",
      "Epoch 36 Loss 0.686314 Duration 10.265 seconds.\n",
      "Epoch 37 Loss 0.626305 Duration 10.128 seconds.\n",
      "Epoch 38 Loss 0.596973 Duration 10.037 seconds.\n",
      "Epoch 39 Loss 0.631477 Duration 10.122 seconds.\n",
      "Epoch 40 Loss 0.681052 Duration 10.574 seconds.\n",
      "Checkpoint has been created.\n",
      "Epoch 41 Loss 0.569568 Duration 10.047 seconds.\n",
      "Epoch 42 Loss 0.618522 Duration 10.292 seconds.\n",
      "Epoch 43 Loss 0.521679 Duration 10.289 seconds.\n",
      "Epoch 44 Loss 0.452225 Duration 10.093 seconds.\n",
      "Epoch 45 Loss 0.617658 Duration 10.221 seconds.\n",
      "Epoch 46 Loss 0.482426 Duration 9.873 seconds.\n",
      "Epoch 47 Loss 0.602770 Duration 9.840 seconds.\n",
      "Epoch 48 Loss 0.632093 Duration 10.018 seconds.\n",
      "Epoch 49 Loss 0.706156 Duration 10.085 seconds.\n",
      "Epoch 50 Loss 0.501638 Duration 10.203 seconds.\n",
      "Checkpoint has been created.\n",
      "Epoch 51 Loss 0.610468 Duration 10.270 seconds.\n",
      "Epoch 52 Loss 0.535343 Duration 10.082 seconds.\n",
      "Epoch 53 Loss 0.564442 Duration 10.126 seconds.\n",
      "Epoch 54 Loss 0.503846 Duration 10.523 seconds.\n",
      "Epoch 55 Loss 0.557566 Duration 10.332 seconds.\n",
      "Epoch 56 Loss 0.480660 Duration 10.324 seconds.\n",
      "Epoch 57 Loss 0.517449 Duration 10.136 seconds.\n",
      "Epoch 58 Loss 0.498732 Duration 10.560 seconds.\n",
      "Epoch 59 Loss 0.544295 Duration 10.341 seconds.\n",
      "Epoch 60 Loss 0.524971 Duration 10.254 seconds.\n",
      "Checkpoint has been created.\n",
      "Epoch 61 Loss 0.597542 Duration 10.348 seconds.\n",
      "Epoch 62 Loss 0.509833 Duration 9.713 seconds.\n",
      "Epoch 63 Loss 0.422714 Duration 9.755 seconds.\n",
      "Epoch 64 Loss 0.430074 Duration 10.419 seconds.\n",
      "Epoch 65 Loss 0.445547 Duration 10.149 seconds.\n",
      "Epoch 66 Loss 0.451063 Duration 10.161 seconds.\n",
      "Epoch 67 Loss 0.517656 Duration 10.292 seconds.\n",
      "Epoch 68 Loss 0.388505 Duration 10.076 seconds.\n",
      "Epoch 69 Loss 0.585961 Duration 10.351 seconds.\n",
      "Epoch 70 Loss 0.472774 Duration 10.323 seconds.\n",
      "Checkpoint has been created.\n",
      "Epoch 71 Loss 0.474406 Duration 10.126 seconds.\n",
      "Epoch 72 Loss 0.319704 Duration 9.885 seconds.\n",
      "Epoch 73 Loss 0.607976 Duration 9.981 seconds.\n",
      "Epoch 74 Loss 0.380044 Duration 10.020 seconds.\n",
      "Epoch 75 Loss 0.516483 Duration 9.878 seconds.\n",
      "Epoch 76 Loss 0.418227 Duration 10.269 seconds.\n",
      "Epoch 77 Loss 0.470184 Duration 10.228 seconds.\n",
      "Epoch 78 Loss 0.390342 Duration 9.840 seconds.\n",
      "Epoch 79 Loss 0.426486 Duration 9.898 seconds.\n",
      "Epoch 80 Loss 0.403491 Duration 10.194 seconds.\n",
      "Checkpoint has been created.\n",
      "Epoch 81 Loss 0.410993 Duration 10.545 seconds.\n",
      "Epoch 82 Loss 0.307553 Duration 10.333 seconds.\n",
      "Epoch 83 Loss 0.380436 Duration 10.046 seconds.\n",
      "Epoch 84 Loss 0.438254 Duration 9.981 seconds.\n",
      "Epoch 85 Loss 0.328897 Duration 10.202 seconds.\n",
      "Epoch 86 Loss 0.440484 Duration 9.861 seconds.\n",
      "Epoch 87 Loss 0.474620 Duration 10.328 seconds.\n",
      "Epoch 88 Loss 0.423857 Duration 10.232 seconds.\n",
      "Epoch 89 Loss 0.249180 Duration 9.818 seconds.\n",
      "Epoch 90 Loss 0.341270 Duration 10.102 seconds.\n",
      "Checkpoint has been created.\n",
      "Epoch 91 Loss 0.350261 Duration 10.147 seconds.\n",
      "Epoch 92 Loss 0.346967 Duration 10.216 seconds.\n",
      "Epoch 93 Loss 0.277633 Duration 10.263 seconds.\n",
      "Epoch 94 Loss 0.340925 Duration 10.030 seconds.\n",
      "Epoch 95 Loss 0.504102 Duration 10.177 seconds.\n",
      "Epoch 96 Loss 0.448076 Duration 10.553 seconds.\n",
      "Epoch 97 Loss 0.405509 Duration 10.712 seconds.\n",
      "Epoch 98 Loss 0.279031 Duration 10.725 seconds.\n",
      "Epoch 99 Loss 0.287467 Duration 10.874 seconds.\n",
      "Epoch 100 Loss 0.375980 Duration 10.359 seconds.\n",
      "Checkpoint has been created.\n"
     ]
    },
    {
     "data": {
      "image/png": "[encoded data removed]",
      "text/plain": [
       "<Figure size 640x480 with 1 Axes>"
      ]
     },
     "metadata": {},
     "output_type": "display_data"
    },
    {
     "name": "stdout",
     "output_type": "stream",
     "text": [
      "\n",
      "--- Validation ---\n",
      "### Test or Validation ###\n",
      "Restored model parameters from models/resnet18_no_residual/0.01/model-80.ckpt\n"
     ]
    },
    {
     "name": "stderr",
     "output_type": "stream",
     "text": [
      "100%|██████████| 5000/5000 [00:05<00:00, 864.35it/s]\n"
     ]
    },
    {
     "name": "stdout",
     "output_type": "stream",
     "text": [
      "Checkpoint 80 Test accuracy: 0.8104\n",
      "Restored model parameters from models/resnet18_no_residual/0.01/model-90.ckpt\n"
     ]
    },
    {
     "name": "stderr",
     "output_type": "stream",
     "text": [
      "100%|██████████| 5000/5000 [00:05<00:00, 862.53it/s]\n"
     ]
    },
    {
     "name": "stdout",
     "output_type": "stream",
     "text": [
      "Checkpoint 90 Test accuracy: 0.8180\n",
      "Restored model parameters from models/resnet18_no_residual/0.01/model-100.ckpt\n"
     ]
    },
    {
     "name": "stderr",
     "output_type": "stream",
     "text": [
      "100%|██████████| 5000/5000 [00:05<00:00, 896.10it/s]\n"
     ]
    },
    {
     "name": "stdout",
     "output_type": "stream",
     "text": [
      "Checkpoint 100 Test accuracy: 0.8276\n",
      "\n",
      "--- Test ---\n",
      "### Test or Validation ###\n",
      "Restored model parameters from models/resnet18_no_residual/0.01/model-100.ckpt\n"
     ]
    },
    {
     "name": "stderr",
     "output_type": "stream",
     "text": [
      "100%|██████████| 10000/10000 [00:11<00:00, 867.31it/s]\n"
     ]
    },
    {
     "name": "stdout",
     "output_type": "stream",
     "text": [
      "Checkpoint 100 Test accuracy: 0.8060\n",
      "\n",
      "--- Training with learning rate 0.03, Residual: False, BatchNorm: True ---\n",
      "### Training... ###\n",
      "Epoch 1 Loss 1.821839 Duration 10.608 seconds.\n",
      "Epoch 2 Loss 1.497751 Duration 9.856 seconds.\n",
      "Epoch 3 Loss 1.448079 Duration 9.992 seconds.\n",
      "Epoch 4 Loss 1.423005 Duration 10.189 seconds.\n",
      "Epoch 5 Loss 1.393309 Duration 10.299 seconds.\n",
      "Epoch 6 Loss 1.412655 Duration 10.544 seconds.\n",
      "Epoch 7 Loss 1.393425 Duration 10.442 seconds.\n",
      "Epoch 8 Loss 1.171860 Duration 10.279 seconds.\n",
      "Epoch 9 Loss 1.448186 Duration 10.170 seconds.\n",
      "Epoch 10 Loss 1.197593 Duration 10.445 seconds.\n",
      "Checkpoint has been created.\n",
      "Epoch 11 Loss 1.387450 Duration 10.441 seconds.\n",
      "Epoch 12 Loss 1.203246 Duration 10.434 seconds.\n",
      "Epoch 13 Loss 1.135855 Duration 10.132 seconds.\n",
      "Epoch 14 Loss 1.347751 Duration 10.186 seconds.\n",
      "Epoch 15 Loss 1.362320 Duration 10.323 seconds.\n",
      "Epoch 16 Loss 1.229123 Duration 10.436 seconds.\n",
      "Epoch 17 Loss 1.340781 Duration 10.648 seconds.\n",
      "Epoch 18 Loss 1.134328 Duration 9.954 seconds.\n",
      "Epoch 19 Loss 1.135177 Duration 10.331 seconds.\n",
      "Epoch 20 Loss 1.303147 Duration 10.229 seconds.\n",
      "Checkpoint has been created.\n",
      "Epoch 21 Loss 1.156920 Duration 9.808 seconds.\n",
      "Epoch 22 Loss 1.142684 Duration 9.955 seconds.\n",
      "Epoch 23 Loss 1.101827 Duration 10.256 seconds.\n",
      "Epoch 24 Loss 0.998930 Duration 10.258 seconds.\n",
      "Epoch 25 Loss 1.119016 Duration 10.204 seconds.\n",
      "Epoch 26 Loss 1.055640 Duration 9.853 seconds.\n",
      "Epoch 27 Loss 1.016545 Duration 9.714 seconds.\n",
      "Epoch 28 Loss 0.993121 Duration 9.929 seconds.\n",
      "Epoch 29 Loss 1.082980 Duration 10.026 seconds.\n",
      "Epoch 30 Loss 1.044911 Duration 9.939 seconds.\n",
      "Checkpoint has been created.\n",
      "Epoch 31 Loss 1.026084 Duration 10.004 seconds.\n",
      "Epoch 32 Loss 0.904410 Duration 9.752 seconds.\n",
      "Epoch 33 Loss 0.893505 Duration 10.543 seconds.\n",
      "Epoch 34 Loss 0.933668 Duration 10.340 seconds.\n",
      "Epoch 35 Loss 1.144599 Duration 9.682 seconds.\n",
      "Epoch 36 Loss 1.229732 Duration 9.899 seconds.\n",
      "Epoch 37 Loss 0.731669 Duration 10.267 seconds.\n",
      "Epoch 38 Loss 0.816295 Duration 10.140 seconds.\n",
      "Epoch 39 Loss 1.086044 Duration 10.078 seconds.\n",
      "Epoch 40 Loss 1.219077 Duration 10.107 seconds.\n",
      "Checkpoint has been created.\n",
      "Epoch 41 Loss 0.975988 Duration 10.097 seconds.\n",
      "Epoch 42 Loss 0.880168 Duration 9.741 seconds.\n",
      "Epoch 43 Loss 1.047746 Duration 10.035 seconds.\n",
      "Epoch 44 Loss 1.012149 Duration 10.394 seconds.\n",
      "Epoch 45 Loss 0.858845 Duration 10.614 seconds.\n",
      "Epoch 46 Loss 0.901844 Duration 9.968 seconds.\n",
      "Epoch 47 Loss 0.954291 Duration 10.168 seconds.\n",
      "Epoch 48 Loss 0.922462 Duration 9.685 seconds.\n",
      "Epoch 49 Loss 0.884086 Duration 10.173 seconds.\n",
      "Epoch 50 Loss 0.919298 Duration 10.140 seconds.\n",
      "Checkpoint has been created.\n",
      "Epoch 51 Loss 0.878123 Duration 9.909 seconds.\n",
      "Epoch 52 Loss 0.897282 Duration 10.111 seconds.\n",
      "Epoch 53 Loss 0.893103 Duration 10.152 seconds.\n",
      "Epoch 54 Loss 0.980614 Duration 10.024 seconds.\n",
      "Epoch 55 Loss 0.886771 Duration 10.150 seconds.\n",
      "Epoch 56 Loss 0.922804 Duration 10.189 seconds.\n",
      "Epoch 57 Loss 0.892597 Duration 10.225 seconds.\n",
      "Epoch 58 Loss 0.929424 Duration 10.466 seconds.\n",
      "Epoch 59 Loss 0.988509 Duration 10.506 seconds.\n",
      "Epoch 60 Loss 0.897801 Duration 10.364 seconds.\n",
      "Checkpoint has been created.\n",
      "Epoch 61 Loss 0.724767 Duration 10.163 seconds.\n",
      "Epoch 62 Loss 0.969661 Duration 9.961 seconds.\n",
      "Epoch 63 Loss 0.783020 Duration 10.235 seconds.\n",
      "Epoch 64 Loss 0.817023 Duration 9.880 seconds.\n",
      "Epoch 65 Loss 0.784826 Duration 9.959 seconds.\n",
      "Epoch 66 Loss 0.817649 Duration 9.884 seconds.\n",
      "Epoch 67 Loss 0.876929 Duration 10.064 seconds.\n",
      "Epoch 68 Loss 0.863977 Duration 10.411 seconds.\n",
      "Epoch 69 Loss 0.803508 Duration 9.929 seconds.\n",
      "Epoch 70 Loss 0.904349 Duration 10.072 seconds.\n",
      "Checkpoint has been created.\n",
      "Epoch 71 Loss 0.881682 Duration 10.234 seconds.\n",
      "Epoch 72 Loss 0.839363 Duration 9.813 seconds.\n",
      "Epoch 73 Loss 0.702271 Duration 10.096 seconds.\n",
      "Epoch 74 Loss 0.837021 Duration 10.112 seconds.\n",
      "Epoch 75 Loss 0.952556 Duration 10.199 seconds.\n",
      "Epoch 76 Loss 0.766726 Duration 10.156 seconds.\n",
      "Epoch 77 Loss 0.829306 Duration 10.047 seconds.\n",
      "Epoch 78 Loss 0.862467 Duration 9.966 seconds.\n",
      "Epoch 79 Loss 0.877772 Duration 10.111 seconds.\n",
      "Epoch 80 Loss 0.909133 Duration 10.234 seconds.\n",
      "Checkpoint has been created.\n",
      "Epoch 81 Loss 0.714214 Duration 9.799 seconds.\n",
      "Epoch 82 Loss 0.616471 Duration 10.083 seconds.\n",
      "Epoch 83 Loss 0.871541 Duration 9.716 seconds.\n",
      "Epoch 84 Loss 0.763768 Duration 10.157 seconds.\n",
      "Epoch 85 Loss 0.873988 Duration 10.273 seconds.\n",
      "Epoch 86 Loss 0.803894 Duration 9.960 seconds.\n",
      "Epoch 87 Loss 0.703644 Duration 10.196 seconds.\n",
      "Epoch 88 Loss 0.713888 Duration 10.093 seconds.\n",
      "Epoch 89 Loss 0.639115 Duration 9.972 seconds.\n",
      "Epoch 90 Loss 0.566683 Duration 10.032 seconds.\n",
      "Checkpoint has been created.\n",
      "Epoch 91 Loss 0.696086 Duration 10.151 seconds.\n",
      "Epoch 92 Loss 0.733935 Duration 10.282 seconds.\n",
      "Epoch 93 Loss 0.821500 Duration 10.164 seconds.\n",
      "Epoch 94 Loss 0.915178 Duration 9.932 seconds.\n",
      "Epoch 95 Loss 0.804368 Duration 9.738 seconds.\n",
      "Epoch 96 Loss 0.805320 Duration 9.926 seconds.\n",
      "Epoch 97 Loss 0.656325 Duration 9.893 seconds.\n",
      "Epoch 98 Loss 0.818917 Duration 9.750 seconds.\n",
      "Epoch 99 Loss 0.770518 Duration 9.902 seconds.\n",
      "Epoch 100 Loss 0.937941 Duration 10.186 seconds.\n",
      "Checkpoint has been created.\n"
     ]
    },
    {
     "data": {
      "image/png": "[encoded data removed]",
      "text/plain": [
       "<Figure size 640x480 with 1 Axes>"
      ]
     },
     "metadata": {},
     "output_type": "display_data"
    },
    {
     "name": "stdout",
     "output_type": "stream",
     "text": [
      "\n",
      "--- Validation ---\n",
      "### Test or Validation ###\n",
      "Restored model parameters from models/resnet18_no_residual/0.03/model-80.ckpt\n"
     ]
    },
    {
     "name": "stderr",
     "output_type": "stream",
     "text": [
      "100%|██████████| 5000/5000 [00:05<00:00, 878.97it/s]\n"
     ]
    },
    {
     "name": "stdout",
     "output_type": "stream",
     "text": [
      "Checkpoint 80 Test accuracy: 0.7018\n",
      "Restored model parameters from models/resnet18_no_residual/0.03/model-90.ckpt\n"
     ]
    },
    {
     "name": "stderr",
     "output_type": "stream",
     "text": [
      "100%|██████████| 5000/5000 [00:05<00:00, 896.67it/s]\n"
     ]
    },
    {
     "name": "stdout",
     "output_type": "stream",
     "text": [
      "Checkpoint 90 Test accuracy: 0.7034\n",
      "Restored model parameters from models/resnet18_no_residual/0.03/model-100.ckpt\n"
     ]
    },
    {
     "name": "stderr",
     "output_type": "stream",
     "text": [
      "100%|██████████| 5000/5000 [00:05<00:00, 901.26it/s]\n"
     ]
    },
    {
     "name": "stdout",
     "output_type": "stream",
     "text": [
      "Checkpoint 100 Test accuracy: 0.7150\n",
      "\n",
      "--- Test ---\n",
      "### Test or Validation ###\n",
      "Restored model parameters from models/resnet18_no_residual/0.03/model-100.ckpt\n"
     ]
    },
    {
     "name": "stderr",
     "output_type": "stream",
     "text": [
      "100%|██████████| 10000/10000 [00:11<00:00, 894.44it/s]\n"
     ]
    },
    {
     "name": "stdout",
     "output_type": "stream",
     "text": [
      "Checkpoint 100 Test accuracy: 0.7095\n",
      "\n",
      "--- Training with learning rate 0.003, Residual: True, BatchNorm: False ---\n",
      "### Training... ###\n",
      "Epoch 1 Loss 1.411964 Duration 10.212 seconds.\n",
      "Epoch 2 Loss 1.220933 Duration 10.037 seconds.\n",
      "Epoch 3 Loss 0.967916 Duration 10.200 seconds.\n",
      "Epoch 4 Loss 1.068117 Duration 10.251 seconds.\n",
      "Epoch 5 Loss 0.747507 Duration 10.111 seconds.\n",
      "Epoch 6 Loss 0.847160 Duration 10.146 seconds.\n",
      "Epoch 7 Loss 0.869457 Duration 10.397 seconds.\n",
      "Epoch 8 Loss 0.766484 Duration 10.225 seconds.\n",
      "Epoch 9 Loss 0.636320 Duration 10.077 seconds.\n",
      "Epoch 10 Loss 0.773512 Duration 9.861 seconds.\n",
      "Checkpoint has been created.\n",
      "Epoch 11 Loss 0.666396 Duration 9.885 seconds.\n",
      "Epoch 12 Loss 0.610463 Duration 9.789 seconds.\n",
      "Epoch 13 Loss 0.773790 Duration 10.026 seconds.\n",
      "Epoch 14 Loss 0.666442 Duration 10.209 seconds.\n",
      "Epoch 15 Loss 0.465455 Duration 10.206 seconds.\n",
      "Epoch 16 Loss 0.588485 Duration 10.119 seconds.\n",
      "Epoch 17 Loss 0.564565 Duration 10.336 seconds.\n",
      "Epoch 18 Loss 0.555558 Duration 9.972 seconds.\n",
      "Epoch 19 Loss 0.718926 Duration 10.338 seconds.\n",
      "Epoch 20 Loss 0.428906 Duration 9.885 seconds.\n",
      "Checkpoint has been created.\n",
      "Epoch 21 Loss 0.492108 Duration 10.210 seconds.\n",
      "Epoch 22 Loss 0.640292 Duration 10.350 seconds.\n",
      "Epoch 23 Loss 0.386688 Duration 10.188 seconds.\n",
      "Epoch 24 Loss 0.572781 Duration 10.469 seconds.\n",
      "Epoch 25 Loss 0.399764 Duration 9.958 seconds.\n",
      "Epoch 26 Loss 0.504490 Duration 10.212 seconds.\n",
      "Epoch 27 Loss 0.548901 Duration 10.133 seconds.\n",
      "Epoch 28 Loss 0.263518 Duration 9.815 seconds.\n",
      "Epoch 29 Loss 0.678734 Duration 10.057 seconds.\n",
      "Epoch 30 Loss 0.533930 Duration 9.921 seconds.\n",
      "Checkpoint has been created.\n",
      "Epoch 31 Loss 0.271782 Duration 10.029 seconds.\n",
      "Epoch 32 Loss 0.512403 Duration 9.950 seconds.\n",
      "Epoch 33 Loss 0.490605 Duration 9.879 seconds.\n",
      "Epoch 34 Loss 0.387521 Duration 10.467 seconds.\n",
      "Epoch 35 Loss 0.313631 Duration 10.000 seconds.\n",
      "Epoch 36 Loss 0.275641 Duration 10.084 seconds.\n",
      "Epoch 37 Loss 0.391878 Duration 9.935 seconds.\n",
      "Epoch 38 Loss 0.482587 Duration 9.995 seconds.\n",
      "Epoch 39 Loss 0.405046 Duration 9.952 seconds.\n",
      "Epoch 40 Loss 0.501805 Duration 10.288 seconds.\n",
      "Checkpoint has been created.\n",
      "Epoch 41 Loss 0.260844 Duration 9.847 seconds.\n",
      "Epoch 42 Loss 0.280913 Duration 10.088 seconds.\n",
      "Epoch 43 Loss 0.357150 Duration 10.133 seconds.\n",
      "Epoch 44 Loss 0.375422 Duration 10.292 seconds.\n",
      "Epoch 45 Loss 0.193525 Duration 10.085 seconds.\n",
      "Epoch 46 Loss 0.300733 Duration 9.811 seconds.\n",
      "Epoch 47 Loss 0.391779 Duration 10.201 seconds.\n",
      "Epoch 48 Loss 0.291520 Duration 10.418 seconds.\n",
      "Epoch 49 Loss 0.302991 Duration 10.217 seconds.\n",
      "Epoch 50 Loss 0.235461 Duration 10.310 seconds.\n",
      "Checkpoint has been created.\n",
      "Epoch 51 Loss 0.212915 Duration 10.264 seconds.\n",
      "Epoch 52 Loss 0.174704 Duration 10.366 seconds.\n",
      "Epoch 53 Loss 0.291943 Duration 10.111 seconds.\n",
      "Epoch 54 Loss 0.238625 Duration 10.000 seconds.\n",
      "Epoch 55 Loss 0.164357 Duration 10.156 seconds.\n",
      "Epoch 56 Loss 0.350165 Duration 10.377 seconds.\n",
      "Epoch 57 Loss 0.316581 Duration 9.756 seconds.\n",
      "Epoch 58 Loss 0.201560 Duration 10.048 seconds.\n",
      "Epoch 59 Loss 0.158295 Duration 10.237 seconds.\n",
      "Epoch 60 Loss 0.207580 Duration 10.366 seconds.\n",
      "Checkpoint has been created.\n",
      "Epoch 61 Loss 0.272382 Duration 10.336 seconds.\n",
      "Epoch 62 Loss 0.261469 Duration 10.128 seconds.\n",
      "Epoch 63 Loss 0.263268 Duration 9.901 seconds.\n",
      "Epoch 64 Loss 0.300631 Duration 9.895 seconds.\n",
      "Epoch 65 Loss 0.231811 Duration 9.840 seconds.\n",
      "Epoch 66 Loss 0.107650 Duration 9.875 seconds.\n",
      "Epoch 67 Loss 0.243796 Duration 9.740 seconds.\n",
      "Epoch 68 Loss 0.191798 Duration 10.162 seconds.\n",
      "Epoch 69 Loss 0.152743 Duration 10.001 seconds.\n",
      "Epoch 70 Loss 0.210825 Duration 10.253 seconds.\n",
      "Checkpoint has been created.\n",
      "Epoch 71 Loss 0.199590 Duration 10.039 seconds.\n",
      "Epoch 72 Loss 0.141488 Duration 9.809 seconds.\n",
      "Epoch 73 Loss 0.208901 Duration 9.957 seconds.\n",
      "Epoch 74 Loss 0.164948 Duration 10.088 seconds.\n",
      "Epoch 75 Loss 0.122229 Duration 10.048 seconds.\n",
      "Epoch 76 Loss 0.123856 Duration 10.413 seconds.\n",
      "Epoch 77 Loss 0.104722 Duration 9.626 seconds.\n",
      "Epoch 78 Loss 0.186642 Duration 9.654 seconds.\n",
      "Epoch 79 Loss 0.205991 Duration 9.679 seconds.\n",
      "Epoch 80 Loss 0.129873 Duration 10.273 seconds.\n",
      "Checkpoint has been created.\n",
      "Epoch 81 Loss 0.286352 Duration 10.340 seconds.\n",
      "Epoch 82 Loss 0.205606 Duration 10.430 seconds.\n",
      "Epoch 83 Loss 0.215821 Duration 10.566 seconds.\n",
      "Epoch 84 Loss 0.238234 Duration 10.710 seconds.\n",
      "Epoch 85 Loss 0.251404 Duration 10.337 seconds.\n",
      "Epoch 86 Loss 0.125359 Duration 10.400 seconds.\n",
      "Epoch 87 Loss 0.080218 Duration 10.184 seconds.\n",
      "Epoch 88 Loss 0.155909 Duration 9.813 seconds.\n",
      "Epoch 89 Loss 0.093635 Duration 9.826 seconds.\n",
      "Epoch 90 Loss 0.099077 Duration 10.355 seconds.\n",
      "Checkpoint has been created.\n",
      "Epoch 91 Loss 0.091135 Duration 10.085 seconds.\n",
      "Epoch 92 Loss 0.090913 Duration 10.259 seconds.\n",
      "Epoch 93 Loss 0.045987 Duration 10.334 seconds.\n",
      "Epoch 94 Loss 0.177040 Duration 10.051 seconds.\n",
      "Epoch 95 Loss 0.133562 Duration 9.737 seconds.\n",
      "Epoch 96 Loss 0.103899 Duration 10.167 seconds.\n",
      "Epoch 97 Loss 0.068744 Duration 10.003 seconds.\n",
      "Epoch 98 Loss 0.094770 Duration 10.126 seconds.\n",
      "Epoch 99 Loss 0.112204 Duration 10.218 seconds.\n",
      "Epoch 100 Loss 0.130642 Duration 10.149 seconds.\n",
      "Checkpoint has been created.\n"
     ]
    },
    {
     "data": {
      "image/png": "[encoded data removed]",
      "text/plain": [
       "<Figure size 640x480 with 1 Axes>"
      ]
     },
     "metadata": {},
     "output_type": "display_data"
    },
    {
     "name": "stdout",
     "output_type": "stream",
     "text": [
      "\n",
      "--- Validation ---\n",
      "### Test or Validation ###\n",
      "Restored model parameters from models/resnet18_no_bn/0.003/model-80.ckpt\n"
     ]
    },
    {
     "name": "stderr",
     "output_type": "stream",
     "text": [
      "100%|██████████| 5000/5000 [00:05<00:00, 863.46it/s]\n"
     ]
    },
    {
     "name": "stdout",
     "output_type": "stream",
     "text": [
      "Checkpoint 80 Test accuracy: 0.8420\n",
      "Restored model parameters from models/resnet18_no_bn/0.003/model-90.ckpt\n"
     ]
    },
    {
     "name": "stderr",
     "output_type": "stream",
     "text": [
      "100%|██████████| 5000/5000 [00:05<00:00, 875.15it/s]\n"
     ]
    },
    {
     "name": "stdout",
     "output_type": "stream",
     "text": [
      "Checkpoint 90 Test accuracy: 0.8410\n",
      "Restored model parameters from models/resnet18_no_bn/0.003/model-100.ckpt\n"
     ]
    },
    {
     "name": "stderr",
     "output_type": "stream",
     "text": [
      "100%|██████████| 5000/5000 [00:05<00:00, 878.89it/s]\n"
     ]
    },
    {
     "name": "stdout",
     "output_type": "stream",
     "text": [
      "Checkpoint 100 Test accuracy: 0.8454\n",
      "\n",
      "--- Test ---\n",
      "### Test or Validation ###\n",
      "Restored model parameters from models/resnet18_no_bn/0.003/model-100.ckpt\n"
     ]
    },
    {
     "name": "stderr",
     "output_type": "stream",
     "text": [
      "100%|██████████| 10000/10000 [00:11<00:00, 870.83it/s]\n"
     ]
    },
    {
     "name": "stdout",
     "output_type": "stream",
     "text": [
      "Checkpoint 100 Test accuracy: 0.8394\n",
      "\n",
      "--- Training with learning rate 0.01, Residual: True, BatchNorm: False ---\n",
      "### Training... ###\n",
      "Epoch 1 Loss 1.600063 Duration 10.113 seconds.\n",
      "Epoch 2 Loss 1.362447 Duration 10.046 seconds.\n",
      "Epoch 3 Loss 1.280973 Duration 10.105 seconds.\n",
      "Epoch 4 Loss 1.209024 Duration 9.670 seconds.\n",
      "Epoch 5 Loss 1.095253 Duration 9.547 seconds.\n",
      "Epoch 6 Loss 1.114843 Duration 9.623 seconds.\n",
      "Epoch 7 Loss 1.062204 Duration 9.822 seconds.\n",
      "Epoch 8 Loss 0.968813 Duration 10.159 seconds.\n",
      "Epoch 9 Loss 0.994307 Duration 10.034 seconds.\n",
      "Epoch 10 Loss 1.113687 Duration 10.302 seconds.\n",
      "Checkpoint has been created.\n",
      "Epoch 11 Loss 0.861970 Duration 9.864 seconds.\n",
      "Epoch 12 Loss 1.042610 Duration 10.338 seconds.\n",
      "Epoch 13 Loss 0.941200 Duration 10.288 seconds.\n",
      "Epoch 14 Loss 0.999202 Duration 10.431 seconds.\n",
      "Epoch 15 Loss 0.805528 Duration 10.048 seconds.\n",
      "Epoch 16 Loss 0.925751 Duration 10.338 seconds.\n",
      "Epoch 17 Loss 0.770170 Duration 10.160 seconds.\n",
      "Epoch 18 Loss 0.716613 Duration 10.170 seconds.\n",
      "Epoch 19 Loss 0.745629 Duration 10.145 seconds.\n",
      "Epoch 20 Loss 0.860434 Duration 9.989 seconds.\n",
      "Checkpoint has been created.\n",
      "Epoch 21 Loss 0.751435 Duration 9.780 seconds.\n",
      "Epoch 22 Loss 0.926418 Duration 9.946 seconds.\n",
      "Epoch 23 Loss 0.608987 Duration 9.959 seconds.\n",
      "Epoch 24 Loss 0.767606 Duration 10.314 seconds.\n",
      "Epoch 25 Loss 0.918199 Duration 9.998 seconds.\n",
      "Epoch 26 Loss 0.758729 Duration 10.047 seconds.\n",
      "Epoch 27 Loss 0.703818 Duration 10.003 seconds.\n",
      "Epoch 28 Loss 0.717557 Duration 10.277 seconds.\n",
      "Epoch 29 Loss 0.705573 Duration 9.888 seconds.\n",
      "Epoch 30 Loss 0.694501 Duration 9.945 seconds.\n",
      "Checkpoint has been created.\n",
      "Epoch 31 Loss 0.693505 Duration 9.816 seconds.\n",
      "Epoch 32 Loss 0.623814 Duration 10.188 seconds.\n",
      "Epoch 33 Loss 0.746051 Duration 9.931 seconds.\n",
      "Epoch 34 Loss 0.725726 Duration 10.252 seconds.\n",
      "Epoch 35 Loss 0.573837 Duration 10.304 seconds.\n",
      "Epoch 36 Loss 0.567349 Duration 10.534 seconds.\n",
      "Epoch 37 Loss 0.701215 Duration 10.493 seconds.\n",
      "Epoch 38 Loss 0.616616 Duration 10.381 seconds.\n",
      "Epoch 39 Loss 0.469478 Duration 10.402 seconds.\n",
      "Epoch 40 Loss 0.648621 Duration 10.335 seconds.\n",
      "Checkpoint has been created.\n",
      "Epoch 41 Loss 0.690307 Duration 9.970 seconds.\n",
      "Epoch 42 Loss 0.596253 Duration 9.817 seconds.\n",
      "Epoch 43 Loss 0.518821 Duration 9.807 seconds.\n",
      "Epoch 44 Loss 0.791990 Duration 10.215 seconds.\n",
      "Epoch 45 Loss 0.468221 Duration 9.988 seconds.\n",
      "Epoch 46 Loss 0.544656 Duration 10.153 seconds.\n",
      "Epoch 47 Loss 0.487095 Duration 9.998 seconds.\n",
      "Epoch 48 Loss 0.496946 Duration 9.978 seconds.\n",
      "Epoch 49 Loss 0.759968 Duration 9.818 seconds.\n",
      "Epoch 50 Loss 0.695442 Duration 10.245 seconds.\n",
      "Checkpoint has been created.\n",
      "Epoch 51 Loss 0.408328 Duration 9.808 seconds.\n",
      "Epoch 52 Loss 0.495500 Duration 9.818 seconds.\n",
      "Epoch 53 Loss 0.403678 Duration 10.154 seconds.\n",
      "Epoch 54 Loss 0.470115 Duration 9.947 seconds.\n",
      "Epoch 55 Loss 0.582841 Duration 10.297 seconds.\n",
      "Epoch 56 Loss 0.611149 Duration 9.921 seconds.\n",
      "Epoch 57 Loss 0.495062 Duration 10.078 seconds.\n",
      "Epoch 58 Loss 0.488656 Duration 10.437 seconds.\n",
      "Epoch 59 Loss 0.419382 Duration 10.111 seconds.\n",
      "Epoch 60 Loss 0.384615 Duration 10.298 seconds.\n",
      "Checkpoint has been created.\n",
      "Epoch 61 Loss 0.412080 Duration 10.284 seconds.\n",
      "Epoch 62 Loss 0.277201 Duration 10.119 seconds.\n",
      "Epoch 63 Loss 0.373278 Duration 9.697 seconds.\n",
      "Epoch 64 Loss 0.470071 Duration 9.773 seconds.\n",
      "Epoch 65 Loss 0.572173 Duration 10.185 seconds.\n",
      "Epoch 66 Loss 0.301689 Duration 10.347 seconds.\n",
      "Epoch 67 Loss 0.451240 Duration 9.999 seconds.\n",
      "Epoch 68 Loss 0.322687 Duration 10.189 seconds.\n",
      "Epoch 69 Loss 0.473318 Duration 10.219 seconds.\n",
      "Epoch 70 Loss 0.524183 Duration 10.247 seconds.\n",
      "Checkpoint has been created.\n",
      "Epoch 71 Loss 0.472053 Duration 10.228 seconds.\n",
      "Epoch 72 Loss 0.434575 Duration 9.777 seconds.\n",
      "Epoch 73 Loss 0.292937 Duration 10.223 seconds.\n",
      "Epoch 74 Loss 0.393600 Duration 10.128 seconds.\n",
      "Epoch 75 Loss 0.333829 Duration 10.307 seconds.\n",
      "Epoch 76 Loss 0.390547 Duration 10.111 seconds.\n",
      "Epoch 77 Loss 0.372735 Duration 9.852 seconds.\n",
      "Epoch 78 Loss 0.393899 Duration 10.083 seconds.\n",
      "Epoch 79 Loss 0.334921 Duration 10.324 seconds.\n",
      "Epoch 80 Loss 0.439094 Duration 9.876 seconds.\n",
      "Checkpoint has been created.\n",
      "Epoch 81 Loss 0.309894 Duration 10.020 seconds.\n",
      "Epoch 82 Loss 0.438228 Duration 10.203 seconds.\n",
      "Epoch 83 Loss 0.422997 Duration 10.490 seconds.\n",
      "Epoch 84 Loss 0.422674 Duration 10.499 seconds.\n",
      "Epoch 85 Loss 0.346489 Duration 9.869 seconds.\n",
      "Epoch 86 Loss 0.416475 Duration 10.273 seconds.\n",
      "Epoch 87 Loss 0.358469 Duration 10.390 seconds.\n",
      "Epoch 88 Loss 0.327552 Duration 10.046 seconds.\n",
      "Epoch 89 Loss 0.331762 Duration 10.182 seconds.\n",
      "Epoch 90 Loss 0.462652 Duration 10.127 seconds.\n",
      "Checkpoint has been created.\n",
      "Epoch 91 Loss 0.277224 Duration 9.971 seconds.\n",
      "Epoch 92 Loss 0.306707 Duration 10.326 seconds.\n",
      "Epoch 93 Loss 0.375146 Duration 9.866 seconds.\n",
      "Epoch 94 Loss 0.536641 Duration 10.087 seconds.\n",
      "Epoch 95 Loss 0.298201 Duration 10.033 seconds.\n",
      "Epoch 96 Loss 0.311944 Duration 10.100 seconds.\n",
      "Epoch 97 Loss 0.315982 Duration 9.938 seconds.\n",
      "Epoch 98 Loss 0.359120 Duration 9.950 seconds.\n",
      "Epoch 99 Loss 0.406263 Duration 10.117 seconds.\n",
      "Epoch 100 Loss 0.428711 Duration 9.798 seconds.\n",
      "Checkpoint has been created.\n"
     ]
    },
    {
     "data": {
      "image/png": "[encoded data removed]",
      "text/plain": [
       "<Figure size 640x480 with 1 Axes>"
      ]
     },
     "metadata": {},
     "output_type": "display_data"
    },
    {
     "name": "stdout",
     "output_type": "stream",
     "text": [
      "\n",
      "--- Validation ---\n",
      "### Test or Validation ###\n",
      "Restored model parameters from models/resnet18_no_bn/0.01/model-80.ckpt\n"
     ]
    },
    {
     "name": "stderr",
     "output_type": "stream",
     "text": [
      "100%|██████████| 5000/5000 [00:05<00:00, 882.28it/s]\n"
     ]
    },
    {
     "name": "stdout",
     "output_type": "stream",
     "text": [
      "Checkpoint 80 Test accuracy: 0.8042\n",
      "Restored model parameters from models/resnet18_no_bn/0.01/model-90.ckpt\n"
     ]
    },
    {
     "name": "stderr",
     "output_type": "stream",
     "text": [
      "100%|██████████| 5000/5000 [00:05<00:00, 886.80it/s]\n"
     ]
    },
    {
     "name": "stdout",
     "output_type": "stream",
     "text": [
      "Checkpoint 90 Test accuracy: 0.8146\n",
      "Restored model parameters from models/resnet18_no_bn/0.01/model-100.ckpt\n"
     ]
    },
    {
     "name": "stderr",
     "output_type": "stream",
     "text": [
      "100%|██████████| 5000/5000 [00:05<00:00, 886.48it/s]\n"
     ]
    },
    {
     "name": "stdout",
     "output_type": "stream",
     "text": [
      "Checkpoint 100 Test accuracy: 0.8204\n",
      "\n",
      "--- Test ---\n",
      "### Test or Validation ###\n",
      "Restored model parameters from models/resnet18_no_bn/0.01/model-100.ckpt\n"
     ]
    },
    {
     "name": "stderr",
     "output_type": "stream",
     "text": [
      "100%|██████████| 10000/10000 [00:11<00:00, 882.70it/s]\n"
     ]
    },
    {
     "name": "stdout",
     "output_type": "stream",
     "text": [
      "Checkpoint 100 Test accuracy: 0.8119\n",
      "\n",
      "--- Training with learning rate 0.03, Residual: True, BatchNorm: False ---\n",
      "### Training... ###\n",
      "Epoch 1 Loss 1.801039 Duration 10.208 seconds.\n",
      "Epoch 2 Loss 1.777329 Duration 10.097 seconds.\n",
      "Epoch 3 Loss 1.538169 Duration 9.658 seconds.\n",
      "Epoch 4 Loss 1.463295 Duration 10.016 seconds.\n",
      "Epoch 5 Loss 1.512583 Duration 9.943 seconds.\n",
      "Epoch 6 Loss 1.439471 Duration 9.855 seconds.\n",
      "Epoch 7 Loss 1.466957 Duration 10.141 seconds.\n",
      "Epoch 8 Loss 1.267879 Duration 10.247 seconds.\n",
      "Epoch 9 Loss 1.275354 Duration 10.084 seconds.\n",
      "Epoch 10 Loss 1.305468 Duration 10.021 seconds.\n",
      "Checkpoint has been created.\n",
      "Epoch 11 Loss 1.151516 Duration 9.882 seconds.\n",
      "Epoch 12 Loss 1.213473 Duration 9.641 seconds.\n",
      "Epoch 13 Loss 1.325982 Duration 10.036 seconds.\n",
      "Epoch 14 Loss 1.303251 Duration 10.356 seconds.\n",
      "Epoch 15 Loss 1.096759 Duration 9.952 seconds.\n",
      "Epoch 16 Loss 1.170395 Duration 10.198 seconds.\n",
      "Epoch 17 Loss 1.137867 Duration 9.956 seconds.\n",
      "Epoch 18 Loss 1.099416 Duration 9.741 seconds.\n",
      "Epoch 19 Loss 1.028569 Duration 10.077 seconds.\n",
      "Epoch 20 Loss 1.084782 Duration 10.232 seconds.\n",
      "Checkpoint has been created.\n",
      "Epoch 21 Loss 1.005346 Duration 10.272 seconds.\n",
      "Epoch 22 Loss 1.171312 Duration 10.248 seconds.\n",
      "Epoch 23 Loss 1.020448 Duration 9.740 seconds.\n",
      "Epoch 24 Loss 1.027273 Duration 9.731 seconds.\n",
      "Epoch 25 Loss 1.105355 Duration 10.062 seconds.\n",
      "Epoch 26 Loss 0.910750 Duration 9.984 seconds.\n",
      "Epoch 27 Loss 1.128861 Duration 10.264 seconds.\n",
      "Epoch 28 Loss 1.004350 Duration 9.811 seconds.\n",
      "Epoch 29 Loss 1.173993 Duration 10.023 seconds.\n",
      "Epoch 30 Loss 1.148881 Duration 10.325 seconds.\n",
      "Checkpoint has been created.\n",
      "Epoch 31 Loss 1.058748 Duration 10.131 seconds.\n",
      "Epoch 32 Loss 1.026651 Duration 10.104 seconds.\n",
      "Epoch 33 Loss 0.977668 Duration 10.438 seconds.\n",
      "Epoch 34 Loss 1.207007 Duration 10.317 seconds.\n",
      "Epoch 35 Loss 0.910024 Duration 10.143 seconds.\n",
      "Epoch 36 Loss 0.866895 Duration 10.083 seconds.\n",
      "Epoch 37 Loss 0.999212 Duration 10.026 seconds.\n",
      "Epoch 38 Loss 1.088867 Duration 10.191 seconds.\n",
      "Epoch 39 Loss 0.905020 Duration 10.014 seconds.\n",
      "Epoch 40 Loss 1.117488 Duration 10.049 seconds.\n",
      "Checkpoint has been created.\n",
      "Epoch 41 Loss 1.229726 Duration 9.802 seconds.\n",
      "Epoch 42 Loss 1.140513 Duration 9.813 seconds.\n",
      "Epoch 43 Loss 0.908217 Duration 9.991 seconds.\n",
      "Epoch 44 Loss 0.973688 Duration 9.923 seconds.\n",
      "Epoch 45 Loss 0.994952 Duration 9.845 seconds.\n",
      "Epoch 46 Loss 0.948145 Duration 10.137 seconds.\n",
      "Epoch 47 Loss 0.904495 Duration 10.177 seconds.\n",
      "Epoch 48 Loss 0.988818 Duration 10.240 seconds.\n",
      "Epoch 49 Loss 0.944759 Duration 10.043 seconds.\n",
      "Epoch 50 Loss 0.865620 Duration 10.139 seconds.\n",
      "Checkpoint has been created.\n",
      "Epoch 51 Loss 0.926721 Duration 9.967 seconds.\n",
      "Epoch 52 Loss 1.009929 Duration 10.267 seconds.\n",
      "Epoch 53 Loss 0.862739 Duration 10.490 seconds.\n",
      "Epoch 54 Loss 0.986210 Duration 9.977 seconds.\n",
      "Epoch 55 Loss 1.069807 Duration 9.698 seconds.\n",
      "Epoch 56 Loss 0.969114 Duration 9.820 seconds.\n",
      "Epoch 57 Loss 0.761794 Duration 10.312 seconds.\n",
      "Epoch 58 Loss 0.759978 Duration 10.469 seconds.\n",
      "Epoch 59 Loss 0.816346 Duration 10.214 seconds.\n",
      "Epoch 60 Loss 0.671838 Duration 9.950 seconds.\n",
      "Checkpoint has been created.\n",
      "Epoch 61 Loss 0.872553 Duration 10.283 seconds.\n",
      "Epoch 62 Loss 0.900866 Duration 10.237 seconds.\n",
      "Epoch 63 Loss 0.800602 Duration 10.380 seconds.\n",
      "Epoch 64 Loss 0.917938 Duration 10.591 seconds.\n",
      "Epoch 65 Loss 0.929361 Duration 10.969 seconds.\n",
      "Epoch 66 Loss 0.820533 Duration 10.714 seconds.\n",
      "Epoch 67 Loss 0.663858 Duration 9.955 seconds.\n",
      "Epoch 68 Loss 0.863048 Duration 10.276 seconds.\n",
      "Epoch 69 Loss 0.759782 Duration 10.162 seconds.\n",
      "Epoch 70 Loss 0.789953 Duration 10.363 seconds.\n",
      "Checkpoint has been created.\n",
      "Epoch 71 Loss 0.821462 Duration 10.310 seconds.\n",
      "Epoch 72 Loss 1.033277 Duration 10.344 seconds.\n",
      "Epoch 73 Loss 0.683506 Duration 10.049 seconds.\n",
      "Epoch 74 Loss 0.794235 Duration 9.656 seconds.\n",
      "Epoch 75 Loss 0.845229 Duration 9.618 seconds.\n",
      "Epoch 76 Loss 0.713168 Duration 9.743 seconds.\n",
      "Epoch 77 Loss 0.714892 Duration 9.792 seconds.\n",
      "Epoch 78 Loss 0.797459 Duration 9.996 seconds.\n",
      "Epoch 79 Loss 0.888057 Duration 10.232 seconds.\n",
      "Epoch 80 Loss 0.699613 Duration 9.683 seconds.\n",
      "Checkpoint has been created.\n",
      "Epoch 81 Loss 0.731100 Duration 10.413 seconds.\n",
      "Epoch 82 Loss 0.640343 Duration 10.469 seconds.\n",
      "Epoch 83 Loss 0.629774 Duration 10.415 seconds.\n",
      "Epoch 84 Loss 0.955009 Duration 10.222 seconds.\n",
      "Epoch 85 Loss 1.023586 Duration 9.933 seconds.\n",
      "Epoch 86 Loss 0.747032 Duration 10.242 seconds.\n",
      "Epoch 87 Loss 0.716447 Duration 10.336 seconds.\n",
      "Epoch 88 Loss 0.829045 Duration 10.076 seconds.\n",
      "Epoch 89 Loss 0.779972 Duration 10.349 seconds.\n",
      "Epoch 90 Loss 0.649871 Duration 10.303 seconds.\n",
      "Checkpoint has been created.\n",
      "Epoch 91 Loss 0.642410 Duration 9.881 seconds.\n",
      "Epoch 92 Loss 0.881960 Duration 9.964 seconds.\n",
      "Epoch 93 Loss 0.645351 Duration 9.867 seconds.\n",
      "Epoch 94 Loss 0.706713 Duration 10.059 seconds.\n",
      "Epoch 95 Loss 0.763976 Duration 10.215 seconds.\n",
      "Epoch 96 Loss 0.635909 Duration 10.267 seconds.\n",
      "Epoch 97 Loss 0.906333 Duration 10.285 seconds.\n",
      "Epoch 98 Loss 0.844590 Duration 10.275 seconds.\n",
      "Epoch 99 Loss 0.843526 Duration 9.897 seconds.\n",
      "Epoch 100 Loss 0.722284 Duration 10.171 seconds.\n",
      "Checkpoint has been created.\n"
     ]
    },
    {
     "data": {
      "image/png": "[encoded data removed]",
      "text/plain": [
       "<Figure size 640x480 with 1 Axes>"
      ]
     },
     "metadata": {},
     "output_type": "display_data"
    },
    {
     "name": "stdout",
     "output_type": "stream",
     "text": [
      "\n",
      "--- Validation ---\n",
      "### Test or Validation ###\n",
      "Restored model parameters from models/resnet18_no_bn/0.03/model-80.ckpt\n"
     ]
    },
    {
     "name": "stderr",
     "output_type": "stream",
     "text": [
      "100%|██████████| 5000/5000 [00:05<00:00, 877.91it/s]\n"
     ]
    },
    {
     "name": "stdout",
     "output_type": "stream",
     "text": [
      "Checkpoint 80 Test accuracy: 0.7046\n",
      "Restored model parameters from models/resnet18_no_bn/0.03/model-90.ckpt\n"
     ]
    },
    {
     "name": "stderr",
     "output_type": "stream",
     "text": [
      "100%|██████████| 5000/5000 [00:05<00:00, 865.32it/s]\n"
     ]
    },
    {
     "name": "stdout",
     "output_type": "stream",
     "text": [
      "Checkpoint 90 Test accuracy: 0.7106\n",
      "Restored model parameters from models/resnet18_no_bn/0.03/model-100.ckpt\n"
     ]
    },
    {
     "name": "stderr",
     "output_type": "stream",
     "text": [
      "100%|██████████| 5000/5000 [00:05<00:00, 871.97it/s]\n"
     ]
    },
    {
     "name": "stdout",
     "output_type": "stream",
     "text": [
      "Checkpoint 100 Test accuracy: 0.7200\n",
      "\n",
      "--- Test ---\n",
      "### Test or Validation ###\n",
      "Restored model parameters from models/resnet18_no_bn/0.03/model-100.ckpt\n"
     ]
    },
    {
     "name": "stderr",
     "output_type": "stream",
     "text": [
      "100%|██████████| 10000/10000 [00:11<00:00, 876.69it/s]"
     ]
    },
    {
     "name": "stdout",
     "output_type": "stream",
     "text": [
      "Checkpoint 100 Test accuracy: 0.7099\n"
     ]
    },
    {
     "name": "stderr",
     "output_type": "stream",
     "text": [
      "\n"
     ]
    }
   ],
   "source": [
    "# Device setup (use GPU if available)\n",
    "device = torch.device(\"cuda\" if torch.cuda.is_available() else \"cpu\")\n",
    "\n",
    "# Directory for saving models\n",
    "MODEL_DIR = \"models\"\n",
    "os.makedirs(MODEL_DIR, exist_ok=True)\n",
    "\n",
    "# Define configurations for ResNet variations\n",
    "configs = [\n",
    "    {\"use_residual\": True, \"use_bn\": True, \"modeldir\": os.path.join(MODEL_DIR, \"resnet18\")},\n",
    "    {\"use_residual\": False, \"use_bn\": True, \"modeldir\": os.path.join(MODEL_DIR, \"resnet18_no_residual\")},\n",
    "    {\"use_residual\": True, \"use_bn\": False, \"modeldir\": os.path.join(MODEL_DIR, \"resnet18_no_bn\")}\n",
    "]\n",
    "\n",
    "# Define learning rates to test\n",
    "learning_rates = [0.003, 0.01, 0.03]\n",
    "\n",
    "# Run experiments for each configuration and learning rate\n",
    "for config in configs:\n",
    "    for lr in learning_rates:\n",
    "        lr_modeldir = os.path.join(config[\"modeldir\"], str(lr))\n",
    "        os.makedirs(lr_modeldir, exist_ok=True)\n",
    "        run_experiment(\n",
    "            batch_size=128,\n",
    "            save_interval=10,\n",
    "            weight_decay=2e-4,\n",
    "            learning_rate=lr,\n",
    "            modeldir=lr_modeldir,\n",
    "            use_residual=config[\"use_residual\"],\n",
    "            use_bn=config[\"use_bn\"],\n",
    "            device=device\n",
    "        )\n"
   ]
  }
 ],
 "metadata": {
  "kernelspec": {
   "display_name": "Python 3",
   "language": "python",
   "name": "python3"
  },
  "language_info": {
   "codemirror_mode": {
    "name": "ipython",
    "version": 3
   },
   "file_extension": ".py",
   "mimetype": "text/x-python",
   "name": "python",
   "nbconvert_exporter": "python",
   "pygments_lexer": "ipython3",
   "version": "3.10.12"
  }
 },
 "nbformat": 4,
 "nbformat_minor": 2
}
